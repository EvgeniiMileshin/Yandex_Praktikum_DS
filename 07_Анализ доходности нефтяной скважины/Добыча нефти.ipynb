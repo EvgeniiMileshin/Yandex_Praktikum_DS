{
 "cells": [
  {
   "cell_type": "markdown",
   "metadata": {},
   "source": [
    "# Анализ доходности нефтяной скважины."
   ]
  },
  {
   "cell_type": "markdown",
   "metadata": {},
   "source": [
    "# Описание проекта"
   ]
  },
  {
   "cell_type": "markdown",
   "metadata": {},
   "source": [
    "Допустим, вы работаете в добывающей компании «ГлавРосГосНефть». Нужно решить, где бурить новую скважину.\n",
    "\n",
    "Вам предоставлены пробы нефти в трёх регионах: в каждом 10 000 месторождений, где измерили качество нефти и объём её запасов. Постройте модель машинного обучения, которая поможет определить регион, где добыча принесёт наибольшую прибыль. Проанализируйте возможную прибыль и риски техникой *Bootstrap.*\n",
    "\n",
    "Шаги для выбора локации:\n",
    "\n",
    "- В избранном регионе ищут месторождения, для каждого определяют значения признаков;\n",
    "- Строят модель и оценивают объём запасов;\n",
    "- Выбирают месторождения с самым высокими оценками значений. Количество месторождений зависит от бюджета компании и стоимости разработки одной скважины;\n",
    "- Прибыль равна суммарной прибыли отобранных месторождений.\n",
    "\n",
    "Условия задачи:\n",
    "- Для обучения модели подходит только линейная регрессия (остальные — недостаточно предсказуемые).\n",
    "- При разведке региона проводится исследование 500 точек.\n",
    "- Бюджет на разработку месторождений — 10 млрд рублей, стоимость бурения одной скважины — 50 млн рублей.\n",
    "- Один баррель сырья приносит 4500 рублей прибыли.\n",
    "- Не рассматривать регионы, в которых риск убытков выше 2.5%. Из оставшихся выбирается регион с наибольшей средней прибылью."
   ]
  },
  {
   "cell_type": "markdown",
   "metadata": {},
   "source": [
    "# 1. Загрузка и подготовка данных"
   ]
  },
  {
   "cell_type": "code",
   "execution_count": 1,
   "metadata": {},
   "outputs": [],
   "source": [
    "# импорт библиотек\n",
    "import pandas as pd\n",
    "import numpy as np\n",
    "import seaborn as sns\n",
    "import matplotlib.pyplot as plt\n",
    "\n",
    "from sklearn.preprocessing import StandardScaler\n",
    "from sklearn.model_selection import train_test_split\n",
    "from sklearn.model_selection import cross_val_score, KFold\n",
    "\n",
    "# модель\n",
    "from sklearn.linear_model import LinearRegression\n",
    "\n",
    "# метрика\n",
    "from sklearn.metrics import mean_squared_error"
   ]
  },
  {
   "cell_type": "code",
   "execution_count": 2,
   "metadata": {},
   "outputs": [
    {
     "data": {
      "text/html": [
       "<div>\n",
       "<style scoped>\n",
       "    .dataframe tbody tr th:only-of-type {\n",
       "        vertical-align: middle;\n",
       "    }\n",
       "\n",
       "    .dataframe tbody tr th {\n",
       "        vertical-align: top;\n",
       "    }\n",
       "\n",
       "    .dataframe thead th {\n",
       "        text-align: right;\n",
       "    }\n",
       "</style>\n",
       "<table border=\"1\" class=\"dataframe\">\n",
       "  <thead>\n",
       "    <tr style=\"text-align: right;\">\n",
       "      <th></th>\n",
       "      <th>id</th>\n",
       "      <th>f0</th>\n",
       "      <th>f1</th>\n",
       "      <th>f2</th>\n",
       "      <th>product</th>\n",
       "    </tr>\n",
       "  </thead>\n",
       "  <tbody>\n",
       "    <tr>\n",
       "      <td>0</td>\n",
       "      <td>txEyH</td>\n",
       "      <td>0.705745</td>\n",
       "      <td>-0.497823</td>\n",
       "      <td>1.22117</td>\n",
       "      <td>105.280062</td>\n",
       "    </tr>\n",
       "    <tr>\n",
       "      <td>1</td>\n",
       "      <td>2acmU</td>\n",
       "      <td>1.334711</td>\n",
       "      <td>-0.340164</td>\n",
       "      <td>4.36508</td>\n",
       "      <td>73.037750</td>\n",
       "    </tr>\n",
       "  </tbody>\n",
       "</table>\n",
       "</div>"
      ],
      "text/plain": [
       "      id        f0        f1       f2     product\n",
       "0  txEyH  0.705745 -0.497823  1.22117  105.280062\n",
       "1  2acmU  1.334711 -0.340164  4.36508   73.037750"
      ]
     },
     "execution_count": 2,
     "metadata": {},
     "output_type": "execute_result"
    }
   ],
   "source": [
    "# чтение файла и печать общей информации\n",
    "df_1 = pd.read_csv('/datasets/geo_data_0.csv')\n",
    "df_2 = pd.read_csv('/datasets/geo_data_1.csv')\n",
    "df_3 = pd.read_csv('/datasets/geo_data_2.csv')\n",
    "\n",
    "df_1.head(2)"
   ]
  },
  {
   "cell_type": "code",
   "execution_count": 3,
   "metadata": {},
   "outputs": [
    {
     "data": {
      "text/html": [
       "<div>\n",
       "<style scoped>\n",
       "    .dataframe tbody tr th:only-of-type {\n",
       "        vertical-align: middle;\n",
       "    }\n",
       "\n",
       "    .dataframe tbody tr th {\n",
       "        vertical-align: top;\n",
       "    }\n",
       "\n",
       "    .dataframe thead th {\n",
       "        text-align: right;\n",
       "    }\n",
       "</style>\n",
       "<table border=\"1\" class=\"dataframe\">\n",
       "  <thead>\n",
       "    <tr style=\"text-align: right;\">\n",
       "      <th></th>\n",
       "      <th>id</th>\n",
       "      <th>f0</th>\n",
       "      <th>f1</th>\n",
       "      <th>f2</th>\n",
       "      <th>product</th>\n",
       "    </tr>\n",
       "  </thead>\n",
       "  <tbody>\n",
       "    <tr>\n",
       "      <td>0</td>\n",
       "      <td>kBEdx</td>\n",
       "      <td>-15.001348</td>\n",
       "      <td>-8.276000</td>\n",
       "      <td>-0.005876</td>\n",
       "      <td>3.179103</td>\n",
       "    </tr>\n",
       "    <tr>\n",
       "      <td>1</td>\n",
       "      <td>62mP7</td>\n",
       "      <td>14.272088</td>\n",
       "      <td>-3.475083</td>\n",
       "      <td>0.999183</td>\n",
       "      <td>26.953261</td>\n",
       "    </tr>\n",
       "  </tbody>\n",
       "</table>\n",
       "</div>"
      ],
      "text/plain": [
       "      id         f0        f1        f2    product\n",
       "0  kBEdx -15.001348 -8.276000 -0.005876   3.179103\n",
       "1  62mP7  14.272088 -3.475083  0.999183  26.953261"
      ]
     },
     "execution_count": 3,
     "metadata": {},
     "output_type": "execute_result"
    }
   ],
   "source": [
    "df_2.head(2)"
   ]
  },
  {
   "cell_type": "code",
   "execution_count": 4,
   "metadata": {},
   "outputs": [
    {
     "data": {
      "text/html": [
       "<div>\n",
       "<style scoped>\n",
       "    .dataframe tbody tr th:only-of-type {\n",
       "        vertical-align: middle;\n",
       "    }\n",
       "\n",
       "    .dataframe tbody tr th {\n",
       "        vertical-align: top;\n",
       "    }\n",
       "\n",
       "    .dataframe thead th {\n",
       "        text-align: right;\n",
       "    }\n",
       "</style>\n",
       "<table border=\"1\" class=\"dataframe\">\n",
       "  <thead>\n",
       "    <tr style=\"text-align: right;\">\n",
       "      <th></th>\n",
       "      <th>id</th>\n",
       "      <th>f0</th>\n",
       "      <th>f1</th>\n",
       "      <th>f2</th>\n",
       "      <th>product</th>\n",
       "    </tr>\n",
       "  </thead>\n",
       "  <tbody>\n",
       "    <tr>\n",
       "      <td>0</td>\n",
       "      <td>fwXo0</td>\n",
       "      <td>-1.146987</td>\n",
       "      <td>0.963328</td>\n",
       "      <td>-0.828965</td>\n",
       "      <td>27.758673</td>\n",
       "    </tr>\n",
       "    <tr>\n",
       "      <td>1</td>\n",
       "      <td>WJtFt</td>\n",
       "      <td>0.262778</td>\n",
       "      <td>0.269839</td>\n",
       "      <td>-2.530187</td>\n",
       "      <td>56.069697</td>\n",
       "    </tr>\n",
       "  </tbody>\n",
       "</table>\n",
       "</div>"
      ],
      "text/plain": [
       "      id        f0        f1        f2    product\n",
       "0  fwXo0 -1.146987  0.963328 -0.828965  27.758673\n",
       "1  WJtFt  0.262778  0.269839 -2.530187  56.069697"
      ]
     },
     "execution_count": 4,
     "metadata": {},
     "output_type": "execute_result"
    }
   ],
   "source": [
    "df_3.head(2)"
   ]
  },
  {
   "cell_type": "code",
   "execution_count": 5,
   "metadata": {},
   "outputs": [],
   "source": [
    "# id для обучения можели не нужны их можно удалить\n",
    "df_1 = df_1.drop(['id'], axis=1)\n",
    "df_2 = df_2.drop(['id'], axis=1)\n",
    "df_3 = df_3.drop(['id'], axis=1)"
   ]
  },
  {
   "cell_type": "code",
   "execution_count": 6,
   "metadata": {},
   "outputs": [
    {
     "name": "stdout",
     "output_type": "stream",
     "text": [
      "Регион 1\n",
      "Кол-во строк в обучающей выборке: 75000\n",
      "Кол-во строк в валидационной выборке: 25000\n",
      "\n",
      "Регион 2\n",
      "Кол-во строк в обучающей выборке: 75000\n",
      "Кол-во строк в валидационной выборке: 25000\n",
      "\n",
      "Регион 3\n",
      "Кол-во строк в обучающей выборке: 75000\n",
      "Кол-во строк в валидационной выборке: 25000\n"
     ]
    }
   ],
   "source": [
    "# разделение на 2 выборки (обучающая и валидационная)\n",
    "df_train_1, df_valid_1 = train_test_split(df_1, test_size=0.25, random_state=12345)\n",
    "df_train_2, df_valid_2 = train_test_split(df_2, test_size=0.25, random_state=12345)\n",
    "df_train_3, df_valid_3 = train_test_split(df_3, test_size=0.25, random_state=12345)\n",
    "print('Регион 1')\n",
    "print('Кол-во строк в обучающей выборке:', df_train_1.shape[0])\n",
    "print('Кол-во строк в валидационной выборке:', df_valid_1.shape[0])\n",
    "print('')\n",
    "print('Регион 2')\n",
    "print('Кол-во строк в обучающей выборке:', df_train_2.shape[0])\n",
    "print('Кол-во строк в валидационной выборке:', df_valid_2.shape[0])\n",
    "print('')\n",
    "print('Регион 3')\n",
    "print('Кол-во строк в обучающей выборке:', df_train_3.shape[0])\n",
    "print('Кол-во строк в валидационной выборке:', df_valid_3.shape[0])"
   ]
  },
  {
   "cell_type": "code",
   "execution_count": 7,
   "metadata": {},
   "outputs": [],
   "source": [
    "# разделение на обучающие признаки и целевые. Регион 1\n",
    "features_train_1 = df_train_1.drop(['product'], axis=1)\n",
    "target_train_1 = df_train_1['product']\n",
    "\n",
    "features_valid_1 = df_valid_1.drop(['product'], axis=1)\n",
    "target_valid_1 = df_valid_1['product']\n",
    "\n",
    "# разделение на обучающие признаки и целевые. Регион 2\n",
    "features_train_2 = df_train_2.drop(['product'], axis=1)\n",
    "target_train_2 = df_train_2['product']\n",
    "\n",
    "features_valid_2 = df_valid_2.drop(['product'], axis=1)\n",
    "target_valid_2 = df_valid_2['product']\n",
    "\n",
    "# разделение на обучающие признаки и целевые. Регион 3\n",
    "features_train_3 = df_train_3.drop(['product'], axis=1)\n",
    "target_train_3 = df_train_3['product']\n",
    "\n",
    "features_valid_3 = df_valid_3.drop(['product'], axis=1)\n",
    "target_valid_3 = df_valid_3['product']\n"
   ]
  },
  {
   "cell_type": "code",
   "execution_count": 8,
   "metadata": {},
   "outputs": [],
   "source": [
    "# масштабирование признаков\n",
    "numeric = ['f0', 'f1', 'f2']\n",
    "\n",
    "scaler = StandardScaler()\n",
    "scaler.fit(features_train_1[numeric])\n",
    "features_train_1[numeric] = scaler.transform(features_train_1[numeric])\n",
    "features_valid_1[numeric] = scaler.transform(features_valid_1[numeric])"
   ]
  },
  {
   "cell_type": "code",
   "execution_count": 9,
   "metadata": {},
   "outputs": [],
   "source": [
    "scaler.fit(features_train_2[numeric])\n",
    "features_train_2[numeric] = scaler.transform(features_train_2[numeric])\n",
    "features_valid_2[numeric] = scaler.transform(features_valid_2[numeric])"
   ]
  },
  {
   "cell_type": "code",
   "execution_count": 10,
   "metadata": {},
   "outputs": [],
   "source": [
    "scaler.fit(features_train_3[numeric])\n",
    "features_train_3[numeric] = scaler.transform(features_train_3[numeric])\n",
    "features_valid_3[numeric] = scaler.transform(features_valid_3[numeric])"
   ]
  },
  {
   "cell_type": "markdown",
   "metadata": {},
   "source": [
    "# 2. Обучение и проверка модели"
   ]
  },
  {
   "cell_type": "code",
   "execution_count": 11,
   "metadata": {},
   "outputs": [
    {
     "data": {
      "text/plain": [
       "37.5794217150813"
      ]
     },
     "execution_count": 11,
     "metadata": {},
     "output_type": "execute_result"
    }
   ],
   "source": [
    "line_reg_model_1 = LinearRegression().fit(features_train_1, target_train_1)\n",
    "predicted_valid_1 = line_reg_model_1.predict(features_valid_1)\n",
    "\n",
    "mse = mean_squared_error(target_valid_1, predicted_valid_1)\n",
    "rmse = mse ** 0.5\n",
    "rmse"
   ]
  },
  {
   "cell_type": "code",
   "execution_count": 12,
   "metadata": {},
   "outputs": [
    {
     "data": {
      "text/plain": [
       "0.8930992867756158"
      ]
     },
     "execution_count": 12,
     "metadata": {},
     "output_type": "execute_result"
    }
   ],
   "source": [
    "line_reg_model_2 = LinearRegression().fit(features_train_2, target_train_2)\n",
    "predicted_valid_2 = line_reg_model_2.predict(features_valid_2)\n",
    "\n",
    "mse = mean_squared_error(target_valid_2, predicted_valid_2)\n",
    "rmse = mse ** 0.5\n",
    "rmse"
   ]
  },
  {
   "cell_type": "code",
   "execution_count": 13,
   "metadata": {},
   "outputs": [
    {
     "data": {
      "text/plain": [
       "40.02970873393434"
      ]
     },
     "execution_count": 13,
     "metadata": {},
     "output_type": "execute_result"
    }
   ],
   "source": [
    "line_reg_model_3 = LinearRegression().fit(features_train_3, target_train_3)\n",
    "predicted_valid_3 = line_reg_model_3.predict(features_valid_3)\n",
    "\n",
    "mse = mean_squared_error(target_valid_3, predicted_valid_3)\n",
    "rmse = mse ** 0.5\n",
    "rmse"
   ]
  },
  {
   "cell_type": "markdown",
   "metadata": {},
   "source": [
    "Наименьший уровень ошибки у второй модели по втиорому региону. Точность предсказаний самая высокая."
   ]
  },
  {
   "cell_type": "markdown",
   "metadata": {},
   "source": [
    "# 3. Подготовка к расчёту прибыли"
   ]
  },
  {
   "cell_type": "markdown",
   "metadata": {},
   "source": [
    "Для решений задачи запишем параметры в переменных."
   ]
  },
  {
   "cell_type": "code",
   "execution_count": 14,
   "metadata": {},
   "outputs": [
    {
     "name": "stdout",
     "output_type": "stream",
     "text": [
      "Бюджета хватит на разработку 200 месторождений.\n"
     ]
    }
   ],
   "source": [
    "# запишем условия в переменных\n",
    "coutn_dots_explore = 500\n",
    "total_budget = 10000000000\n",
    "cost_one_oilwell = 50000000\n",
    "profit_per_barrel = 4500\n",
    "risk = 0.025\n",
    "\n",
    "max_oilwell_count = total_budget // cost_one_oilwell # рассичтаем максимальлное колличество скважин\n",
    "print(f'Бюджета хватит на разработку {max_oilwell_count} месторождений.')"
   ]
  },
  {
   "cell_type": "markdown",
   "metadata": {},
   "source": [
    "Посчитаем минимальный объём месторождения для окупаетости бурения скважины."
   ]
  },
  {
   "cell_type": "code",
   "execution_count": 15,
   "metadata": {},
   "outputs": [
    {
     "name": "stdout",
     "output_type": "stream",
     "text": [
      "Минимальный запас месторождения для окупаемости бурения скважины: 11111 баррелей.\n"
     ]
    }
   ],
   "source": [
    "min_product = cost_one_oilwell // profit_per_barrel\n",
    "print(f'Минимальный запас месторождения для окупаемости бурения скважины: {min_product} баррелей.')"
   ]
  },
  {
   "cell_type": "code",
   "execution_count": 16,
   "metadata": {},
   "outputs": [
    {
     "name": "stdout",
     "output_type": "stream",
     "text": [
      "Средний запас в первом регионе: 92.50 тысячи баррелей\n",
      "Средний запас во втором регионе: 68.83 тысяч баррелей\n",
      "Средний запас в тетьем регионе: 95.00 тысяч баррелей\n"
     ]
    }
   ],
   "source": [
    "print(\"Средний запас в первом регионе: {:.2f} тысячи баррелей\".format(df_1['product'].mean()))\n",
    "print(\"Средний запас во втором регионе: {:.2f} тысяч баррелей\".format(df_2['product'].mean()))\n",
    "print(\"Средний запас в тетьем регионе: {:.2f} тысяч баррелей\".format(df_3['product'].mean()))"
   ]
  },
  {
   "cell_type": "markdown",
   "metadata": {},
   "source": [
    "### Вывод:\n",
    "\n",
    "Чтобы бурение скважине не было убыточным, объем месторожения должен быть не менее 11,1 тыс. баррелей.\n",
    "На основание средниих значений по объемам запасов, можно сделать выводы, что в среднем во всех регионах добыча нефти будет прибыльной."
   ]
  },
  {
   "cell_type": "code",
   "execution_count": 17,
   "metadata": {},
   "outputs": [],
   "source": [
    "# функция для расчета прибыли месторожения\n",
    "def profit_oilwell(predicted_target):\n",
    "    max_predicted = (pd.Series(predicted_target)\n",
    "                     .sort_values(ascending=False)\n",
    "                     .head(max_oilwell_count)\n",
    "                    )\n",
    "    total_profit = (max_predicted.sum() * 1000 * profit_per_barrel) - (cost_one_oilwell * len(max_predicted))\n",
    "    return total_profit"
   ]
  },
  {
   "cell_type": "markdown",
   "metadata": {},
   "source": [
    "Функция вычисляет выручку из 200 лучших месторождений."
   ]
  },
  {
   "cell_type": "markdown",
   "metadata": {},
   "source": [
    "# 4. Расчёт прибыли и рисков "
   ]
  },
  {
   "cell_type": "code",
   "execution_count": 18,
   "metadata": {},
   "outputs": [
    {
     "name": "stdout",
     "output_type": "stream",
     "text": [
      "Прибыль 200 месторождений в регионе 1: 129,960,488,774.65\n",
      "Прибыль 200 месторождений в регионе 2: 114,857,120,519.74\n",
      "Прибыль 200 месторождений в регионе 3: 123,217,543,962.43\n"
     ]
    }
   ],
   "source": [
    "# проверим работу функции\n",
    "print(\"Прибыль 200 месторождений в регионе 1: {:,.2f}\".format(profit_oilwell(predicted_valid_1)))\n",
    "print(\"Прибыль 200 месторождений в регионе 2: {:,.2f}\".format(profit_oilwell(predicted_valid_2)))\n",
    "print(\"Прибыль 200 месторождений в регионе 3: {:,.2f}\".format(profit_oilwell(predicted_valid_3)))"
   ]
  },
  {
   "cell_type": "markdown",
   "metadata": {},
   "source": [
    "Первый регион показывает максимальный показатель."
   ]
  },
  {
   "cell_type": "code",
   "execution_count": 19,
   "metadata": {},
   "outputs": [],
   "source": [
    "def bootstrap_profit(data):\n",
    "    state = np.random.RandomState(42)\n",
    "    values = []\n",
    "    data = pd.Series(data)\n",
    "    for i in range(1000):\n",
    "        subsample = data.sample(n=500, replace=True, random_state=state)\n",
    "        values.append(profit_oilwell(subsample))\n",
    "\n",
    "    values = pd.Series(values)\n",
    "    lower = values.quantile(0.025)\n",
    "    upper = values.quantile(0.975)\n",
    "    mean = values.mean()\n",
    "    risk = len(values[values < 0]) / len(values)\n",
    "    \n",
    "    print(\"Нижняя граница доверительного интервала: {:,.2f} руб.\".format(lower))\n",
    "    print(\"Верхняя граница доверительного интервала: {:,.2f} руб.\".format(upper))\n",
    "    print(\"Средняя прибыль: {:,.2f} руб.\".format(mean))\n",
    "    print(\"Риск убытков: {:,.2f}.\".format(risk))"
   ]
  },
  {
   "cell_type": "code",
   "execution_count": 20,
   "metadata": {},
   "outputs": [
    {
     "name": "stdout",
     "output_type": "stream",
     "text": [
      "Регион 1\n",
      "Нижняя граница доверительного интервала: 91,491,440,947.03 руб.\n",
      "Верхняя граница доверительного интервала: 95,761,755,179.74 руб.\n",
      "Средняя прибыль: 93,593,211,744.40 руб.\n",
      "Риск убытков: 0.00.\n",
      "\n",
      "Регион 2\n",
      "Нижняя граница доверительного интервала: 90,643,000,105.11 руб.\n",
      "Верхняя граница доверительного интервала: 98,613,846,043.62 руб.\n",
      "Средняя прибыль: 94,498,416,155.79 руб.\n",
      "Риск убытков: 0.00.\n",
      "\n",
      "Регион 3\n",
      "Нижняя граница доверительного интервала: 90,843,941,436.41 руб.\n",
      "Верхняя граница доверительного интервала: 94,644,572,555.43 руб.\n",
      "Средняя прибыль: 92,750,653,715.98 руб.\n",
      "Риск убытков: 0.00.\n"
     ]
    }
   ],
   "source": [
    "print('Регион 1')\n",
    "bootstrap_profit(predicted_valid_1)\n",
    "print('')\n",
    "print('Регион 2')\n",
    "bootstrap_profit(predicted_valid_2)\n",
    "print('')\n",
    "print('Регион 3')\n",
    "bootstrap_profit(predicted_valid_3)"
   ]
  },
  {
   "cell_type": "markdown",
   "metadata": {},
   "source": [
    "### Вывод:\n",
    "\n",
    "Средняя выручка максимальлная во втором регионе, но с вероятность 95% в перовом регионе выручка составит 91 млрд., а во втором 90 млрд. Таким образом первый регион более перспективный для разработки.\n",
    "\n",
    "Все три региона показывают хороший уровень риска (0.00), что соответсвует заявленным требованиям."
   ]
  },
  {
   "cell_type": "markdown",
   "metadata": {},
   "source": [
    "Поставьте 'x' в выполненных пунктах. Далее нажмите Shift+Enter."
   ]
  },
  {
   "cell_type": "markdown",
   "metadata": {},
   "source": [
    "- [x]  Jupyter Notebook открыт\n",
    "- [x]  Весь код выполняется без ошибок\n",
    "- [x]  Ячейки с кодом расположены в порядке исполнения\n",
    "- [x]  Выполнен шаг 1: данные подготовлены\n",
    "- [x]  Выполнен шаг 2: модели обучены и проверены\n",
    "    - [x]  Данные корректно разбиты на обучающую и валидационную выборки\n",
    "    - [x]  Модели обучены, предсказания сделаны\n",
    "    - [x]  Предсказания и правильные ответы на валидационной выборке сохранены\n",
    "    - [x]  На экране напечатаны результаты\n",
    "    - [x]  Сделаны выводы\n",
    "- [x]  Выполнен шаг 3: проведена подготовка к расчёту прибыли\n",
    "    - [x]  Для всех ключевых значений созданы константы Python\n",
    "    - [x]  Посчитано минимальное среднее количество продукта в месторождениях региона, достаточное для разработки\n",
    "    - [x]  По предыдущему пункту сделаны выводы\n",
    "    - [x]  Написана функция расчёта прибыли\n",
    "- [x]  Выполнен шаг 4: посчитаны риски и прибыль\n",
    "    - [x]  Проведена процедура *Bootstrap*\n",
    "    - [x]  Все параметры бутстрепа соответствуют условию\n",
    "    - [x]  Найдены все нужные величины\n",
    "    - [x]  Предложен регион для разработки месторождения\n",
    "    - [x]  Выбор региона обоснован"
   ]
  },
  {
   "cell_type": "code",
   "execution_count": null,
   "metadata": {},
   "outputs": [],
   "source": []
  }
 ],
 "metadata": {
  "kernelspec": {
   "display_name": "Python 3 (ipykernel)",
   "language": "python",
   "name": "python3"
  },
  "language_info": {
   "codemirror_mode": {
    "name": "ipython",
    "version": 3
   },
   "file_extension": ".py",
   "mimetype": "text/x-python",
   "name": "python",
   "nbconvert_exporter": "python",
   "pygments_lexer": "ipython3",
   "version": "3.8.11"
  }
 },
 "nbformat": 4,
 "nbformat_minor": 2
}
