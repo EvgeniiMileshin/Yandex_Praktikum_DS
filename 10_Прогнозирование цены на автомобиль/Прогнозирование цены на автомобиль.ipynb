{
 "cells": [
  {
   "cell_type": "markdown",
   "metadata": {},
   "source": [
    "#  Прогнозирование цены на автомобиль"
   ]
  },
  {
   "cell_type": "markdown",
   "metadata": {},
   "source": [
    "### Описание проекта\n",
    "\n",
    "Сервис по продаже автомобилей с пробегом «Не бит, не крашен» разрабатывает приложение для привлечения новых клиентов. В нём можно быстро узнать рыночную стоимость своего автомобиля. В вашем распоряжении исторические данные: технические характеристики, комплектации и цены автомобилей. Вам нужно построить модель для определения стоимости. \n",
    "\n",
    "Заказчику важны:\n",
    "\n",
    "- качество предсказания;\n",
    "- скорость предсказания;\n",
    "- время обучения."
   ]
  },
  {
   "cell_type": "markdown",
   "metadata": {},
   "source": [
    "# 1. Подготовка данных"
   ]
  },
  {
   "cell_type": "code",
   "execution_count": 63,
   "metadata": {},
   "outputs": [],
   "source": [
    "# импорт библиотек\n",
    "import pandas as pd\n",
    "import numpy as np\n",
    "import seaborn as sns\n",
    "import matplotlib.pyplot as plt\n",
    "\n",
    "from sklearn.preprocessing import StandardScaler\n",
    "from sklearn.model_selection import train_test_split\n",
    "from sklearn.model_selection import cross_val_score, KFold, GridSearchCV\n",
    "\n",
    "# модель\n",
    "from sklearn.linear_model import LinearRegression\n",
    "from sklearn.tree import DecisionTreeRegressor\n",
    "from sklearn.ensemble import RandomForestRegressor\n",
    "from sklearn import linear_model\n",
    "from catboost import CatBoostRegressor\n",
    "from lightgbm import LGBMRegressor\n",
    "\n",
    "\n",
    "# метрика\n",
    "from sklearn.metrics import mean_squared_error"
   ]
  },
  {
   "cell_type": "code",
   "execution_count": 64,
   "metadata": {
    "scrolled": true
   },
   "outputs": [
    {
     "data": {
      "text/html": [
       "<div>\n",
       "<style scoped>\n",
       "    .dataframe tbody tr th:only-of-type {\n",
       "        vertical-align: middle;\n",
       "    }\n",
       "\n",
       "    .dataframe tbody tr th {\n",
       "        vertical-align: top;\n",
       "    }\n",
       "\n",
       "    .dataframe thead th {\n",
       "        text-align: right;\n",
       "    }\n",
       "</style>\n",
       "<table border=\"1\" class=\"dataframe\">\n",
       "  <thead>\n",
       "    <tr style=\"text-align: right;\">\n",
       "      <th></th>\n",
       "      <th>DateCrawled</th>\n",
       "      <th>Price</th>\n",
       "      <th>VehicleType</th>\n",
       "      <th>RegistrationYear</th>\n",
       "      <th>Gearbox</th>\n",
       "      <th>Power</th>\n",
       "      <th>Model</th>\n",
       "      <th>Kilometer</th>\n",
       "      <th>RegistrationMonth</th>\n",
       "      <th>FuelType</th>\n",
       "      <th>Brand</th>\n",
       "      <th>NotRepaired</th>\n",
       "      <th>DateCreated</th>\n",
       "      <th>NumberOfPictures</th>\n",
       "      <th>PostalCode</th>\n",
       "      <th>LastSeen</th>\n",
       "    </tr>\n",
       "  </thead>\n",
       "  <tbody>\n",
       "    <tr>\n",
       "      <td>0</td>\n",
       "      <td>2016-03-24 11:52:17</td>\n",
       "      <td>480</td>\n",
       "      <td>NaN</td>\n",
       "      <td>1993</td>\n",
       "      <td>manual</td>\n",
       "      <td>0</td>\n",
       "      <td>golf</td>\n",
       "      <td>150000</td>\n",
       "      <td>0</td>\n",
       "      <td>petrol</td>\n",
       "      <td>volkswagen</td>\n",
       "      <td>NaN</td>\n",
       "      <td>2016-03-24 00:00:00</td>\n",
       "      <td>0</td>\n",
       "      <td>70435</td>\n",
       "      <td>2016-04-07 03:16:57</td>\n",
       "    </tr>\n",
       "    <tr>\n",
       "      <td>1</td>\n",
       "      <td>2016-03-24 10:58:45</td>\n",
       "      <td>18300</td>\n",
       "      <td>coupe</td>\n",
       "      <td>2011</td>\n",
       "      <td>manual</td>\n",
       "      <td>190</td>\n",
       "      <td>NaN</td>\n",
       "      <td>125000</td>\n",
       "      <td>5</td>\n",
       "      <td>gasoline</td>\n",
       "      <td>audi</td>\n",
       "      <td>yes</td>\n",
       "      <td>2016-03-24 00:00:00</td>\n",
       "      <td>0</td>\n",
       "      <td>66954</td>\n",
       "      <td>2016-04-07 01:46:50</td>\n",
       "    </tr>\n",
       "    <tr>\n",
       "      <td>2</td>\n",
       "      <td>2016-03-14 12:52:21</td>\n",
       "      <td>9800</td>\n",
       "      <td>suv</td>\n",
       "      <td>2004</td>\n",
       "      <td>auto</td>\n",
       "      <td>163</td>\n",
       "      <td>grand</td>\n",
       "      <td>125000</td>\n",
       "      <td>8</td>\n",
       "      <td>gasoline</td>\n",
       "      <td>jeep</td>\n",
       "      <td>NaN</td>\n",
       "      <td>2016-03-14 00:00:00</td>\n",
       "      <td>0</td>\n",
       "      <td>90480</td>\n",
       "      <td>2016-04-05 12:47:46</td>\n",
       "    </tr>\n",
       "    <tr>\n",
       "      <td>3</td>\n",
       "      <td>2016-03-17 16:54:04</td>\n",
       "      <td>1500</td>\n",
       "      <td>small</td>\n",
       "      <td>2001</td>\n",
       "      <td>manual</td>\n",
       "      <td>75</td>\n",
       "      <td>golf</td>\n",
       "      <td>150000</td>\n",
       "      <td>6</td>\n",
       "      <td>petrol</td>\n",
       "      <td>volkswagen</td>\n",
       "      <td>no</td>\n",
       "      <td>2016-03-17 00:00:00</td>\n",
       "      <td>0</td>\n",
       "      <td>91074</td>\n",
       "      <td>2016-03-17 17:40:17</td>\n",
       "    </tr>\n",
       "    <tr>\n",
       "      <td>4</td>\n",
       "      <td>2016-03-31 17:25:20</td>\n",
       "      <td>3600</td>\n",
       "      <td>small</td>\n",
       "      <td>2008</td>\n",
       "      <td>manual</td>\n",
       "      <td>69</td>\n",
       "      <td>fabia</td>\n",
       "      <td>90000</td>\n",
       "      <td>7</td>\n",
       "      <td>gasoline</td>\n",
       "      <td>skoda</td>\n",
       "      <td>no</td>\n",
       "      <td>2016-03-31 00:00:00</td>\n",
       "      <td>0</td>\n",
       "      <td>60437</td>\n",
       "      <td>2016-04-06 10:17:21</td>\n",
       "    </tr>\n",
       "  </tbody>\n",
       "</table>\n",
       "</div>"
      ],
      "text/plain": [
       "           DateCrawled  Price VehicleType  RegistrationYear Gearbox  Power  \\\n",
       "0  2016-03-24 11:52:17    480         NaN              1993  manual      0   \n",
       "1  2016-03-24 10:58:45  18300       coupe              2011  manual    190   \n",
       "2  2016-03-14 12:52:21   9800         suv              2004    auto    163   \n",
       "3  2016-03-17 16:54:04   1500       small              2001  manual     75   \n",
       "4  2016-03-31 17:25:20   3600       small              2008  manual     69   \n",
       "\n",
       "   Model  Kilometer  RegistrationMonth  FuelType       Brand NotRepaired  \\\n",
       "0   golf     150000                  0    petrol  volkswagen         NaN   \n",
       "1    NaN     125000                  5  gasoline        audi         yes   \n",
       "2  grand     125000                  8  gasoline        jeep         NaN   \n",
       "3   golf     150000                  6    petrol  volkswagen          no   \n",
       "4  fabia      90000                  7  gasoline       skoda          no   \n",
       "\n",
       "           DateCreated  NumberOfPictures  PostalCode             LastSeen  \n",
       "0  2016-03-24 00:00:00                 0       70435  2016-04-07 03:16:57  \n",
       "1  2016-03-24 00:00:00                 0       66954  2016-04-07 01:46:50  \n",
       "2  2016-03-14 00:00:00                 0       90480  2016-04-05 12:47:46  \n",
       "3  2016-03-17 00:00:00                 0       91074  2016-03-17 17:40:17  \n",
       "4  2016-03-31 00:00:00                 0       60437  2016-04-06 10:17:21  "
      ]
     },
     "execution_count": 64,
     "metadata": {},
     "output_type": "execute_result"
    }
   ],
   "source": [
    "# чтение файла и печать общей информации\n",
    "df_autos = pd.read_csv('/datasets/autos.csv')\n",
    "\n",
    "df_autos.head()"
   ]
  },
  {
   "cell_type": "markdown",
   "metadata": {},
   "source": [
    "Датасет представлен в виде следующиих данных.\n",
    "\n",
    "**Признаки:**\n",
    "    \n",
    "- DateCrawled — дата скачивания анкеты из базы\n",
    "- VehicleType — тип автомобильного кузова\n",
    "- RegistrationYear — год регистрации автомобиля\n",
    "- Gearbox — тип коробки передач\n",
    "- Power — мощность (л. с.)\n",
    "- Model — модель автомобиля\n",
    "- Kilometer — пробег (км)\n",
    "- RegistrationMonth — месяц регистрации автомобиля\n",
    "- FuelType — тип топлива\n",
    "- Brand — марка автомобиля\n",
    "- NotRepaired — была машина в ремонте или нет\n",
    "- DateCreated — дата создания анкеты\n",
    "- NumberOfPictures — количество фотографий автомобиля\n",
    "- PostalCode — почтовый индекс владельца анкеты (пользователя)\n",
    "- LastSeen — дата последней активности пользователя\n",
    "\n",
    "**Целевой признак**\n",
    "- Price — цена (евро)"
   ]
  },
  {
   "cell_type": "code",
   "execution_count": 65,
   "metadata": {},
   "outputs": [],
   "source": [
    "# поменяем формат даты.\n",
    "df_autos['DateCrawled'] = pd.to_datetime(df_autos['DateCrawled'], format='%Y-%m-%d %H:%M')\n",
    "df_autos['DateCreated'] = pd.to_datetime(df_autos['DateCreated'], format='%Y-%m-%d %H:%M')\n",
    "df_autos['LastSeen'] = pd.to_datetime(df_autos['LastSeen'], format='%Y-%m-%d %H:%M')\n",
    "df_autos = df_autos.drop(['DateCrawled', 'DateCreated' , 'LastSeen'], axis=1)"
   ]
  },
  {
   "cell_type": "code",
   "execution_count": 66,
   "metadata": {
    "scrolled": true
   },
   "outputs": [
    {
     "data": {
      "text/html": [
       "<div>\n",
       "<style scoped>\n",
       "    .dataframe tbody tr th:only-of-type {\n",
       "        vertical-align: middle;\n",
       "    }\n",
       "\n",
       "    .dataframe tbody tr th {\n",
       "        vertical-align: top;\n",
       "    }\n",
       "\n",
       "    .dataframe thead th {\n",
       "        text-align: right;\n",
       "    }\n",
       "</style>\n",
       "<table border=\"1\" class=\"dataframe\">\n",
       "  <thead>\n",
       "    <tr style=\"text-align: right;\">\n",
       "      <th></th>\n",
       "      <th>Price</th>\n",
       "      <th>RegistrationYear</th>\n",
       "      <th>Power</th>\n",
       "      <th>Kilometer</th>\n",
       "      <th>RegistrationMonth</th>\n",
       "      <th>NumberOfPictures</th>\n",
       "      <th>PostalCode</th>\n",
       "    </tr>\n",
       "  </thead>\n",
       "  <tbody>\n",
       "    <tr>\n",
       "      <td>count</td>\n",
       "      <td>354369.000000</td>\n",
       "      <td>354369.000000</td>\n",
       "      <td>354369.000000</td>\n",
       "      <td>354369.000000</td>\n",
       "      <td>354369.000000</td>\n",
       "      <td>354369.0</td>\n",
       "      <td>354369.000000</td>\n",
       "    </tr>\n",
       "    <tr>\n",
       "      <td>mean</td>\n",
       "      <td>4416.656776</td>\n",
       "      <td>2004.234448</td>\n",
       "      <td>110.094337</td>\n",
       "      <td>128211.172535</td>\n",
       "      <td>5.714645</td>\n",
       "      <td>0.0</td>\n",
       "      <td>50508.689087</td>\n",
       "    </tr>\n",
       "    <tr>\n",
       "      <td>std</td>\n",
       "      <td>4514.158514</td>\n",
       "      <td>90.227958</td>\n",
       "      <td>189.850405</td>\n",
       "      <td>37905.341530</td>\n",
       "      <td>3.726421</td>\n",
       "      <td>0.0</td>\n",
       "      <td>25783.096248</td>\n",
       "    </tr>\n",
       "    <tr>\n",
       "      <td>min</td>\n",
       "      <td>0.000000</td>\n",
       "      <td>1000.000000</td>\n",
       "      <td>0.000000</td>\n",
       "      <td>5000.000000</td>\n",
       "      <td>0.000000</td>\n",
       "      <td>0.0</td>\n",
       "      <td>1067.000000</td>\n",
       "    </tr>\n",
       "    <tr>\n",
       "      <td>25%</td>\n",
       "      <td>1050.000000</td>\n",
       "      <td>1999.000000</td>\n",
       "      <td>69.000000</td>\n",
       "      <td>125000.000000</td>\n",
       "      <td>3.000000</td>\n",
       "      <td>0.0</td>\n",
       "      <td>30165.000000</td>\n",
       "    </tr>\n",
       "    <tr>\n",
       "      <td>50%</td>\n",
       "      <td>2700.000000</td>\n",
       "      <td>2003.000000</td>\n",
       "      <td>105.000000</td>\n",
       "      <td>150000.000000</td>\n",
       "      <td>6.000000</td>\n",
       "      <td>0.0</td>\n",
       "      <td>49413.000000</td>\n",
       "    </tr>\n",
       "    <tr>\n",
       "      <td>75%</td>\n",
       "      <td>6400.000000</td>\n",
       "      <td>2008.000000</td>\n",
       "      <td>143.000000</td>\n",
       "      <td>150000.000000</td>\n",
       "      <td>9.000000</td>\n",
       "      <td>0.0</td>\n",
       "      <td>71083.000000</td>\n",
       "    </tr>\n",
       "    <tr>\n",
       "      <td>max</td>\n",
       "      <td>20000.000000</td>\n",
       "      <td>9999.000000</td>\n",
       "      <td>20000.000000</td>\n",
       "      <td>150000.000000</td>\n",
       "      <td>12.000000</td>\n",
       "      <td>0.0</td>\n",
       "      <td>99998.000000</td>\n",
       "    </tr>\n",
       "  </tbody>\n",
       "</table>\n",
       "</div>"
      ],
      "text/plain": [
       "               Price  RegistrationYear          Power      Kilometer  \\\n",
       "count  354369.000000     354369.000000  354369.000000  354369.000000   \n",
       "mean     4416.656776       2004.234448     110.094337  128211.172535   \n",
       "std      4514.158514         90.227958     189.850405   37905.341530   \n",
       "min         0.000000       1000.000000       0.000000    5000.000000   \n",
       "25%      1050.000000       1999.000000      69.000000  125000.000000   \n",
       "50%      2700.000000       2003.000000     105.000000  150000.000000   \n",
       "75%      6400.000000       2008.000000     143.000000  150000.000000   \n",
       "max     20000.000000       9999.000000   20000.000000  150000.000000   \n",
       "\n",
       "       RegistrationMonth  NumberOfPictures     PostalCode  \n",
       "count      354369.000000          354369.0  354369.000000  \n",
       "mean            5.714645               0.0   50508.689087  \n",
       "std             3.726421               0.0   25783.096248  \n",
       "min             0.000000               0.0    1067.000000  \n",
       "25%             3.000000               0.0   30165.000000  \n",
       "50%             6.000000               0.0   49413.000000  \n",
       "75%             9.000000               0.0   71083.000000  \n",
       "max            12.000000               0.0   99998.000000  "
      ]
     },
     "execution_count": 66,
     "metadata": {},
     "output_type": "execute_result"
    }
   ],
   "source": [
    "df_autos.describe()"
   ]
  },
  {
   "cell_type": "code",
   "execution_count": 67,
   "metadata": {
    "scrolled": true
   },
   "outputs": [
    {
     "name": "stdout",
     "output_type": "stream",
     "text": [
      "count    354369.000000\n",
      "mean       2004.234448\n",
      "std          90.227958\n",
      "min        1000.000000\n",
      "25%        1999.000000\n",
      "50%        2003.000000\n",
      "75%        2008.000000\n",
      "max        9999.000000\n",
      "Name: RegistrationYear, dtype: float64\n"
     ]
    },
    {
     "data": {
      "image/png": "[encoded data removed]",
      "text/plain": [
       "<Figure size 432x288 with 1 Axes>"
      ]
     },
     "metadata": {
      "needs_background": "light"
     },
     "output_type": "display_data"
    },
    {
     "data": {
      "image/png": "[encoded data removed]",
      "text/plain": [
       "<Figure size 432x288 with 1 Axes>"
      ]
     },
     "metadata": {
      "needs_background": "light"
     },
     "output_type": "display_data"
    }
   ],
   "source": [
    "def boxplot_print(colum, bins):\n",
    "    print(colum.describe())\n",
    "    q1 = colum.quantile(0.25)\n",
    "    q3 = colum.quantile(0.75)\n",
    "    iqr = q3 - q1\n",
    "    sns.boxplot(x=colum, color='red')   \n",
    "    plt.show()\n",
    "    colum.hist(bins=bins, range=((q1-3*iqr), (q3+3*iqr)))\n",
    "    plt.show()\n",
    "    \n",
    "plt.xlim(1970, 2020)\n",
    "boxplot_print(df_autos['RegistrationYear'], 10)"
   ]
  },
  {
   "cell_type": "code",
   "execution_count": 68,
   "metadata": {},
   "outputs": [
    {
     "name": "stdout",
     "output_type": "stream",
     "text": [
      "count    350812.000000\n",
      "mean       2003.423021\n",
      "std           6.611317\n",
      "min        1980.000000\n",
      "25%        1999.000000\n",
      "50%        2003.000000\n",
      "75%        2008.000000\n",
      "max        2019.000000\n",
      "Name: RegistrationYear, dtype: float64\n"
     ]
    },
    {
     "data": {
      "image/png": "[encoded data removed]",
      "text/plain": [
       "<Figure size 432x288 with 1 Axes>"
      ]
     },
     "metadata": {
      "needs_background": "light"
     },
     "output_type": "display_data"
    },
    {
     "data": {
      "image/png": "[encoded data removed]",
      "text/plain": [
       "<Figure size 432x288 with 1 Axes>"
      ]
     },
     "metadata": {
      "needs_background": "light"
     },
     "output_type": "display_data"
    },
    {
     "name": "stdout",
     "output_type": "stream",
     "text": [
      "CPU times: user 619 ms, sys: 16.3 ms, total: 635 ms\n",
      "Wall time: 649 ms\n"
     ]
    }
   ],
   "source": [
    "%%time\n",
    "\n",
    "#df_autos = df_autos.loc[df_autos.loc[:,'RegistrationYear'] >= 1980]\n",
    "#df_autos = df_autos.loc[df_autos.loc[:,'RegistrationYear'] <= 2020]\n",
    "\n",
    "df_autos_filtr = df_autos.query(\"1980 <= RegistrationYear <= 2020\")\n",
    "boxplot_print(df_autos_filtr['RegistrationYear'], 10)"
   ]
  },
  {
   "cell_type": "code",
   "execution_count": 69,
   "metadata": {},
   "outputs": [
    {
     "name": "stdout",
     "output_type": "stream",
     "text": [
      "count    350812.000000\n",
      "mean        110.418603\n",
      "std         188.270170\n",
      "min           0.000000\n",
      "25%          69.000000\n",
      "50%         105.000000\n",
      "75%         143.000000\n",
      "max       20000.000000\n",
      "Name: Power, dtype: float64\n"
     ]
    },
    {
     "data": {
      "image/png": "[encoded data removed]",
      "text/plain": [
       "<Figure size 432x288 with 1 Axes>"
      ]
     },
     "metadata": {
      "needs_background": "light"
     },
     "output_type": "display_data"
    },
    {
     "data": {
      "image/png": "[encoded data removed]",
      "text/plain": [
       "<Figure size 432x288 with 1 Axes>"
      ]
     },
     "metadata": {
      "needs_background": "light"
     },
     "output_type": "display_data"
    }
   ],
   "source": [
    "#\n",
    "plt.xlim(0, 600)\n",
    "boxplot_print(df_autos_filtr['Power'], 10)\n"
   ]
  },
  {
   "cell_type": "code",
   "execution_count": null,
   "metadata": {},
   "outputs": [],
   "source": []
  },
  {
   "cell_type": "code",
   "execution_count": 70,
   "metadata": {},
   "outputs": [
    {
     "name": "stdout",
     "output_type": "stream",
     "text": [
      "count    303111.000000\n",
      "mean        122.677042\n",
      "std          52.448562\n",
      "min          51.000000\n",
      "25%          82.000000\n",
      "50%         115.000000\n",
      "75%         150.000000\n",
      "max         500.000000\n",
      "Name: Power, dtype: float64\n"
     ]
    },
    {
     "data": {
      "image/png": "[encoded data removed]",
      "text/plain": [
       "<Figure size 432x288 with 1 Axes>"
      ]
     },
     "metadata": {
      "needs_background": "light"
     },
     "output_type": "display_data"
    },
    {
     "data": {
      "image/png": "[encoded data removed]",
      "text/plain": [
       "<Figure size 432x288 with 1 Axes>"
      ]
     },
     "metadata": {
      "needs_background": "light"
     },
     "output_type": "display_data"
    }
   ],
   "source": [
    "#\n",
    "\n",
    "df_autos_filtr = df_autos.query(\"50 < Power <= 500\")\n",
    "#df_autos_filtr = df_autos_filtr.loc[df_autos_filtr.loc[:,'Power'] <= 250]\n",
    "#df_autos_filtr = df_autos_filtr.loc[df_autos_filtr.loc[:,'Power'] > 10]\n",
    "\n",
    "plt.xlim(0, 700)\n",
    "boxplot_print(df_autos_filtr['Power'], 10)"
   ]
  },
  {
   "cell_type": "code",
   "execution_count": 71,
   "metadata": {},
   "outputs": [
    {
     "name": "stdout",
     "output_type": "stream",
     "text": [
      "count    303111.000000\n",
      "mean       4812.010442\n",
      "std        4609.008359\n",
      "min           0.000000\n",
      "25%        1300.000000\n",
      "50%        3150.000000\n",
      "75%        6990.000000\n",
      "max       20000.000000\n",
      "Name: Price, dtype: float64\n"
     ]
    },
    {
     "data": {
      "image/png": "[encoded data removed]",
      "text/plain": [
       "<Figure size 432x288 with 1 Axes>"
      ]
     },
     "metadata": {
      "needs_background": "light"
     },
     "output_type": "display_data"
    },
    {
     "data": {
      "image/png": "[encoded data removed]",
      "text/plain": [
       "<Figure size 432x288 with 1 Axes>"
      ]
     },
     "metadata": {
      "needs_background": "light"
     },
     "output_type": "display_data"
    },
    {
     "data": {
      "text/plain": [
       "(0, 20000)"
      ]
     },
     "execution_count": 71,
     "metadata": {},
     "output_type": "execute_result"
    },
    {
     "data": {
      "image/png": "[encoded data removed]",
      "text/plain": [
       "<Figure size 432x288 with 1 Axes>"
      ]
     },
     "metadata": {
      "needs_background": "light"
     },
     "output_type": "display_data"
    }
   ],
   "source": [
    "#\n",
    "boxplot_print(df_autos_filtr['Price'], 15)\n",
    "plt.xlim(0, 20000)"
   ]
  },
  {
   "cell_type": "code",
   "execution_count": 72,
   "metadata": {},
   "outputs": [
    {
     "name": "stdout",
     "output_type": "stream",
     "text": [
      "count    295033.000000\n",
      "mean       4943.508767\n",
      "std        4601.709285\n",
      "min         101.000000\n",
      "25%        1450.000000\n",
      "50%        3300.000000\n",
      "75%        7000.000000\n",
      "max       20000.000000\n",
      "Name: Price, dtype: float64\n"
     ]
    },
    {
     "data": {
      "image/png": "[encoded data removed]",
      "text/plain": [
       "<Figure size 432x288 with 1 Axes>"
      ]
     },
     "metadata": {
      "needs_background": "light"
     },
     "output_type": "display_data"
    },
    {
     "data": {
      "image/png": "[encoded data removed]",
      "text/plain": [
       "<Figure size 432x288 with 1 Axes>"
      ]
     },
     "metadata": {
      "needs_background": "light"
     },
     "output_type": "display_data"
    },
    {
     "data": {
      "text/plain": [
       "(0, 20000)"
      ]
     },
     "execution_count": 72,
     "metadata": {},
     "output_type": "execute_result"
    },
    {
     "data": {
      "image/png": "[encoded data removed]",
      "text/plain": [
       "<Figure size 432x288 with 1 Axes>"
      ]
     },
     "metadata": {
      "needs_background": "light"
     },
     "output_type": "display_data"
    }
   ],
   "source": [
    "df_autos_filtr = df_autos_filtr.loc[df_autos_filtr.loc[:,'Price'] > 100]\n",
    "df_autos_filtr = df_autos_filtr.loc[df_autos_filtr.loc[:,'Price'] <= 20000]\n",
    "\n",
    "boxplot_print(df_autos_filtr['Price'], 10)\n",
    "plt.xlim(0, 20000)"
   ]
  },
  {
   "cell_type": "code",
   "execution_count": 73,
   "metadata": {
    "scrolled": false
   },
   "outputs": [
    {
     "data": {
      "text/html": [
       "<div>\n",
       "<style scoped>\n",
       "    .dataframe tbody tr th:only-of-type {\n",
       "        vertical-align: middle;\n",
       "    }\n",
       "\n",
       "    .dataframe tbody tr th {\n",
       "        vertical-align: top;\n",
       "    }\n",
       "\n",
       "    .dataframe thead th {\n",
       "        text-align: right;\n",
       "    }\n",
       "</style>\n",
       "<table border=\"1\" class=\"dataframe\">\n",
       "  <thead>\n",
       "    <tr style=\"text-align: right;\">\n",
       "      <th></th>\n",
       "      <th>Price</th>\n",
       "      <th>RegistrationYear</th>\n",
       "      <th>Power</th>\n",
       "      <th>Kilometer</th>\n",
       "      <th>RegistrationMonth</th>\n",
       "      <th>NumberOfPictures</th>\n",
       "      <th>PostalCode</th>\n",
       "    </tr>\n",
       "  </thead>\n",
       "  <tbody>\n",
       "    <tr>\n",
       "      <td>count</td>\n",
       "      <td>295033.000000</td>\n",
       "      <td>295033.000000</td>\n",
       "      <td>295033.000000</td>\n",
       "      <td>295033.000000</td>\n",
       "      <td>295033.000000</td>\n",
       "      <td>295033.0</td>\n",
       "      <td>295033.000000</td>\n",
       "    </tr>\n",
       "    <tr>\n",
       "      <td>mean</td>\n",
       "      <td>4943.508767</td>\n",
       "      <td>2003.728095</td>\n",
       "      <td>122.830999</td>\n",
       "      <td>128568.126277</td>\n",
       "      <td>5.987710</td>\n",
       "      <td>0.0</td>\n",
       "      <td>51302.062315</td>\n",
       "    </tr>\n",
       "    <tr>\n",
       "      <td>std</td>\n",
       "      <td>4601.709285</td>\n",
       "      <td>29.956020</td>\n",
       "      <td>52.391091</td>\n",
       "      <td>36529.338308</td>\n",
       "      <td>3.588769</td>\n",
       "      <td>0.0</td>\n",
       "      <td>25760.342829</td>\n",
       "    </tr>\n",
       "    <tr>\n",
       "      <td>min</td>\n",
       "      <td>101.000000</td>\n",
       "      <td>1000.000000</td>\n",
       "      <td>51.000000</td>\n",
       "      <td>5000.000000</td>\n",
       "      <td>0.000000</td>\n",
       "      <td>0.0</td>\n",
       "      <td>1067.000000</td>\n",
       "    </tr>\n",
       "    <tr>\n",
       "      <td>25%</td>\n",
       "      <td>1450.000000</td>\n",
       "      <td>1999.000000</td>\n",
       "      <td>82.000000</td>\n",
       "      <td>125000.000000</td>\n",
       "      <td>3.000000</td>\n",
       "      <td>0.0</td>\n",
       "      <td>30989.000000</td>\n",
       "    </tr>\n",
       "    <tr>\n",
       "      <td>50%</td>\n",
       "      <td>3300.000000</td>\n",
       "      <td>2004.000000</td>\n",
       "      <td>115.000000</td>\n",
       "      <td>150000.000000</td>\n",
       "      <td>6.000000</td>\n",
       "      <td>0.0</td>\n",
       "      <td>50321.000000</td>\n",
       "    </tr>\n",
       "    <tr>\n",
       "      <td>75%</td>\n",
       "      <td>7000.000000</td>\n",
       "      <td>2008.000000</td>\n",
       "      <td>150.000000</td>\n",
       "      <td>150000.000000</td>\n",
       "      <td>9.000000</td>\n",
       "      <td>0.0</td>\n",
       "      <td>72116.000000</td>\n",
       "    </tr>\n",
       "    <tr>\n",
       "      <td>max</td>\n",
       "      <td>20000.000000</td>\n",
       "      <td>9999.000000</td>\n",
       "      <td>500.000000</td>\n",
       "      <td>150000.000000</td>\n",
       "      <td>12.000000</td>\n",
       "      <td>0.0</td>\n",
       "      <td>99998.000000</td>\n",
       "    </tr>\n",
       "  </tbody>\n",
       "</table>\n",
       "</div>"
      ],
      "text/plain": [
       "               Price  RegistrationYear          Power      Kilometer  \\\n",
       "count  295033.000000     295033.000000  295033.000000  295033.000000   \n",
       "mean     4943.508767       2003.728095     122.830999  128568.126277   \n",
       "std      4601.709285         29.956020      52.391091   36529.338308   \n",
       "min       101.000000       1000.000000      51.000000    5000.000000   \n",
       "25%      1450.000000       1999.000000      82.000000  125000.000000   \n",
       "50%      3300.000000       2004.000000     115.000000  150000.000000   \n",
       "75%      7000.000000       2008.000000     150.000000  150000.000000   \n",
       "max     20000.000000       9999.000000     500.000000  150000.000000   \n",
       "\n",
       "       RegistrationMonth  NumberOfPictures     PostalCode  \n",
       "count      295033.000000          295033.0  295033.000000  \n",
       "mean            5.987710               0.0   51302.062315  \n",
       "std             3.588769               0.0   25760.342829  \n",
       "min             0.000000               0.0    1067.000000  \n",
       "25%             3.000000               0.0   30989.000000  \n",
       "50%             6.000000               0.0   50321.000000  \n",
       "75%             9.000000               0.0   72116.000000  \n",
       "max            12.000000               0.0   99998.000000  "
      ]
     },
     "execution_count": 73,
     "metadata": {},
     "output_type": "execute_result"
    }
   ],
   "source": [
    "#\n",
    "df_autos_filtr.describe()"
   ]
  },
  {
   "cell_type": "code",
   "execution_count": 74,
   "metadata": {},
   "outputs": [
    {
     "data": {
      "text/plain": [
       "Price                    0\n",
       "VehicleType          19962\n",
       "RegistrationYear         0\n",
       "Gearbox               5354\n",
       "Power                    0\n",
       "Model                11429\n",
       "Kilometer                0\n",
       "RegistrationMonth        0\n",
       "FuelType             18209\n",
       "Brand                    0\n",
       "NotRepaired          43938\n",
       "NumberOfPictures         0\n",
       "PostalCode               0\n",
       "dtype: int64"
      ]
     },
     "execution_count": 74,
     "metadata": {},
     "output_type": "execute_result"
    }
   ],
   "source": [
    "# суммарное количество пропусков\n",
    "df_autos_filtr.isnull().sum()"
   ]
  },
  {
   "cell_type": "markdown",
   "metadata": {},
   "source": [
    "NotRepaired — была машина в ремонте или нет. Вероятней всего если пропущено значение, то машина не была в ремонте. По этой логике заменим пропуски на \"no\"\n",
    "\n",
    "Из огромного модельного ряда подобрать модель сложно, и чтобы дальнейшая обработка была пропусков былва точнее удалим пропущенные значения в столбце 'Model'."
   ]
  },
  {
   "cell_type": "code",
   "execution_count": 75,
   "metadata": {},
   "outputs": [
    {
     "data": {
      "text/plain": [
       "array(['unknown', 'no', 'yes'], dtype=object)"
      ]
     },
     "execution_count": 75,
     "metadata": {},
     "output_type": "execute_result"
    }
   ],
   "source": [
    "# замена пропусков в столбце NotRepaired\n",
    "df_autos_filtr['NotRepaired'] = df_autos_filtr['NotRepaired'].fillna('unknown')\n",
    "\n",
    "# удаление пропусков в столбце Model\n",
    "df_autos_filtr.dropna(subset=['Model'], inplace = True)\n",
    "\n",
    "df_autos_filtr['NotRepaired'].unique()"
   ]
  },
  {
   "cell_type": "code",
   "execution_count": 76,
   "metadata": {},
   "outputs": [
    {
     "data": {
      "text/plain": [
       "Brand       Model     Gearbox\n",
       "alfa_romeo  145       manual      35\n",
       "            147       manual     492\n",
       "                      auto        22\n",
       "            156       manual     496\n",
       "                      auto        40\n",
       "                                ... \n",
       "volvo       v60       auto        14\n",
       "            v70       manual     361\n",
       "                      auto       213\n",
       "            xc_reihe  auto       191\n",
       "                      manual      66\n",
       "Name: Gearbox, Length: 566, dtype: int64"
      ]
     },
     "execution_count": 76,
     "metadata": {},
     "output_type": "execute_result"
    }
   ],
   "source": [
    "df_autos_filtr.groupby(['Brand', 'Model'])['Gearbox'].value_counts()"
   ]
  },
  {
   "cell_type": "markdown",
   "metadata": {},
   "source": [
    "Остальные пропуски заменим наиболее частыми значения. Для этого сгруппируем даные по бренду и модели."
   ]
  },
  {
   "cell_type": "code",
   "execution_count": 77,
   "metadata": {},
   "outputs": [
    {
     "data": {
      "text/plain": [
       "Price                0\n",
       "VehicleType          0\n",
       "RegistrationYear     0\n",
       "Gearbox              0\n",
       "Power                0\n",
       "Model                0\n",
       "Kilometer            0\n",
       "RegistrationMonth    0\n",
       "FuelType             0\n",
       "Brand                0\n",
       "NotRepaired          0\n",
       "NumberOfPictures     0\n",
       "PostalCode           0\n",
       "dtype: int64"
      ]
     },
     "execution_count": 77,
     "metadata": {},
     "output_type": "execute_result"
    }
   ],
   "source": [
    "# заполнение пропусков по столбщаем \n",
    "df_autos_filtr[\"VehicleType\"] = (df_autos_filtr\n",
    "                                 .groupby(['Brand', 'Model'])['VehicleType']\n",
    "                                 .transform(lambda x: x.fillna(value=(x.mode()[0] if not x.mode().empty else \"Empty\")))\n",
    "                                )\n",
    "df_autos_filtr[\"Gearbox\"] = (df_autos_filtr\n",
    "                                 .groupby(['Brand', 'Model'])['Gearbox']\n",
    "                                 .transform(lambda x: x.fillna(value=(x.mode()[0] if not x.mode().empty else \"Empty\")))\n",
    "                                )\n",
    "df_autos_filtr[\"FuelType\"] = (df_autos_filtr\n",
    "                                 .groupby(['Brand', 'Model'])['FuelType']\n",
    "                                 .transform(lambda x: x.fillna(value=(x.mode()[0] if not x.mode().empty else \"Empty\")))\n",
    "                                )\n",
    "\n",
    "# суммарное количество пропусков\n",
    "df_autos_filtr.isnull().sum()"
   ]
  },
  {
   "cell_type": "code",
   "execution_count": 78,
   "metadata": {
    "scrolled": true
   },
   "outputs": [
    {
     "data": {
      "text/plain": [
       "18906"
      ]
     },
     "execution_count": 78,
     "metadata": {},
     "output_type": "execute_result"
    }
   ],
   "source": [
    "# количества дубликатов в таблице\n",
    "df_autos_filtr.duplicated().sum()"
   ]
  },
  {
   "cell_type": "code",
   "execution_count": 79,
   "metadata": {},
   "outputs": [],
   "source": [
    "# удаление всех дубликатов из таблицы df \n",
    "df_autos_filtr = df_autos_filtr.drop_duplicates().reset_index(drop=True)\n",
    "\n",
    "df_autos_filtr = df_autos_filtr.drop(['NumberOfPictures', 'PostalCode'], axis=1)"
   ]
  },
  {
   "cell_type": "code",
   "execution_count": 80,
   "metadata": {},
   "outputs": [
    {
     "data": {
      "text/html": [
       "<div>\n",
       "<style scoped>\n",
       "    .dataframe tbody tr th:only-of-type {\n",
       "        vertical-align: middle;\n",
       "    }\n",
       "\n",
       "    .dataframe tbody tr th {\n",
       "        vertical-align: top;\n",
       "    }\n",
       "\n",
       "    .dataframe thead th {\n",
       "        text-align: right;\n",
       "    }\n",
       "</style>\n",
       "<table border=\"1\" class=\"dataframe\">\n",
       "  <thead>\n",
       "    <tr style=\"text-align: right;\">\n",
       "      <th></th>\n",
       "      <th>Price</th>\n",
       "      <th>RegistrationYear</th>\n",
       "      <th>Power</th>\n",
       "      <th>Kilometer</th>\n",
       "      <th>RegistrationMonth</th>\n",
       "      <th>VehicleType_convertible</th>\n",
       "      <th>VehicleType_coupe</th>\n",
       "      <th>VehicleType_other</th>\n",
       "      <th>VehicleType_sedan</th>\n",
       "      <th>VehicleType_small</th>\n",
       "      <th>...</th>\n",
       "      <th>Brand_skoda</th>\n",
       "      <th>Brand_smart</th>\n",
       "      <th>Brand_subaru</th>\n",
       "      <th>Brand_suzuki</th>\n",
       "      <th>Brand_toyota</th>\n",
       "      <th>Brand_trabant</th>\n",
       "      <th>Brand_volkswagen</th>\n",
       "      <th>Brand_volvo</th>\n",
       "      <th>NotRepaired_unknown</th>\n",
       "      <th>NotRepaired_yes</th>\n",
       "    </tr>\n",
       "  </thead>\n",
       "  <tbody>\n",
       "    <tr>\n",
       "      <td>0</td>\n",
       "      <td>9800</td>\n",
       "      <td>2004</td>\n",
       "      <td>163</td>\n",
       "      <td>125000</td>\n",
       "      <td>8</td>\n",
       "      <td>0</td>\n",
       "      <td>0</td>\n",
       "      <td>0</td>\n",
       "      <td>0</td>\n",
       "      <td>0</td>\n",
       "      <td>...</td>\n",
       "      <td>0</td>\n",
       "      <td>0</td>\n",
       "      <td>0</td>\n",
       "      <td>0</td>\n",
       "      <td>0</td>\n",
       "      <td>0</td>\n",
       "      <td>0</td>\n",
       "      <td>0</td>\n",
       "      <td>1</td>\n",
       "      <td>0</td>\n",
       "    </tr>\n",
       "    <tr>\n",
       "      <td>1</td>\n",
       "      <td>1500</td>\n",
       "      <td>2001</td>\n",
       "      <td>75</td>\n",
       "      <td>150000</td>\n",
       "      <td>6</td>\n",
       "      <td>0</td>\n",
       "      <td>0</td>\n",
       "      <td>0</td>\n",
       "      <td>0</td>\n",
       "      <td>1</td>\n",
       "      <td>...</td>\n",
       "      <td>0</td>\n",
       "      <td>0</td>\n",
       "      <td>0</td>\n",
       "      <td>0</td>\n",
       "      <td>0</td>\n",
       "      <td>0</td>\n",
       "      <td>1</td>\n",
       "      <td>0</td>\n",
       "      <td>0</td>\n",
       "      <td>0</td>\n",
       "    </tr>\n",
       "  </tbody>\n",
       "</table>\n",
       "<p>2 rows × 306 columns</p>\n",
       "</div>"
      ],
      "text/plain": [
       "   Price  RegistrationYear  Power  Kilometer  RegistrationMonth  \\\n",
       "0   9800              2004    163     125000                  8   \n",
       "1   1500              2001     75     150000                  6   \n",
       "\n",
       "   VehicleType_convertible  VehicleType_coupe  VehicleType_other  \\\n",
       "0                        0                  0                  0   \n",
       "1                        0                  0                  0   \n",
       "\n",
       "   VehicleType_sedan  VehicleType_small  ...  Brand_skoda  Brand_smart  \\\n",
       "0                  0                  0  ...            0            0   \n",
       "1                  0                  1  ...            0            0   \n",
       "\n",
       "   Brand_subaru  Brand_suzuki  Brand_toyota  Brand_trabant  Brand_volkswagen  \\\n",
       "0             0             0             0              0                 0   \n",
       "1             0             0             0              0                 1   \n",
       "\n",
       "   Brand_volvo  NotRepaired_unknown  NotRepaired_yes  \n",
       "0            0                    1                0  \n",
       "1            0                    0                0  \n",
       "\n",
       "[2 rows x 306 columns]"
      ]
     },
     "execution_count": 80,
     "metadata": {},
     "output_type": "execute_result"
    }
   ],
   "source": [
    "# кодирование данных\n",
    "data_ohe = pd.get_dummies(df_autos_filtr, drop_first=True)\n",
    "data_ohe.head(2)"
   ]
  },
  {
   "cell_type": "code",
   "execution_count": 81,
   "metadata": {},
   "outputs": [
    {
     "name": "stdout",
     "output_type": "stream",
     "text": [
      "(264698, 306)\n",
      "Кол-во строк в обучающей выборке: 211758\n",
      "Кол-во строк в валидационной выборке: 52940\n",
      "\n",
      "Кол-во строк в обучающей выборке: 158818\n",
      "Кол-во строк в валидационной выборке: 52940\n",
      "Кол-во строк в тестовой выборке: 52940\n"
     ]
    }
   ],
   "source": [
    "# разделение на 2 выборки (обучающая и валидационная)\n",
    "df_train, df_valid = train_test_split(data_ohe, test_size=0.2, random_state=12345)\n",
    "# размер таблицы\n",
    "print(data_ohe.shape)\n",
    "print('Кол-во строк в обучающей выборке:', df_train.shape[0])\n",
    "print('Кол-во строк в валидационной выборке:', df_valid.shape[0])\n",
    "\n",
    "# добавил 3ю выборку для теста, того же размера, что и валидационная\n",
    "df_test_size = df_valid.shape[0] / df_train.shape[0]\n",
    "df_train, df_test = train_test_split(df_train, test_size=df_test_size, random_state=12345)\n",
    "print()\n",
    "print('Кол-во строк в обучающей выборке:', df_train.shape[0])\n",
    "print('Кол-во строк в валидационной выборке:', df_valid.shape[0])\n",
    "print('Кол-во строк в тестовой выборке:', df_test.shape[0])\n",
    "\n",
    "\n",
    "numeric = ['RegistrationYear', 'Power', 'Kilometer', 'RegistrationMonth']\n",
    "\n",
    "# разделение на обучающие признаки и целевые\n",
    "features_train = df_train.drop(['Price'], axis=1)\n",
    "target_train = df_train['Price']\n",
    "\n",
    "features_valid = df_valid.drop(['Price'], axis=1)\n",
    "target_valid = df_valid['Price']\n",
    "\n",
    "features_test = df_test.drop(['Price'], axis=1)\n",
    "target_test = df_test['Price']\n",
    "\n",
    "scaler = StandardScaler()\n",
    "scaler.fit(features_train[numeric])\n",
    "features_train[numeric] = scaler.transform(features_train[numeric])\n",
    "features_valid[numeric] = scaler.transform(features_valid[numeric])\n",
    "features_test[numeric] = scaler.transform(features_test[numeric])\n"
   ]
  },
  {
   "cell_type": "code",
   "execution_count": 82,
   "metadata": {},
   "outputs": [
    {
     "name": "stdout",
     "output_type": "stream",
     "text": [
      "Изначальный размер: 354369\n",
      "Размер после предобработки: 264698\n",
      "Разница в колличесве строк 89671\n",
      "25.30441432518081 %\n"
     ]
    }
   ],
   "source": [
    "df_before = df_autos.shape[0]\n",
    "df_after = data_ohe.shape[0]\n",
    "\n",
    "print('Изначальный размер:',df_before)\n",
    "print('Размер после предобработки:', df_after)\n",
    "print('Разница в колличесве строк', df_before - df_after)\n",
    "print(((df_before - df_after) / df_before) * 100,'%')"
   ]
  },
  {
   "cell_type": "markdown",
   "metadata": {},
   "source": [
    "# 2. Обучение моделей"
   ]
  },
  {
   "cell_type": "code",
   "execution_count": 83,
   "metadata": {},
   "outputs": [],
   "source": [
    "# разбиение на подвыборки для кросс-валидации\n",
    "kf = KFold(n_splits=5, shuffle=True, random_state=12345)\n",
    "\n",
    "# словарь для результатов тесторвания\n",
    "test_score = {}"
   ]
  },
  {
   "cell_type": "markdown",
   "metadata": {},
   "source": [
    "## 2.1.  LinearRegression"
   ]
  },
  {
   "cell_type": "code",
   "execution_count": 84,
   "metadata": {},
   "outputs": [
    {
     "name": "stdout",
     "output_type": "stream",
     "text": [
      "CPU times: user 14.1 s, sys: 5.15 s, total: 19.3 s\n",
      "Wall time: 19.3 s\n"
     ]
    }
   ],
   "source": [
    "%%time\n",
    "# mean_squared_error(y_true, y_pred, squared=False)\n",
    "# обучим модель и проведем крос валидацию\n",
    "line_reg_model = LinearRegression().fit(features_train, target_train)\n",
    "predictions = line_reg_model.predict(features_train)\n",
    "mse = mean_squared_error(target_train, predictions)\n",
    "rmse_train = mse ** 0.5\n",
    "rmse_train\n",
    "\n",
    "predictions_valid = line_reg_model.predict(features_valid)\n",
    "mse_valid = mean_squared_error(target_valid, predictions_valid)\n",
    "rmse_valid = mse_valid ** 0.5\n",
    "    \n",
    "predictions_test = line_reg_model.predict(features_test)\n",
    "mse_test = mean_squared_error(target_test, predictions_test)\n",
    "rmse_test = mse_valid ** 0.5\n"
   ]
  },
  {
   "cell_type": "code",
   "execution_count": 85,
   "metadata": {},
   "outputs": [],
   "source": [
    "test_score['LinearRegression'] = [rmse_train, rmse_valid, rmse_test, '17.8 s']"
   ]
  },
  {
   "cell_type": "markdown",
   "metadata": {},
   "source": [
    "## 2.2.  DecisionTreeRegressor"
   ]
  },
  {
   "cell_type": "code",
   "execution_count": 86,
   "metadata": {},
   "outputs": [
    {
     "name": "stdout",
     "output_type": "stream",
     "text": [
      "max_depth = 10 :\n",
      "Результат проверки на обучающей  выборке 1878.5910034597734\n",
      "Результат проверки на валидационной выборке 2010.712288275109\n",
      "\n",
      "max_depth = 11 :\n",
      "Результат проверки на обучающей  выборке 1789.0020448951736\n",
      "Результат проверки на валидационной выборке 1968.358585624999\n",
      "\n",
      "max_depth = 12 :\n",
      "Результат проверки на обучающей  выборке 1700.4027508929607\n",
      "Результат проверки на валидационной выборке 1926.314271059399\n",
      "\n",
      "max_depth = 13 :\n",
      "Результат проверки на обучающей  выборке 1611.8927892367763\n",
      "Результат проверки на валидационной выборке 1909.3862557184661\n",
      "\n",
      "max_depth = 14 :\n",
      "Результат проверки на обучающей  выборке 1525.8586107903193\n",
      "Результат проверки на валидационной выборке 1900.3901531128408\n",
      "\n",
      "max_depth = 15 :\n",
      "Результат проверки на обучающей  выборке 1440.2069921255938\n",
      "Результат проверки на валидационной выборке 1911.3209025250019\n",
      "\n",
      "max_depth = 16 :\n",
      "Результат проверки на обучающей  выборке 1359.5992446182588\n",
      "Результат проверки на валидационной выборке 1919.2716861306255\n",
      "\n",
      "max_depth = 17 :\n",
      "Результат проверки на обучающей  выборке 1281.7150555384983\n",
      "Результат проверки на валидационной выборке 1929.6853576875983\n",
      "\n",
      "max_depth = 18 :\n",
      "Результат проверки на обучающей  выборке 1207.811777285552\n",
      "Результат проверки на валидационной выборке 1939.7160937541526\n",
      "\n",
      "max_depth = 19 :\n",
      "Результат проверки на обучающей  выборке 1135.7532214625955\n",
      "Результат проверки на валидационной выборке 1958.4197971216383\n",
      "\n",
      "CPU times: user 49.7 s, sys: 3.36 s, total: 53 s\n",
      "Wall time: 53.3 s\n"
     ]
    }
   ],
   "source": [
    "%%time\n",
    "for depth in np.arange(10, 20):\n",
    "    regr = (DecisionTreeRegressor(max_depth=depth, random_state=12345)\n",
    "        .fit(features_train, target_train)\n",
    "       )\n",
    "    predictions = regr.predict(features_train)\n",
    "    mse = mean_squared_error(target_train, predictions)\n",
    "    rmse = mse ** 0.5\n",
    "    \n",
    "    predictions_valid = regr.predict(features_valid)\n",
    "    mse_valid = mean_squared_error(target_valid, predictions_valid)\n",
    "    rmse_valid = mse_valid ** 0.5\n",
    "    \n",
    "    print(\"max_depth =\", depth, \":\")\n",
    "    print(\"Результат проверки на обучающей  выборке\", rmse)\n",
    "    print(\"Результат проверки на валидационной выборке\", rmse_valid)\n",
    "    print()"
   ]
  },
  {
   "cell_type": "code",
   "execution_count": 87,
   "metadata": {},
   "outputs": [
    {
     "name": "stdout",
     "output_type": "stream",
     "text": [
      "CPU times: user 4.35 s, sys: 205 ms, total: 4.56 s\n",
      "Wall time: 4.68 s\n"
     ]
    },
    {
     "data": {
      "text/plain": [
       "1890.1481606515317"
      ]
     },
     "execution_count": 87,
     "metadata": {},
     "output_type": "execute_result"
    }
   ],
   "source": [
    "%%time\n",
    "regr = (DecisionTreeRegressor(max_depth=14, random_state=12345)\n",
    "        .fit(features_train, target_train)\n",
    "       )\n",
    "predictions_test = regr.predict(features_test)\n",
    "mse_test = mean_squared_error(target_test, predictions_test)\n",
    "rmse_test = mse_test ** 0.5\n",
    "rmse_test"
   ]
  },
  {
   "cell_type": "code",
   "execution_count": 88,
   "metadata": {},
   "outputs": [],
   "source": [
    "test_score['DecisionTreeRegressor'] = [rmse_train, rmse_valid, rmse_test, '4.46 s']"
   ]
  },
  {
   "cell_type": "markdown",
   "metadata": {},
   "source": [
    "При увеличение числа деревьев, модель сильно переобучивается и  качество предсказаний падает."
   ]
  },
  {
   "cell_type": "markdown",
   "metadata": {},
   "source": [
    "## 2.3.  RandomForestRegressor"
   ]
  },
  {
   "cell_type": "code",
   "execution_count": 89,
   "metadata": {},
   "outputs": [
    {
     "name": "stdout",
     "output_type": "stream",
     "text": [
      "n_estimators = 37 :\n",
      "Результат проверки на обучающей  выборке 1440.0451372763841\n",
      "Результат проверки на валидационной выборке 1721.6456493530127\n",
      "\n",
      "n_estimators = 38 :\n",
      "Результат проверки на обучающей  выборке 1439.9254508307963\n",
      "Результат проверки на валидационной выборке 1721.5118991839404\n",
      "\n",
      "n_estimators = 39 :\n",
      "Результат проверки на обучающей  выборке 1439.8144363515971\n",
      "Результат проверки на валидационной выборке 1721.7571401477217\n",
      "\n",
      "n_estimators = 40 :\n",
      "Результат проверки на обучающей  выборке 1439.6668574587375\n",
      "Результат проверки на валидационной выборке 1721.4683946116781\n",
      "\n",
      "n_estimators = 41 :\n",
      "Результат проверки на обучающей  выборке 1439.5182702191291\n",
      "Результат проверки на валидационной выборке 1721.351394788075\n",
      "\n",
      "n_estimators = 42 :\n",
      "Результат проверки на обучающей  выборке 1439.5400141515129\n",
      "Результат проверки на валидационной выборке 1721.6332585719094\n",
      "\n",
      "n_estimators = 43 :\n",
      "Результат проверки на обучающей  выборке 1439.4092853004593\n",
      "Результат проверки на валидационной выборке 1721.1412436907303\n",
      "\n",
      "n_estimators = 44 :\n",
      "Результат проверки на обучающей  выборке 1439.1281185466316\n",
      "Результат проверки на валидационной выборке 1720.7660870802051\n",
      "\n",
      "CPU times: user 15min 29s, sys: 2.97 s, total: 15min 32s\n",
      "Wall time: 15min 40s\n"
     ]
    }
   ],
   "source": [
    "%%time\n",
    "for estim in np.arange(37, 45):\n",
    "    rf_regr = (RandomForestRegressor(max_depth=14, \n",
    "                                     n_estimators=estim,\n",
    "                                     random_state=12345)\n",
    "        .fit(features_train, target_train)\n",
    "       )\n",
    "    predictions = rf_regr.predict(features_train)\n",
    "    mse = mean_squared_error(target_train, predictions)\n",
    "    rmse = mse ** 0.5\n",
    "    \n",
    "    predictions_valid = rf_regr.predict(features_valid)\n",
    "    mse_valid = mean_squared_error(target_valid, predictions_valid)\n",
    "    rmse_valid = mse_valid ** 0.5\n",
    "    \n",
    "    print(\"n_estimators =\", estim, \":\")\n",
    "    print(\"Результат проверки на обучающей  выборке\", rmse)\n",
    "    print(\"Результат проверки на валидационной выборке\", rmse_valid)\n",
    "    print()"
   ]
  },
  {
   "cell_type": "code",
   "execution_count": 90,
   "metadata": {},
   "outputs": [
    {
     "name": "stdout",
     "output_type": "stream",
     "text": [
      "CPU times: user 2min, sys: 379 ms, total: 2min 1s\n",
      "Wall time: 2min 2s\n"
     ]
    },
    {
     "data": {
      "text/plain": [
       "1706.2479709781828"
      ]
     },
     "execution_count": 90,
     "metadata": {},
     "output_type": "execute_result"
    }
   ],
   "source": [
    "%%time\n",
    "rf_regr = (RandomForestRegressor(max_depth=14,\n",
    "                                 n_estimators=42,\n",
    "                                 random_state=12345\n",
    "                                )\n",
    "           .fit(features_train, target_train)\n",
    "          )\n",
    "predictions = rf_regr.predict(features_train)\n",
    "mse = mean_squared_error(target_train, predictions)\n",
    "rmse_train = mse ** 0.5\n",
    "    \n",
    "predictions_valid = rf_regr.predict(features_valid)\n",
    "mse_valid = mean_squared_error(target_valid, predictions_valid)\n",
    "rmse_valid = mse_valid ** 0.5\n",
    "\n",
    "predictions_test = rf_regr.predict(features_test)\n",
    "mse_test = mean_squared_error(target_test, predictions_test)\n",
    "rmse_test = mse_test ** 0.5\n",
    "rmse_test"
   ]
  },
  {
   "cell_type": "code",
   "execution_count": 91,
   "metadata": {},
   "outputs": [],
   "source": [
    "test_score['RandomForestRegressor']  = [rmse_train, rmse_valid, rmse_test, '1min 57s']"
   ]
  },
  {
   "cell_type": "code",
   "execution_count": 92,
   "metadata": {},
   "outputs": [
    {
     "name": "stdout",
     "output_type": "stream",
     "text": [
      "CPU times: user 4 µs, sys: 0 ns, total: 4 µs\n",
      "Wall time: 8.34 µs\n"
     ]
    }
   ],
   "source": [
    "%%time\n",
    "# авоматизизированный перебор параметрров для проверки результата с помощью GridSearchCV\n",
    "###parameters = {'max_depth': range(15, 100, 2)}\n",
    "#gs = GridSearchCV(DecisionTreeRegressor(random_state=12345), \n",
    "#                  parameters,\n",
    "#                  cv=kf,\n",
    "#                  scoring='neg_mean_squared_error')\n",
    "\n",
    "# обучение\n",
    "#gs.fit(features_train, target_train)\n",
    "# просмотр лучших параметров\n",
    "#gs.best_params_\n"
   ]
  },
  {
   "cell_type": "markdown",
   "metadata": {},
   "source": [
    "## 2.4.  LGBMRegressor"
   ]
  },
  {
   "cell_type": "code",
   "execution_count": 107,
   "metadata": {},
   "outputs": [
    {
     "name": "stdout",
     "output_type": "stream",
     "text": [
      "CPU times: user 7min 33s, sys: 20.9 s, total: 7min 54s\n",
      "Wall time: 7min 59s\n"
     ]
    },
    {
     "data": {
      "text/plain": [
       "{'max_depth': 13, 'n_estimators': 44}"
      ]
     },
     "execution_count": 107,
     "metadata": {},
     "output_type": "execute_result"
    }
   ],
   "source": [
    "%%time\n",
    "parameters = {'max_depth': np.arange(13, 15),\n",
    "              'n_estimators': np.arange(37, 45)\n",
    "             }\n",
    "\n",
    "gs = GridSearchCV(LGBMRegressor(random_state=12345), \n",
    "                  parameters,\n",
    "                  cv=kf,\n",
    "                  scoring='neg_mean_squared_error')\n",
    "\n",
    "# обучение\n",
    "gs.fit(features_train, target_train)\n",
    "# просмотр лучших параметров\n",
    "gs.best_params_\n"
   ]
  },
  {
   "cell_type": "code",
   "execution_count": 108,
   "metadata": {},
   "outputs": [
    {
     "data": {
      "text/plain": [
       "-3142401.5883854367"
      ]
     },
     "execution_count": 108,
     "metadata": {},
     "output_type": "execute_result"
    }
   ],
   "source": [
    "# лучший результат\n",
    "gs.best_score_"
   ]
  },
  {
   "cell_type": "code",
   "execution_count": 104,
   "metadata": {},
   "outputs": [
    {
     "name": "stdout",
     "output_type": "stream",
     "text": [
      "CPU times: user 6.67 s, sys: 582 ms, total: 7.25 s\n",
      "Wall time: 7.26 s\n"
     ]
    },
    {
     "data": {
      "text/plain": [
       "1790.4993568922073"
      ]
     },
     "execution_count": 104,
     "metadata": {},
     "output_type": "execute_result"
    }
   ],
   "source": [
    "%%time\n",
    "model_lgb = (LGBMRegressor(max_depth=14, \n",
    "                           n_estimators=39,\n",
    "                           random_state=12345)\n",
    "             .fit(features_train, target_train)\n",
    "            )\n",
    "\n",
    "predictions = model_lgb.predict(features_train)\n",
    "mse = mean_squared_error(target_train, predictions)\n",
    "rmse_train = mse ** 0.5\n",
    "    \n",
    "predictions_valid = model_lgb.predict(features_valid)\n",
    "mse_valid = mean_squared_error(target_valid, predictions_valid)\n",
    "rmse_valid = mse_valid ** 0.5\n",
    "\n",
    "predictions_test = model_lgb.predict(features_test)\n",
    "mse_test = mean_squared_error(target_test, predictions_test)\n",
    "rmse_test = mse_test ** 0.5\n",
    "rmse_test"
   ]
  },
  {
   "cell_type": "code",
   "execution_count": 105,
   "metadata": {},
   "outputs": [],
   "source": [
    "test_score['LGBMRegressor'] = [rmse_train, rmse_valid, rmse_test, '9.34 s']"
   ]
  },
  {
   "cell_type": "markdown",
   "metadata": {},
   "source": [
    "# 3. Анализ моделей"
   ]
  },
  {
   "cell_type": "code",
   "execution_count": 106,
   "metadata": {},
   "outputs": [
    {
     "data": {
      "text/html": [
       "<div>\n",
       "<style scoped>\n",
       "    .dataframe tbody tr th:only-of-type {\n",
       "        vertical-align: middle;\n",
       "    }\n",
       "\n",
       "    .dataframe tbody tr th {\n",
       "        vertical-align: top;\n",
       "    }\n",
       "\n",
       "    .dataframe thead th {\n",
       "        text-align: right;\n",
       "    }\n",
       "</style>\n",
       "<table border=\"1\" class=\"dataframe\">\n",
       "  <thead>\n",
       "    <tr style=\"text-align: right;\">\n",
       "      <th></th>\n",
       "      <th>RMSE train</th>\n",
       "      <th>RMSE valid</th>\n",
       "      <th>RMSE test</th>\n",
       "      <th>Speed</th>\n",
       "    </tr>\n",
       "  </thead>\n",
       "  <tbody>\n",
       "    <tr>\n",
       "      <td>LinearRegression</td>\n",
       "      <td>2782.596840</td>\n",
       "      <td>2801.311675</td>\n",
       "      <td>2801.311675</td>\n",
       "      <td>17.8 s</td>\n",
       "    </tr>\n",
       "    <tr>\n",
       "      <td>DecisionTreeRegressor</td>\n",
       "      <td>2782.596840</td>\n",
       "      <td>1958.419797</td>\n",
       "      <td>1890.148161</td>\n",
       "      <td>4.46 s</td>\n",
       "    </tr>\n",
       "    <tr>\n",
       "      <td>RandomForestRegressor</td>\n",
       "      <td>1439.540014</td>\n",
       "      <td>1721.633259</td>\n",
       "      <td>1706.247971</td>\n",
       "      <td>1min 57s</td>\n",
       "    </tr>\n",
       "    <tr>\n",
       "      <td>LGBMRegressor</td>\n",
       "      <td>1787.436646</td>\n",
       "      <td>1819.773445</td>\n",
       "      <td>1790.499357</td>\n",
       "      <td>9.34 s</td>\n",
       "    </tr>\n",
       "  </tbody>\n",
       "</table>\n",
       "</div>"
      ],
      "text/plain": [
       "                        RMSE train   RMSE valid    RMSE test     Speed\n",
       "LinearRegression       2782.596840  2801.311675  2801.311675    17.8 s\n",
       "DecisionTreeRegressor  2782.596840  1958.419797  1890.148161    4.46 s\n",
       "RandomForestRegressor  1439.540014  1721.633259  1706.247971  1min 57s\n",
       "LGBMRegressor          1787.436646  1819.773445  1790.499357    9.34 s"
      ]
     },
     "execution_count": 106,
     "metadata": {},
     "output_type": "execute_result"
    }
   ],
   "source": [
    "df_score = pd.DataFrame.from_dict(data=test_score, columns=['RMSE train', 'RMSE valid', 'RMSE test', 'Speed'], orient='index')\n",
    "df_score"
   ]
  },
  {
   "cell_type": "code",
   "execution_count": 103,
   "metadata": {},
   "outputs": [
    {
     "data": {
      "text/plain": [
       "<matplotlib.axes._subplots.AxesSubplot at 0x7f7d7571cb90>"
      ]
     },
     "execution_count": 103,
     "metadata": {},
     "output_type": "execute_result"
    },
    {
     "data": {
      "image/png": "[encoded data removed]",
      "text/plain": [
       "<Figure size 432x288 with 1 Axes>"
      ]
     },
     "metadata": {
      "needs_background": "light"
     },
     "output_type": "display_data"
    }
   ],
   "source": [
    "df_score.plot(kind='bar', legend=False)"
   ]
  },
  {
   "cell_type": "markdown",
   "metadata": {},
   "source": [
    "### Выводы:\n",
    "\n",
    "Можель LGBMRegressor показывается наилучший результат как по качеству так и по времени.\n",
    "RandomForestRegressor показывает чуть лучший результат по качеству но время обучения в разы дольше."
   ]
  },
  {
   "cell_type": "markdown",
   "metadata": {},
   "source": [
    "## Чек-лист проверки"
   ]
  },
  {
   "cell_type": "markdown",
   "metadata": {},
   "source": [
    "Поставьте 'x' в выполненных пунктах. Далее нажмите Shift+Enter."
   ]
  },
  {
   "cell_type": "markdown",
   "metadata": {},
   "source": [
    "- [x]  Jupyter Notebook открыт\n",
    "- [x]  Весь код выполняется без ошибок\n",
    "- [x]  Ячейки с кодом расположены в порядке исполнения\n",
    "- [x]  Выполнена загрузка и подготовка данных\n",
    "- [x]  Выполнено обучение моделей\n",
    "- [X]  Есть анализ скорости работы и качества моделей"
   ]
  }
 ],
 "metadata": {
  "kernelspec": {
   "display_name": "Python 3 (ipykernel)",
   "language": "python",
   "name": "python3"
  },
  "language_info": {
   "codemirror_mode": {
    "name": "ipython",
    "version": 3
   },
   "file_extension": ".py",
   "mimetype": "text/x-python",
   "name": "python",
   "nbconvert_exporter": "python",
   "pygments_lexer": "ipython3",
   "version": "3.9.13"
  }
 },
 "nbformat": 4,
 "nbformat_minor": 2
}
