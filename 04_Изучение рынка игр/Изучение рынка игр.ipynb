{
 "cells": [
  {
   "cell_type": "markdown",
   "metadata": {},
   "source": [
    "# Исcледование игр."
   ]
  },
  {
   "cell_type": "markdown",
   "metadata": {},
   "source": [
    "Из открытых источников доступны исторические данные о продажах игр, оценки пользователей и экспертов, жанры и платформы (например, Xbox или PlayStation). Нам нужно выявить определяющие успешность игры закономерности. Это позволит сделать ставку на потенциально популярный продукт и спланировать рекламные кампании.\n",
    "\n",
    "Перед нами данные до 2016 года. Нужно отработать принцип работы с данными.\n",
    "\n",
    "В данном иследование я проверю данные на ошибки и исправлю их при необходимости, затем проведу статистические исследоваиния и выявлю характерные признаки поведения пользователей, в завершающей части проверю несколько гипотез о равенсве признаков. "
   ]
  },
  {
   "cell_type": "markdown",
   "metadata": {},
   "source": [
    "### Шаг 1. Загрузка данных и изучение общеё информации"
   ]
  },
  {
   "cell_type": "code",
   "execution_count": 84,
   "metadata": {},
   "outputs": [],
   "source": [
    "# импорт библиотек\n",
    "import pandas as pd\n",
    "import numpy as np\n",
    "from scipy import stats as st\n",
    "import matplotlib.pyplot as plt\n",
    "import seaborn as sns\n",
    "import math\n",
    "\n",
    "# Импортируем pymystem3:\n",
    "from pymystem3 import Mystem\n",
    "from collections import Counter\n",
    "\n",
    "pd.options.mode.chained_assignment = None"
   ]
  },
  {
   "cell_type": "code",
   "execution_count": 85,
   "metadata": {},
   "outputs": [],
   "source": [
    "# чтение файла\n",
    "data_games = pd.read_csv(\"/datasets/games.csv\")"
   ]
  },
  {
   "cell_type": "code",
   "execution_count": 86,
   "metadata": {},
   "outputs": [
    {
     "data": {
      "text/html": [
       "<div>\n",
       "<style scoped>\n",
       "    .dataframe tbody tr th:only-of-type {\n",
       "        vertical-align: middle;\n",
       "    }\n",
       "\n",
       "    .dataframe tbody tr th {\n",
       "        vertical-align: top;\n",
       "    }\n",
       "\n",
       "    .dataframe thead th {\n",
       "        text-align: right;\n",
       "    }\n",
       "</style>\n",
       "<table border=\"1\" class=\"dataframe\">\n",
       "  <thead>\n",
       "    <tr style=\"text-align: right;\">\n",
       "      <th></th>\n",
       "      <th>Name</th>\n",
       "      <th>Platform</th>\n",
       "      <th>Year_of_Release</th>\n",
       "      <th>Genre</th>\n",
       "      <th>NA_sales</th>\n",
       "      <th>EU_sales</th>\n",
       "      <th>JP_sales</th>\n",
       "      <th>Other_sales</th>\n",
       "      <th>Critic_Score</th>\n",
       "      <th>User_Score</th>\n",
       "      <th>Rating</th>\n",
       "    </tr>\n",
       "  </thead>\n",
       "  <tbody>\n",
       "    <tr>\n",
       "      <td>0</td>\n",
       "      <td>Wii Sports</td>\n",
       "      <td>Wii</td>\n",
       "      <td>2006.0</td>\n",
       "      <td>Sports</td>\n",
       "      <td>41.36</td>\n",
       "      <td>28.96</td>\n",
       "      <td>3.77</td>\n",
       "      <td>8.45</td>\n",
       "      <td>76.0</td>\n",
       "      <td>8</td>\n",
       "      <td>E</td>\n",
       "    </tr>\n",
       "    <tr>\n",
       "      <td>1</td>\n",
       "      <td>Super Mario Bros.</td>\n",
       "      <td>NES</td>\n",
       "      <td>1985.0</td>\n",
       "      <td>Platform</td>\n",
       "      <td>29.08</td>\n",
       "      <td>3.58</td>\n",
       "      <td>6.81</td>\n",
       "      <td>0.77</td>\n",
       "      <td>NaN</td>\n",
       "      <td>NaN</td>\n",
       "      <td>NaN</td>\n",
       "    </tr>\n",
       "    <tr>\n",
       "      <td>2</td>\n",
       "      <td>Mario Kart Wii</td>\n",
       "      <td>Wii</td>\n",
       "      <td>2008.0</td>\n",
       "      <td>Racing</td>\n",
       "      <td>15.68</td>\n",
       "      <td>12.76</td>\n",
       "      <td>3.79</td>\n",
       "      <td>3.29</td>\n",
       "      <td>82.0</td>\n",
       "      <td>8.3</td>\n",
       "      <td>E</td>\n",
       "    </tr>\n",
       "    <tr>\n",
       "      <td>3</td>\n",
       "      <td>Wii Sports Resort</td>\n",
       "      <td>Wii</td>\n",
       "      <td>2009.0</td>\n",
       "      <td>Sports</td>\n",
       "      <td>15.61</td>\n",
       "      <td>10.93</td>\n",
       "      <td>3.28</td>\n",
       "      <td>2.95</td>\n",
       "      <td>80.0</td>\n",
       "      <td>8</td>\n",
       "      <td>E</td>\n",
       "    </tr>\n",
       "    <tr>\n",
       "      <td>4</td>\n",
       "      <td>Pokemon Red/Pokemon Blue</td>\n",
       "      <td>GB</td>\n",
       "      <td>1996.0</td>\n",
       "      <td>Role-Playing</td>\n",
       "      <td>11.27</td>\n",
       "      <td>8.89</td>\n",
       "      <td>10.22</td>\n",
       "      <td>1.00</td>\n",
       "      <td>NaN</td>\n",
       "      <td>NaN</td>\n",
       "      <td>NaN</td>\n",
       "    </tr>\n",
       "  </tbody>\n",
       "</table>\n",
       "</div>"
      ],
      "text/plain": [
       "                       Name Platform  Year_of_Release         Genre  NA_sales  \\\n",
       "0                Wii Sports      Wii           2006.0        Sports     41.36   \n",
       "1         Super Mario Bros.      NES           1985.0      Platform     29.08   \n",
       "2            Mario Kart Wii      Wii           2008.0        Racing     15.68   \n",
       "3         Wii Sports Resort      Wii           2009.0        Sports     15.61   \n",
       "4  Pokemon Red/Pokemon Blue       GB           1996.0  Role-Playing     11.27   \n",
       "\n",
       "   EU_sales  JP_sales  Other_sales  Critic_Score User_Score Rating  \n",
       "0     28.96      3.77         8.45          76.0          8      E  \n",
       "1      3.58      6.81         0.77           NaN        NaN    NaN  \n",
       "2     12.76      3.79         3.29          82.0        8.3      E  \n",
       "3     10.93      3.28         2.95          80.0          8      E  \n",
       "4      8.89     10.22         1.00           NaN        NaN    NaN  "
      ]
     },
     "execution_count": 86,
     "metadata": {},
     "output_type": "execute_result"
    }
   ],
   "source": [
    "# получение первых 5 строк таблицы\n",
    "data_games.head(5)"
   ]
  },
  {
   "cell_type": "code",
   "execution_count": 87,
   "metadata": {},
   "outputs": [
    {
     "name": "stdout",
     "output_type": "stream",
     "text": [
      "<class 'pandas.core.frame.DataFrame'>\n",
      "RangeIndex: 16715 entries, 0 to 16714\n",
      "Data columns (total 11 columns):\n",
      "Name               16713 non-null object\n",
      "Platform           16715 non-null object\n",
      "Year_of_Release    16446 non-null float64\n",
      "Genre              16713 non-null object\n",
      "NA_sales           16715 non-null float64\n",
      "EU_sales           16715 non-null float64\n",
      "JP_sales           16715 non-null float64\n",
      "Other_sales        16715 non-null float64\n",
      "Critic_Score       8137 non-null float64\n",
      "User_Score         10014 non-null object\n",
      "Rating             9949 non-null object\n",
      "dtypes: float64(6), object(5)\n",
      "memory usage: 1.4+ MB\n"
     ]
    }
   ],
   "source": [
    "# получение общей информации о данных в таблице\n",
    "data_games.info()"
   ]
  },
  {
   "cell_type": "markdown",
   "metadata": {},
   "source": [
    "---\n",
    "\n",
    "### Вывод:"
   ]
  },
  {
   "cell_type": "markdown",
   "metadata": {},
   "source": [
    "Описание данных:\n",
    "- Name — название игры\n",
    "- Platform — платформа\n",
    "- Year_of_Release — год выпуска\n",
    "- Genre — жанр игры\n",
    "- NA_sales — продажи в Северной Америке (миллионы долларов)\n",
    "- EU_sales — продажи в Европе (миллионы долларов)\n",
    "- JP_sales — продажи в Японии (миллионы долларов)\n",
    "- Other_sales — продажи в других странах (миллионы долларов)\n",
    "- Critic_Score — оценка критиков (максимум 100)\n",
    "- User_Score — оценка пользователей (максимум 10)\n",
    "- Rating — рейтинг от организации ESRB (англ. Entertainment Software Rating Board). Эта ассоциация определяет рейтинг компьютерных игр и присваивает им подходящую возрастную категорию.\n",
    "\n",
    "Данные за 2016 год могут быть неполными.\n",
    "\n",
    "В данных наблюдается несоответсвие типов данных в столбце User_Score, также наблюдаются пропуски данных.\n",
    "Это может быть вызвано ошибками при внесение данных или ошибках при выгрузке.\n",
    "Возможно данные рейтингов не были загружены в этом случае их можно пропустить и не запоолнять пропуски, чтобы не исказить картину.\n",
    "\n",
    "---"
   ]
  },
  {
   "cell_type": "markdown",
   "metadata": {},
   "source": [
    "### Шаг 2. Подготовка данных"
   ]
  },
  {
   "cell_type": "code",
   "execution_count": 88,
   "metadata": {},
   "outputs": [
    {
     "data": {
      "text/plain": [
       "Index(['Name', 'Platform', 'Year_of_Release', 'Genre', 'NA_sales', 'EU_sales',\n",
       "       'JP_sales', 'Other_sales', 'Critic_Score', 'User_Score', 'Rating'],\n",
       "      dtype='object')"
      ]
     },
     "execution_count": 88,
     "metadata": {},
     "output_type": "execute_result"
    }
   ],
   "source": [
    "# перечень названий столбцов таблицы\n",
    "data_games.columns"
   ]
  },
  {
   "cell_type": "code",
   "execution_count": 89,
   "metadata": {},
   "outputs": [],
   "source": [
    "# переименование столбцов\n",
    "data_games.set_axis(['name', 'platform', 'year_of_release', 'genre', 'na_sales', 'eu_sales',\n",
    "       'jp_sales', 'other_sales', 'critic_score', 'user_score', 'rating'], axis='columns', inplace=True)"
   ]
  },
  {
   "cell_type": "code",
   "execution_count": 90,
   "metadata": {},
   "outputs": [
    {
     "data": {
      "text/plain": [
       "Index(['name', 'platform', 'year_of_release', 'genre', 'na_sales', 'eu_sales',\n",
       "       'jp_sales', 'other_sales', 'critic_score', 'user_score', 'rating'],\n",
       "      dtype='object')"
      ]
     },
     "execution_count": 90,
     "metadata": {},
     "output_type": "execute_result"
    }
   ],
   "source": [
    "# перечень названий столбцов таблицы\n",
    "data_games.columns"
   ]
  },
  {
   "cell_type": "code",
   "execution_count": 91,
   "metadata": {},
   "outputs": [],
   "source": [
    "# замена типа данных в столбце с годом\n",
    "data_games['year_of_release'] = data_games['year_of_release'].astype('Int64')"
   ]
  },
  {
   "cell_type": "code",
   "execution_count": 92,
   "metadata": {},
   "outputs": [
    {
     "data": {
      "text/plain": [
       "name                  2\n",
       "platform              0\n",
       "year_of_release     269\n",
       "genre                 2\n",
       "na_sales              0\n",
       "eu_sales              0\n",
       "jp_sales              0\n",
       "other_sales           0\n",
       "critic_score       8578\n",
       "user_score         6701\n",
       "rating             6766\n",
       "dtype: int64"
      ]
     },
     "execution_count": 92,
     "metadata": {},
     "output_type": "execute_result"
    }
   ],
   "source": [
    "# суммарное количество пропусков\n",
    "data_games.isnull().sum()"
   ]
  },
  {
   "cell_type": "code",
   "execution_count": 93,
   "metadata": {},
   "outputs": [
    {
     "data": {
      "text/html": [
       "<div>\n",
       "<style scoped>\n",
       "    .dataframe tbody tr th:only-of-type {\n",
       "        vertical-align: middle;\n",
       "    }\n",
       "\n",
       "    .dataframe tbody tr th {\n",
       "        vertical-align: top;\n",
       "    }\n",
       "\n",
       "    .dataframe thead th {\n",
       "        text-align: right;\n",
       "    }\n",
       "</style>\n",
       "<table border=\"1\" class=\"dataframe\">\n",
       "  <thead>\n",
       "    <tr style=\"text-align: right;\">\n",
       "      <th></th>\n",
       "      <th>name</th>\n",
       "      <th>genre</th>\n",
       "    </tr>\n",
       "  </thead>\n",
       "  <tbody>\n",
       "    <tr>\n",
       "      <td>659</td>\n",
       "      <td>NaN</td>\n",
       "      <td>NaN</td>\n",
       "    </tr>\n",
       "    <tr>\n",
       "      <td>14244</td>\n",
       "      <td>NaN</td>\n",
       "      <td>NaN</td>\n",
       "    </tr>\n",
       "  </tbody>\n",
       "</table>\n",
       "</div>"
      ],
      "text/plain": [
       "      name genre\n",
       "659    NaN   NaN\n",
       "14244  NaN   NaN"
      ]
     },
     "execution_count": 93,
     "metadata": {},
     "output_type": "execute_result"
    }
   ],
   "source": [
    "# пропроверка пропусков в ['name', 'genre']\n",
    "data_games[['name', 'genre']].query(\"name.isna()\")"
   ]
  },
  {
   "cell_type": "code",
   "execution_count": 94,
   "metadata": {},
   "outputs": [
    {
     "data": {
      "text/plain": [
       "name                  0\n",
       "platform              0\n",
       "year_of_release     269\n",
       "genre                 0\n",
       "na_sales              0\n",
       "eu_sales              0\n",
       "jp_sales              0\n",
       "other_sales           0\n",
       "critic_score       8576\n",
       "user_score         6699\n",
       "rating             6764\n",
       "dtype: int64"
      ]
     },
     "execution_count": 94,
     "metadata": {},
     "output_type": "execute_result"
    }
   ],
   "source": [
    "# удалим эти сторки так как их всего 2 и вариантов замены в название нет\n",
    "data_games.dropna(subset=['name'], inplace = True)\n",
    "data_games.isnull().sum()"
   ]
  },
  {
   "cell_type": "code",
   "execution_count": 95,
   "metadata": {},
   "outputs": [],
   "source": [
    "# фуднкция для подсчета суммарных продаж\n",
    "def total_sales (data_games):\n",
    "    total_sale = 0\n",
    "    na_sales = data_games['na_sales']\n",
    "    eu_sales = data_games['eu_sales']\n",
    "    jp_sales = data_games['jp_sales']\n",
    "    other_sales = data_games['other_sales']\n",
    "    total_sale = na_sales + eu_sales + jp_sales + other_sales\n",
    "    return total_sale\n",
    "\n",
    "# применим функцию для создания нового столбца\n",
    "data_games['total_sales'] = data_games.apply(total_sales, axis=1)"
   ]
  },
  {
   "cell_type": "code",
   "execution_count": 96,
   "metadata": {},
   "outputs": [
    {
     "data": {
      "text/html": [
       "<div>\n",
       "<style scoped>\n",
       "    .dataframe tbody tr th:only-of-type {\n",
       "        vertical-align: middle;\n",
       "    }\n",
       "\n",
       "    .dataframe tbody tr th {\n",
       "        vertical-align: top;\n",
       "    }\n",
       "\n",
       "    .dataframe thead th {\n",
       "        text-align: right;\n",
       "    }\n",
       "</style>\n",
       "<table border=\"1\" class=\"dataframe\">\n",
       "  <thead>\n",
       "    <tr style=\"text-align: right;\">\n",
       "      <th></th>\n",
       "      <th>year_of_release</th>\n",
       "      <th>na_sales</th>\n",
       "      <th>eu_sales</th>\n",
       "      <th>jp_sales</th>\n",
       "      <th>other_sales</th>\n",
       "      <th>critic_score</th>\n",
       "      <th>total_sales</th>\n",
       "    </tr>\n",
       "  </thead>\n",
       "  <tbody>\n",
       "    <tr>\n",
       "      <td>count</td>\n",
       "      <td>16444.000000</td>\n",
       "      <td>16713.000000</td>\n",
       "      <td>16713.000000</td>\n",
       "      <td>16713.000000</td>\n",
       "      <td>16713.000000</td>\n",
       "      <td>8137.000000</td>\n",
       "      <td>16713.000000</td>\n",
       "    </tr>\n",
       "    <tr>\n",
       "      <td>mean</td>\n",
       "      <td>2006.486256</td>\n",
       "      <td>0.263302</td>\n",
       "      <td>0.145045</td>\n",
       "      <td>0.077625</td>\n",
       "      <td>0.047343</td>\n",
       "      <td>68.967679</td>\n",
       "      <td>0.533315</td>\n",
       "    </tr>\n",
       "    <tr>\n",
       "      <td>std</td>\n",
       "      <td>5.875525</td>\n",
       "      <td>0.813565</td>\n",
       "      <td>0.503359</td>\n",
       "      <td>0.308871</td>\n",
       "      <td>0.186742</td>\n",
       "      <td>13.938165</td>\n",
       "      <td>1.548282</td>\n",
       "    </tr>\n",
       "    <tr>\n",
       "      <td>min</td>\n",
       "      <td>1980.000000</td>\n",
       "      <td>0.000000</td>\n",
       "      <td>0.000000</td>\n",
       "      <td>0.000000</td>\n",
       "      <td>0.000000</td>\n",
       "      <td>13.000000</td>\n",
       "      <td>0.000000</td>\n",
       "    </tr>\n",
       "    <tr>\n",
       "      <td>25%</td>\n",
       "      <td>2003.000000</td>\n",
       "      <td>0.000000</td>\n",
       "      <td>0.000000</td>\n",
       "      <td>0.000000</td>\n",
       "      <td>0.000000</td>\n",
       "      <td>60.000000</td>\n",
       "      <td>0.060000</td>\n",
       "    </tr>\n",
       "    <tr>\n",
       "      <td>50%</td>\n",
       "      <td>2007.000000</td>\n",
       "      <td>0.080000</td>\n",
       "      <td>0.020000</td>\n",
       "      <td>0.000000</td>\n",
       "      <td>0.010000</td>\n",
       "      <td>71.000000</td>\n",
       "      <td>0.170000</td>\n",
       "    </tr>\n",
       "    <tr>\n",
       "      <td>75%</td>\n",
       "      <td>2010.000000</td>\n",
       "      <td>0.240000</td>\n",
       "      <td>0.110000</td>\n",
       "      <td>0.040000</td>\n",
       "      <td>0.030000</td>\n",
       "      <td>79.000000</td>\n",
       "      <td>0.470000</td>\n",
       "    </tr>\n",
       "    <tr>\n",
       "      <td>max</td>\n",
       "      <td>2016.000000</td>\n",
       "      <td>41.360000</td>\n",
       "      <td>28.960000</td>\n",
       "      <td>10.220000</td>\n",
       "      <td>10.570000</td>\n",
       "      <td>98.000000</td>\n",
       "      <td>82.540000</td>\n",
       "    </tr>\n",
       "  </tbody>\n",
       "</table>\n",
       "</div>"
      ],
      "text/plain": [
       "       year_of_release      na_sales      eu_sales      jp_sales  \\\n",
       "count     16444.000000  16713.000000  16713.000000  16713.000000   \n",
       "mean       2006.486256      0.263302      0.145045      0.077625   \n",
       "std           5.875525      0.813565      0.503359      0.308871   \n",
       "min        1980.000000      0.000000      0.000000      0.000000   \n",
       "25%        2003.000000      0.000000      0.000000      0.000000   \n",
       "50%        2007.000000      0.080000      0.020000      0.000000   \n",
       "75%        2010.000000      0.240000      0.110000      0.040000   \n",
       "max        2016.000000     41.360000     28.960000     10.220000   \n",
       "\n",
       "        other_sales  critic_score   total_sales  \n",
       "count  16713.000000   8137.000000  16713.000000  \n",
       "mean       0.047343     68.967679      0.533315  \n",
       "std        0.186742     13.938165      1.548282  \n",
       "min        0.000000     13.000000      0.000000  \n",
       "25%        0.000000     60.000000      0.060000  \n",
       "50%        0.010000     71.000000      0.170000  \n",
       "75%        0.030000     79.000000      0.470000  \n",
       "max       10.570000     98.000000     82.540000  "
      ]
     },
     "execution_count": 96,
     "metadata": {},
     "output_type": "execute_result"
    }
   ],
   "source": [
    "data_games.describe()"
   ]
  },
  {
   "cell_type": "code",
   "execution_count": 97,
   "metadata": {},
   "outputs": [
    {
     "data": {
      "text/html": [
       "<div>\n",
       "<style scoped>\n",
       "    .dataframe tbody tr th:only-of-type {\n",
       "        vertical-align: middle;\n",
       "    }\n",
       "\n",
       "    .dataframe tbody tr th {\n",
       "        vertical-align: top;\n",
       "    }\n",
       "\n",
       "    .dataframe thead th {\n",
       "        text-align: right;\n",
       "    }\n",
       "</style>\n",
       "<table border=\"1\" class=\"dataframe\">\n",
       "  <thead>\n",
       "    <tr style=\"text-align: right;\">\n",
       "      <th></th>\n",
       "      <th>name</th>\n",
       "      <th>platform</th>\n",
       "      <th>year_of_release</th>\n",
       "      <th>genre</th>\n",
       "      <th>na_sales</th>\n",
       "      <th>eu_sales</th>\n",
       "      <th>jp_sales</th>\n",
       "      <th>other_sales</th>\n",
       "      <th>critic_score</th>\n",
       "      <th>user_score</th>\n",
       "      <th>rating</th>\n",
       "      <th>total_sales</th>\n",
       "      <th>year_in_name</th>\n",
       "    </tr>\n",
       "  </thead>\n",
       "  <tbody>\n",
       "  </tbody>\n",
       "</table>\n",
       "</div>"
      ],
      "text/plain": [
       "Empty DataFrame\n",
       "Columns: [name, platform, year_of_release, genre, na_sales, eu_sales, jp_sales, other_sales, critic_score, user_score, rating, total_sales, year_in_name]\n",
       "Index: []"
      ]
     },
     "execution_count": 97,
     "metadata": {},
     "output_type": "execute_result"
    }
   ],
   "source": [
    "# функция для определения года игры из названия   \n",
    "def name(data_games):\n",
    "    \n",
    "    for i in range(1980, 2020):\n",
    "        if str(i) in data_games:\n",
    "            return int(i)\n",
    "\n",
    "        \n",
    "data_games['year_of_release'] = data_games['year_of_release'].fillna(0)\n",
    "data_games['year_in_name'] = data_games['name'].apply(name)\n",
    "data_games['year_of_release'] = data_games['year_of_release'].replace(0, data_games['year_in_name'])\n",
    "data_games[\"year_of_release\"] = data_games.groupby('platform')['year_of_release'].transform(lambda x: x.replace(0, x.mean()))\n",
    "data_games.query(\"year_of_release == 0\")"
   ]
  },
  {
   "cell_type": "code",
   "execution_count": 98,
   "metadata": {},
   "outputs": [],
   "source": [
    "# удалим оставшиеся пропуски в столбце 'year_of_release'\n",
    "data_games.dropna(subset=['year_of_release'], inplace = True)\n",
    "\n",
    "# замена типа данных в столбце с годом\n",
    "data_games['year_of_release'] = data_games['year_of_release'].astype('Int64')\n",
    "\n",
    "# проведя исследования в интернете TBD это не определенный рейтинг, то есть заменим данный на Nan\n",
    "data_games['user_score'] = data_games['user_score'].replace('tbd', np.nan)\n",
    "\n",
    "# замена типа данных\n",
    "data_games[\"user_score\"] = data_games[\"user_score\"].astype('float64')\n"
   ]
  },
  {
   "cell_type": "code",
   "execution_count": 99,
   "metadata": {},
   "outputs": [
    {
     "data": {
      "text/plain": [
       "genre\n",
       "Action          M\n",
       "Adventure       M\n",
       "Fighting        T\n",
       "Misc            E\n",
       "Platform        E\n",
       "Puzzle          E\n",
       "Racing          E\n",
       "Role-Playing    T\n",
       "Shooter         M\n",
       "Simulation      E\n",
       "Sports          E\n",
       "Strategy        T\n",
       "Name: rating, dtype: object"
      ]
     },
     "execution_count": 99,
     "metadata": {},
     "output_type": "execute_result"
    }
   ],
   "source": [
    "# проведем группировку рейтинга по жанру\n",
    "data_games.groupby(['genre'])['rating'].first()"
   ]
  },
  {
   "cell_type": "code",
   "execution_count": 100,
   "metadata": {},
   "outputs": [],
   "source": [
    "# функция для замены пропусказ в столбце 'rating' на основание группировки по жанрам\n",
    "def rating(row):\n",
    "    if row == 'Action':\n",
    "            return 'M'\n",
    "    if row == 'Adventure':\n",
    "            return 'M'\n",
    "    if row == 'Fighting':\n",
    "            return 'T'\n",
    "    if row == 'Misc':\n",
    "            return 'E'\n",
    "    if row == 'Platform':\n",
    "            return 'E'\n",
    "    if row == 'Puzzle':\n",
    "            return 'E'\n",
    "    if row == 'Racing':\n",
    "            return 'E'\n",
    "    if row == 'Role-Playing':\n",
    "            return 'T'\n",
    "    if row == 'Shooter':\n",
    "            return 'M'\n",
    "    if row == 'Simulation':\n",
    "            return 'E'\n",
    "    if row == 'Sports':\n",
    "            return 'E'\n",
    "    if row == 'Strategy':\n",
    "            return 'T'\n",
    "\n",
    "# применим функцию для ранее полученной таблицы           \n",
    "data_games['rating'] = data_games['rating'].fillna(0)\n",
    "data_games['rating_genre'] = data_games['genre'].apply(rating)\n",
    "data_games['rating'] = data_games['rating'].replace(0, data_games['rating_genre'])\n"
   ]
  },
  {
   "cell_type": "code",
   "execution_count": 101,
   "metadata": {},
   "outputs": [
    {
     "data": {
      "text/plain": [
       "name                   0\n",
       "platform               0\n",
       "year_of_release        0\n",
       "genre                  0\n",
       "na_sales               0\n",
       "eu_sales               0\n",
       "jp_sales               0\n",
       "other_sales            0\n",
       "critic_score        8466\n",
       "user_score          8988\n",
       "rating                 0\n",
       "total_sales            0\n",
       "year_in_name       15613\n",
       "rating_genre           0\n",
       "dtype: int64"
      ]
     },
     "execution_count": 101,
     "metadata": {},
     "output_type": "execute_result"
    }
   ],
   "source": [
    "# проверка на пропуски\n",
    "data_games.isnull().sum()"
   ]
  },
  {
   "cell_type": "code",
   "execution_count": 102,
   "metadata": {},
   "outputs": [
    {
     "data": {
      "text/plain": [
       "0"
      ]
     },
     "execution_count": 102,
     "metadata": {},
     "output_type": "execute_result"
    }
   ],
   "source": [
    "# получение суммарного количества дубликатов в таблице\n",
    "data_games.duplicated().sum()"
   ]
  },
  {
   "cell_type": "markdown",
   "metadata": {},
   "source": [
    "### Шаг 3. Исследовательский анализ данных"
   ]
  },
  {
   "cell_type": "code",
   "execution_count": 103,
   "metadata": {},
   "outputs": [
    {
     "data": {
      "text/plain": [
       "<matplotlib.axes._subplots.AxesSubplot at 0x7f8b88156850>"
      ]
     },
     "execution_count": 103,
     "metadata": {},
     "output_type": "execute_result"
    },
    {
     "data": {
      "image/png": "[encoded data removed]",
      "text/plain": [
       "<Figure size 1152x360 with 1 Axes>"
      ]
     },
     "metadata": {
      "needs_background": "light"
     },
     "output_type": "display_data"
    }
   ],
   "source": [
    "# сводная таблица с колличеством игр в разбивке по годам.\n",
    "yers_pivot = (data_games\n",
    "                   .pivot_table(index='year_of_release',\n",
    "                                values='name', \n",
    "                                aggfunc='count'\n",
    "                               )\n",
    "                )\n",
    "yers_pivot.sort_values(by='year_of_release', ascending=False).plot(grid=True, kind='bar', figsize=(16, 5))"
   ]
  },
  {
   "cell_type": "markdown",
   "metadata": {},
   "source": [
    "Данные по годам не показательны. Продажи в 2015 и 2016 годах меньше чем в 2008.\n",
    "Продажи игр сначала рости "
   ]
  },
  {
   "cell_type": "code",
   "execution_count": 104,
   "metadata": {
    "scrolled": true
   },
   "outputs": [
    {
     "data": {
      "text/html": [
       "<div>\n",
       "<style scoped>\n",
       "    .dataframe tbody tr th:only-of-type {\n",
       "        vertical-align: middle;\n",
       "    }\n",
       "\n",
       "    .dataframe tbody tr th {\n",
       "        vertical-align: top;\n",
       "    }\n",
       "\n",
       "    .dataframe thead th {\n",
       "        text-align: right;\n",
       "    }\n",
       "</style>\n",
       "<table border=\"1\" class=\"dataframe\">\n",
       "  <thead>\n",
       "    <tr style=\"text-align: right;\">\n",
       "      <th></th>\n",
       "      <th>total_sales</th>\n",
       "    </tr>\n",
       "    <tr>\n",
       "      <th>platform</th>\n",
       "      <th></th>\n",
       "    </tr>\n",
       "  </thead>\n",
       "  <tbody>\n",
       "    <tr>\n",
       "      <td>PS2</td>\n",
       "      <td>1247.28</td>\n",
       "    </tr>\n",
       "    <tr>\n",
       "      <td>X360</td>\n",
       "      <td>961.30</td>\n",
       "    </tr>\n",
       "    <tr>\n",
       "      <td>PS3</td>\n",
       "      <td>931.34</td>\n",
       "    </tr>\n",
       "    <tr>\n",
       "      <td>Wii</td>\n",
       "      <td>891.18</td>\n",
       "    </tr>\n",
       "    <tr>\n",
       "      <td>DS</td>\n",
       "      <td>802.79</td>\n",
       "    </tr>\n",
       "  </tbody>\n",
       "</table>\n",
       "</div>"
      ],
      "text/plain": [
       "          total_sales\n",
       "platform             \n",
       "PS2           1247.28\n",
       "X360           961.30\n",
       "PS3            931.34\n",
       "Wii            891.18\n",
       "DS             802.79"
      ]
     },
     "execution_count": 104,
     "metadata": {},
     "output_type": "execute_result"
    }
   ],
   "source": [
    "# сводная таблица с сумой продаж по платформам\n",
    "platform_pivot = (data_games\n",
    "                   .pivot_table(index='platform',\n",
    "                                values='total_sales', \n",
    "                                aggfunc='sum'\n",
    "                               )\n",
    "                )\n",
    "platform_pivot.sort_values(by='total_sales', ascending=False).head(5)"
   ]
  },
  {
   "cell_type": "code",
   "execution_count": 105,
   "metadata": {},
   "outputs": [],
   "source": [
    "# напишем функцию, которая строит гистограмму продаж для выбранной платформы.\n",
    "def plot_year(data_games, platform):\n",
    "    data_platform = data_games.query(\"platform == @platform\")\n",
    "    data_platform_pivot = (data_platform\n",
    "                           .pivot_table(index='year_of_release', \n",
    "                                        values='total_sales', \n",
    "                                        aggfunc='sum'\n",
    "                                       )\n",
    "                           .plot(\n",
    "                               grid=True,\n",
    "                               kind='bar',\n",
    "                               figsize=(8, 5)\n",
    "                           )\n",
    "                          )\n"
   ]
  },
  {
   "cell_type": "code",
   "execution_count": 106,
   "metadata": {},
   "outputs": [
    {
     "data": {
      "image/png": "[encoded data removed]",
      "text/plain": [
       "<Figure size 576x360 with 1 Axes>"
      ]
     },
     "metadata": {
      "needs_background": "light"
     },
     "output_type": "display_data"
    }
   ],
   "source": [
    "# гистограмма для PS2\n",
    "plot_year(data_games, 'PS2')"
   ]
  },
  {
   "cell_type": "code",
   "execution_count": 107,
   "metadata": {},
   "outputs": [
    {
     "data": {
      "image/png": "[encoded data removed]",
      "text/plain": [
       "<Figure size 576x360 with 1 Axes>"
      ]
     },
     "metadata": {
      "needs_background": "light"
     },
     "output_type": "display_data"
    }
   ],
   "source": [
    "# гистограмма для X360\n",
    "plot_year(data_games, 'X360')"
   ]
  },
  {
   "cell_type": "code",
   "execution_count": 108,
   "metadata": {},
   "outputs": [
    {
     "data": {
      "image/png": "[encoded data removed]",
      "text/plain": [
       "<Figure size 576x360 with 1 Axes>"
      ]
     },
     "metadata": {
      "needs_background": "light"
     },
     "output_type": "display_data"
    }
   ],
   "source": [
    "# гистограмма для PS3\n",
    "plot_year(data_games, 'PS3')"
   ]
  },
  {
   "cell_type": "code",
   "execution_count": 109,
   "metadata": {},
   "outputs": [
    {
     "data": {
      "image/png": "[encoded data removed]",
      "text/plain": [
       "<Figure size 576x360 with 1 Axes>"
      ]
     },
     "metadata": {
      "needs_background": "light"
     },
     "output_type": "display_data"
    }
   ],
   "source": [
    "# гистограмма для Wii\n",
    "plot_year(data_games, 'Wii')"
   ]
  },
  {
   "cell_type": "code",
   "execution_count": 110,
   "metadata": {},
   "outputs": [
    {
     "data": {
      "image/png": "[encoded data removed]",
      "text/plain": [
       "<Figure size 576x360 with 1 Axes>"
      ]
     },
     "metadata": {
      "needs_background": "light"
     },
     "output_type": "display_data"
    }
   ],
   "source": [
    "# гистограмма для DS\n",
    "plot_year(data_games, 'DS')"
   ]
  },
  {
   "cell_type": "markdown",
   "metadata": {},
   "source": [
    "Проверив ТОП 5 платформ по сумме продаж в разбивке по годам наблюдается рост популярности платформы в первые 5-6 лет и затем спад. Срок жизни платформы в среднем 10 лет.\n",
    "\n",
    "Сделам срез данных с 2011 года."
   ]
  },
  {
   "cell_type": "code",
   "execution_count": 111,
   "metadata": {},
   "outputs": [
    {
     "data": {
      "text/html": [
       "<div>\n",
       "<style scoped>\n",
       "    .dataframe tbody tr th:only-of-type {\n",
       "        vertical-align: middle;\n",
       "    }\n",
       "\n",
       "    .dataframe tbody tr th {\n",
       "        vertical-align: top;\n",
       "    }\n",
       "\n",
       "    .dataframe thead th {\n",
       "        text-align: right;\n",
       "    }\n",
       "</style>\n",
       "<table border=\"1\" class=\"dataframe\">\n",
       "  <thead>\n",
       "    <tr style=\"text-align: right;\">\n",
       "      <th></th>\n",
       "      <th>total_sales</th>\n",
       "    </tr>\n",
       "    <tr>\n",
       "      <th>platform</th>\n",
       "      <th></th>\n",
       "    </tr>\n",
       "  </thead>\n",
       "  <tbody>\n",
       "    <tr>\n",
       "      <td>PS3</td>\n",
       "      <td>445.57</td>\n",
       "    </tr>\n",
       "    <tr>\n",
       "      <td>X360</td>\n",
       "      <td>380.43</td>\n",
       "    </tr>\n",
       "    <tr>\n",
       "      <td>PS4</td>\n",
       "      <td>314.14</td>\n",
       "    </tr>\n",
       "    <tr>\n",
       "      <td>3DS</td>\n",
       "      <td>257.81</td>\n",
       "    </tr>\n",
       "    <tr>\n",
       "      <td>XOne</td>\n",
       "      <td>159.32</td>\n",
       "    </tr>\n",
       "    <tr>\n",
       "      <td>PC</td>\n",
       "      <td>98.03</td>\n",
       "    </tr>\n",
       "    <tr>\n",
       "      <td>Wii</td>\n",
       "      <td>95.02</td>\n",
       "    </tr>\n",
       "    <tr>\n",
       "      <td>WiiU</td>\n",
       "      <td>82.19</td>\n",
       "    </tr>\n",
       "    <tr>\n",
       "      <td>PSV</td>\n",
       "      <td>53.81</td>\n",
       "    </tr>\n",
       "    <tr>\n",
       "      <td>DS</td>\n",
       "      <td>38.73</td>\n",
       "    </tr>\n",
       "    <tr>\n",
       "      <td>PSP</td>\n",
       "      <td>29.01</td>\n",
       "    </tr>\n",
       "    <tr>\n",
       "      <td>PS2</td>\n",
       "      <td>0.45</td>\n",
       "    </tr>\n",
       "  </tbody>\n",
       "</table>\n",
       "</div>"
      ],
      "text/plain": [
       "          total_sales\n",
       "platform             \n",
       "PS3            445.57\n",
       "X360           380.43\n",
       "PS4            314.14\n",
       "3DS            257.81\n",
       "XOne           159.32\n",
       "PC              98.03\n",
       "Wii             95.02\n",
       "WiiU            82.19\n",
       "PSV             53.81\n",
       "DS              38.73\n",
       "PSP             29.01\n",
       "PS2              0.45"
      ]
     },
     "execution_count": 111,
     "metadata": {},
     "output_type": "execute_result"
    }
   ],
   "source": [
    "# срез данных с 2011 года для дальнейшего анализа\n",
    "actual_data_games = (data_games\n",
    "                     .query(\"year_of_release >= 2011\"\n",
    "                           )\n",
    "                    )\n",
    "                     \n",
    "# сводная таблица по платфомам\n",
    "actual_data_games_pivot = (actual_data_games\n",
    "                          .pivot_table(index='platform',\n",
    "                                       values='total_sales', \n",
    "                                       aggfunc='sum'\n",
    "                                 )\n",
    "                          .sort_values(by='total_sales',\n",
    "                                       ascending=False\n",
    "                                      )\n",
    "                         )\n",
    "    \n",
    "actual_data_games_pivot"
   ]
  },
  {
   "cell_type": "markdown",
   "metadata": {},
   "source": [
    "Наибольшие продажи наблюдаютя на платформе PS3 (445,57 млн. долл), далее идет X360 (380,43 млн. долл), затем PS4 (314,14 млн. долл)."
   ]
  },
  {
   "cell_type": "code",
   "execution_count": 112,
   "metadata": {
    "scrolled": true
   },
   "outputs": [
    {
     "data": {
      "image/png": "[encoded data removed]",
      "text/plain": [
       "<Figure size 576x360 with 1 Axes>"
      ]
     },
     "metadata": {
      "needs_background": "light"
     },
     "output_type": "display_data"
    }
   ],
   "source": [
    "# гистограмма для PS3 c 2011 г.\n",
    "plot_year(actual_data_games, 'PS3')"
   ]
  },
  {
   "cell_type": "code",
   "execution_count": 113,
   "metadata": {},
   "outputs": [
    {
     "data": {
      "image/png": "[encoded data removed]",
      "text/plain": [
       "<Figure size 576x360 with 1 Axes>"
      ]
     },
     "metadata": {
      "needs_background": "light"
     },
     "output_type": "display_data"
    }
   ],
   "source": [
    "# гистограмма для X360 c 2011 г.\n",
    "plot_year(actual_data_games, 'X360')"
   ]
  },
  {
   "cell_type": "code",
   "execution_count": 114,
   "metadata": {},
   "outputs": [
    {
     "data": {
      "image/png": "[encoded data removed]",
      "text/plain": [
       "<Figure size 576x360 with 1 Axes>"
      ]
     },
     "metadata": {
      "needs_background": "light"
     },
     "output_type": "display_data"
    }
   ],
   "source": [
    "# гистограмма для PS4 c 2011 г.\n",
    "plot_year(actual_data_games, 'PS4')"
   ]
  },
  {
   "cell_type": "code",
   "execution_count": 115,
   "metadata": {},
   "outputs": [
    {
     "data": {
      "image/png": "[encoded data removed]",
      "text/plain": [
       "<Figure size 576x360 with 1 Axes>"
      ]
     },
     "metadata": {
      "needs_background": "light"
     },
     "output_type": "display_data"
    }
   ],
   "source": [
    "# гистограмма для 3DS c 2011 г.\n",
    "plot_year(actual_data_games, '3DS')"
   ]
  },
  {
   "cell_type": "code",
   "execution_count": 116,
   "metadata": {},
   "outputs": [
    {
     "data": {
      "image/png": "[encoded data removed]",
      "text/plain": [
       "<Figure size 576x360 with 1 Axes>"
      ]
     },
     "metadata": {
      "needs_background": "light"
     },
     "output_type": "display_data"
    }
   ],
   "source": [
    "# гистограмма для XOne c 2011 г.\n",
    "plot_year(actual_data_games, 'XOne')"
   ]
  },
  {
   "cell_type": "code",
   "execution_count": 117,
   "metadata": {},
   "outputs": [
    {
     "data": {
      "image/png": "[encoded data removed]",
      "text/plain": [
       "<Figure size 576x360 with 1 Axes>"
      ]
     },
     "metadata": {
      "needs_background": "light"
     },
     "output_type": "display_data"
    }
   ],
   "source": [
    "# гистограмма для PC c 2011 г.\n",
    "plot_year(actual_data_games, 'PC')"
   ]
  },
  {
   "cell_type": "markdown",
   "metadata": {},
   "source": [
    "На основание полученной таблицы и построив гистограммы по платформам можно сделать выводы, что за последние 6 лет наблюдается спад продаж на платформах PS3 X360 PC, то есть можно сделдать вывод, что пик популярности этих платформ прошёл.\n",
    "\n",
    "Судя по данным наиболее перспективными платформами являются PS4 XOne продажи этих платформ растут, то есть у них есть перспектива развития."
   ]
  },
  {
   "cell_type": "code",
   "execution_count": 118,
   "metadata": {
    "scrolled": true
   },
   "outputs": [
    {
     "data": {
      "text/plain": [
       "<matplotlib.axes._subplots.AxesSubplot at 0x7f8b86ef3ed0>"
      ]
     },
     "execution_count": 118,
     "metadata": {},
     "output_type": "execute_result"
    },
    {
     "data": {
      "image/png": "[encoded data removed]",
      "text/plain": [
       "<Figure size 1080x360 with 1 Axes>"
      ]
     },
     "metadata": {
      "needs_background": "light"
     },
     "output_type": "display_data"
    }
   ],
   "source": [
    "# график «ящик с усами» по глобальным продажам каждой игры и разбивкой по платформам. \n",
    "fig = plt.subplots(nrows=1, ncols=1, figsize=(15, 5), sharey=True)\n",
    "sns.boxplot(x=\"platform\",  y=\"total_sales\",  data=actual_data_games, showfliers = False)"
   ]
  },
  {
   "cell_type": "code",
   "execution_count": 119,
   "metadata": {
    "scrolled": false
   },
   "outputs": [
    {
     "data": {
      "text/plain": [
       "<matplotlib.axes._subplots.AxesSubplot at 0x7f8b8be63f50>"
      ]
     },
     "execution_count": 119,
     "metadata": {},
     "output_type": "execute_result"
    },
    {
     "data": {
      "image/png": "[encoded data removed]",
      "text/plain": [
       "<Figure size 1080x360 with 1 Axes>"
      ]
     },
     "metadata": {
      "needs_background": "light"
     },
     "output_type": "display_data"
    }
   ],
   "source": [
    "# сводная таблица с усредненными данными по продажам\n",
    "actual_games_pivot_mean = (actual_data_games\n",
    "                          .pivot_table(index='platform',\n",
    "                                       values='total_sales', \n",
    "                                       aggfunc='mean'\n",
    "                                 )\n",
    "                          .sort_values(by='total_sales',\n",
    "                                       ascending=False\n",
    "                                      )\n",
    "                           .plot(grid=True, kind='bar', figsize=(15, 5))\n",
    "                         )\n",
    "actual_games_pivot_mean"
   ]
  },
  {
   "cell_type": "markdown",
   "metadata": {},
   "source": [
    "Построив \"ящик с усами\" и гистограмму с по среднем продажам, можно выделить наиболее популярные платформы: PS4, X360, XOne и PS4. "
   ]
  },
  {
   "cell_type": "markdown",
   "metadata": {},
   "source": [
    "##### Анализ зависимости продаж от оценок критиков и пользователей"
   ]
  },
  {
   "cell_type": "code",
   "execution_count": 120,
   "metadata": {},
   "outputs": [
    {
     "data": {
      "text/html": [
       "<div>\n",
       "<style scoped>\n",
       "    .dataframe tbody tr th:only-of-type {\n",
       "        vertical-align: middle;\n",
       "    }\n",
       "\n",
       "    .dataframe tbody tr th {\n",
       "        vertical-align: top;\n",
       "    }\n",
       "\n",
       "    .dataframe thead th {\n",
       "        text-align: right;\n",
       "    }\n",
       "</style>\n",
       "<table border=\"1\" class=\"dataframe\">\n",
       "  <thead>\n",
       "    <tr style=\"text-align: right;\">\n",
       "      <th></th>\n",
       "      <th>total_sales</th>\n",
       "      <th>critic_score</th>\n",
       "      <th>user_score</th>\n",
       "    </tr>\n",
       "  </thead>\n",
       "  <tbody>\n",
       "    <tr>\n",
       "      <td>total_sales</td>\n",
       "      <td>1.000000</td>\n",
       "      <td>0.329826</td>\n",
       "      <td>0.031318</td>\n",
       "    </tr>\n",
       "    <tr>\n",
       "      <td>critic_score</td>\n",
       "      <td>0.329826</td>\n",
       "      <td>1.000000</td>\n",
       "      <td>0.533905</td>\n",
       "    </tr>\n",
       "    <tr>\n",
       "      <td>user_score</td>\n",
       "      <td>0.031318</td>\n",
       "      <td>0.533905</td>\n",
       "      <td>1.000000</td>\n",
       "    </tr>\n",
       "  </tbody>\n",
       "</table>\n",
       "</div>"
      ],
      "text/plain": [
       "              total_sales  critic_score  user_score\n",
       "total_sales      1.000000      0.329826    0.031318\n",
       "critic_score     0.329826      1.000000    0.533905\n",
       "user_score       0.031318      0.533905    1.000000"
      ]
     },
     "execution_count": 120,
     "metadata": {},
     "output_type": "execute_result"
    }
   ],
   "source": [
    "# рассчитаем кореляцию \n",
    "actual_data_games[['total_sales', 'critic_score', 'user_score']].corr()"
   ]
  },
  {
   "cell_type": "markdown",
   "metadata": {},
   "source": [
    "Наибольшая корреляция продаж с оценками критиков 0,3"
   ]
  },
  {
   "cell_type": "code",
   "execution_count": 121,
   "metadata": {},
   "outputs": [
    {
     "data": {
      "image/png": "[encoded data removed]",
      "text/plain": [
       "<Figure size 432x432 with 3 Axes>"
      ]
     },
     "metadata": {
      "needs_background": "light"
     },
     "output_type": "display_data"
    },
    {
     "data": {
      "image/png": "[encoded data removed]",
      "text/plain": [
       "<Figure size 432x432 with 3 Axes>"
      ]
     },
     "metadata": {
      "needs_background": "light"
     },
     "output_type": "display_data"
    },
    {
     "data": {
      "image/png": "[encoded data removed]",
      "text/plain": [
       "<Figure size 432x432 with 3 Axes>"
      ]
     },
     "metadata": {
      "needs_background": "light"
     },
     "output_type": "display_data"
    },
    {
     "data": {
      "image/png": "[encoded data removed]",
      "text/plain": [
       "<Figure size 432x432 with 3 Axes>"
      ]
     },
     "metadata": {
      "needs_background": "light"
     },
     "output_type": "display_data"
    },
    {
     "data": {
      "image/png": "[encoded data removed]",
      "text/plain": [
       "<Figure size 432x432 with 3 Axes>"
      ]
     },
     "metadata": {
      "needs_background": "light"
     },
     "output_type": "display_data"
    },
    {
     "data": {
      "image/png": "[encoded data removed]",
      "text/plain": [
       "<Figure size 432x432 with 3 Axes>"
      ]
     },
     "metadata": {
      "needs_background": "light"
     },
     "output_type": "display_data"
    },
    {
     "data": {
      "image/png": "[encoded data removed]",
      "text/plain": [
       "<Figure size 432x432 with 3 Axes>"
      ]
     },
     "metadata": {
      "needs_background": "light"
     },
     "output_type": "display_data"
    },
    {
     "data": {
      "image/png": "[encoded data removed]",
      "text/plain": [
       "<Figure size 432x432 with 3 Axes>"
      ]
     },
     "metadata": {
      "needs_background": "light"
     },
     "output_type": "display_data"
    },
    {
     "data": {
      "image/png": "[encoded data removed]",
      "text/plain": [
       "<Figure size 432x432 with 3 Axes>"
      ]
     },
     "metadata": {
      "needs_background": "light"
     },
     "output_type": "display_data"
    },
    {
     "data": {
      "image/png": "[encoded data removed]",
      "text/plain": [
       "<Figure size 432x432 with 3 Axes>"
      ]
     },
     "metadata": {
      "needs_background": "light"
     },
     "output_type": "display_data"
    },
    {
     "data": {
      "image/png": "[encoded data removed]",
      "text/plain": [
       "<Figure size 432x432 with 3 Axes>"
      ]
     },
     "metadata": {
      "needs_background": "light"
     },
     "output_type": "display_data"
    },
    {
     "data": {
      "image/png": "[encoded data removed]",
      "text/plain": [
       "<Figure size 432x432 with 3 Axes>"
      ]
     },
     "metadata": {
      "needs_background": "light"
     },
     "output_type": "display_data"
    }
   ],
   "source": [
    "for name, group_data in actual_data_games.groupby('platform'):\n",
    "    sns.jointplot(x='critic_score', y='total_sales', data = group_data)\n",
    "    plt.title(name)\n",
    "plt.show()"
   ]
  },
  {
   "cell_type": "code",
   "execution_count": 122,
   "metadata": {},
   "outputs": [
    {
     "data": {
      "image/png": "[encoded data removed]",
      "text/plain": [
       "<Figure size 432x432 with 3 Axes>"
      ]
     },
     "metadata": {
      "needs_background": "light"
     },
     "output_type": "display_data"
    },
    {
     "data": {
      "image/png": "[encoded data removed]",
      "text/plain": [
       "<Figure size 432x432 with 3 Axes>"
      ]
     },
     "metadata": {
      "needs_background": "light"
     },
     "output_type": "display_data"
    },
    {
     "data": {
      "image/png": "[encoded data removed]",
      "text/plain": [
       "<Figure size 432x432 with 3 Axes>"
      ]
     },
     "metadata": {
      "needs_background": "light"
     },
     "output_type": "display_data"
    },
    {
     "data": {
      "image/png": "[encoded data removed]",
      "text/plain": [
       "<Figure size 432x432 with 3 Axes>"
      ]
     },
     "metadata": {
      "needs_background": "light"
     },
     "output_type": "display_data"
    },
    {
     "data": {
      "image/png": "[encoded data removed]",
      "text/plain": [
       "<Figure size 432x432 with 3 Axes>"
      ]
     },
     "metadata": {
      "needs_background": "light"
     },
     "output_type": "display_data"
    },
    {
     "data": {
      "image/png": "[encoded data removed]",
      "text/plain": [
       "<Figure size 432x432 with 3 Axes>"
      ]
     },
     "metadata": {
      "needs_background": "light"
     },
     "output_type": "display_data"
    },
    {
     "data": {
      "image/png": "[encoded data removed]",
      "text/plain": [
       "<Figure size 432x432 with 3 Axes>"
      ]
     },
     "metadata": {
      "needs_background": "light"
     },
     "output_type": "display_data"
    },
    {
     "data": {
      "image/png": "[encoded data removed]",
      "text/plain": [
       "<Figure size 432x432 with 3 Axes>"
      ]
     },
     "metadata": {
      "needs_background": "light"
     },
     "output_type": "display_data"
    },
    {
     "data": {
      "image/png": "[encoded data removed]",
      "text/plain": [
       "<Figure size 432x432 with 3 Axes>"
      ]
     },
     "metadata": {
      "needs_background": "light"
     },
     "output_type": "display_data"
    },
    {
     "data": {
      "image/png": "[encoded data removed]",
      "text/plain": [
       "<Figure size 432x432 with 3 Axes>"
      ]
     },
     "metadata": {
      "needs_background": "light"
     },
     "output_type": "display_data"
    },
    {
     "data": {
      "image/png": "[encoded data removed]",
      "text/plain": [
       "<Figure size 432x432 with 3 Axes>"
      ]
     },
     "metadata": {
      "needs_background": "light"
     },
     "output_type": "display_data"
    },
    {
     "data": {
      "image/png": "[encoded data removed]",
      "text/plain": [
       "<Figure size 432x432 with 3 Axes>"
      ]
     },
     "metadata": {
      "needs_background": "light"
     },
     "output_type": "display_data"
    }
   ],
   "source": [
    "for name, group_data in actual_data_games.groupby('platform'):\n",
    "    sns.jointplot(x='user_score', y='total_sales', data = group_data)\n",
    "    plt.title(name)\n",
    "plt.show()"
   ]
  },
  {
   "cell_type": "markdown",
   "metadata": {},
   "source": [
    "Изучив  диаграммы рассеивания можно сделать выводы, что в некоторых жанрах продажи распределяются равномерно не зависимо от рейтингов, но на некоторых платформах, продажи сконцентрированы у высоких рейтингов."
   ]
  },
  {
   "cell_type": "code",
   "execution_count": 123,
   "metadata": {},
   "outputs": [
    {
     "data": {
      "text/plain": [
       "<matplotlib.axes._subplots.AxesSubplot at 0x7f8b867e0990>"
      ]
     },
     "execution_count": 123,
     "metadata": {},
     "output_type": "execute_result"
    },
    {
     "data": {
      "image/png": "[encoded data removed]",
      "text/plain": [
       "<Figure size 1080x360 with 1 Axes>"
      ]
     },
     "metadata": {
      "needs_background": "light"
     },
     "output_type": "display_data"
    }
   ],
   "source": [
    "#  суммарные продажи в зависимости от жанра\n",
    "actual_games_pivot_genre = (actual_data_games\n",
    "                            .pivot_table(index='genre',\n",
    "                                       values='total_sales', \n",
    "                                       aggfunc='sum'\n",
    "                                      )\n",
    "                            .sort_values(by='total_sales',\n",
    "                                       ascending=False\n",
    "                                      )\n",
    "                            )\n",
    "\n",
    "actual_games_pivot_genre.plot(grid=True,\n",
    "                                  kind='bar',\n",
    "                                  figsize=(15, 5)\n",
    "                                 )"
   ]
  },
  {
   "cell_type": "markdown",
   "metadata": {},
   "source": [
    "###  Вывод:\n",
    "\n",
    "Данные по годам за все время не показательны. Продажи в 2015 и 2016 годах меньше чем в 2008.\n",
    "\n",
    "Проверив ТОП 5 платформ по сумме продаж в разбивке по годам наблюдается рост популярности платформы в первые 5-6 лет и затем спад. Срок жизни платформы в среднем 10 лет.\n",
    "\n",
    "Дла анализа определилил актуальный период: 6 лет с 2011 г.\n",
    "\n",
    "Наибольшие продажи наблюдаютя на платформе PS3 (445,57 млн. долл), далее идет X360 (380,43 млн. долл), затем PS4 (314,14 млн. долл).\n",
    "\n",
    "На основание полученной таблицы и построив гистограммы по платформам можно сделать выводы, что за последние 6 лет наблюдается спад продаж на платформах PS3 X360 PC, то есть можно сделдать вывод, что пик популярности этих платформ прошёл.\n",
    "\n",
    "Судя по данным наиболее перспективными платформами являются PS4 XOne продажи этих платформ растут, то есть у них есть перспектива развития.\n",
    "\n",
    "Построив \"ящик с усами\" и гистограмму с по среднем продажам, можно выделить наиболее популярные платформы: PS4, X360, XOne и PS4.\n",
    "\n",
    "Наибольшая корреляция продаж с оценками критиков 0,3\n",
    "\n",
    "---"
   ]
  },
  {
   "cell_type": "markdown",
   "metadata": {},
   "source": [
    "### Шаг 4. Портрет пользователя каждого региона"
   ]
  },
  {
   "cell_type": "markdown",
   "metadata": {},
   "source": [
    "Определим для пользователя каждого региона (NA, EU, JP):\n",
    "    - Самые популярные платформы (топ-5). Опишите различия в долях продаж.\n",
    "    - Самые популярные жанры (топ-5). Поясните разницу.\n",
    "    - Влияет ли рейтинг ESRB на продажи в отдельном регионе?"
   ]
  },
  {
   "cell_type": "markdown",
   "metadata": {},
   "source": [
    "#### Самые популярные платформы (топ-5)."
   ]
  },
  {
   "cell_type": "code",
   "execution_count": 124,
   "metadata": {},
   "outputs": [
    {
     "data": {
      "text/html": [
       "<div>\n",
       "<style scoped>\n",
       "    .dataframe tbody tr th:only-of-type {\n",
       "        vertical-align: middle;\n",
       "    }\n",
       "\n",
       "    .dataframe tbody tr th {\n",
       "        vertical-align: top;\n",
       "    }\n",
       "\n",
       "    .dataframe thead th {\n",
       "        text-align: right;\n",
       "    }\n",
       "</style>\n",
       "<table border=\"1\" class=\"dataframe\">\n",
       "  <thead>\n",
       "    <tr style=\"text-align: right;\">\n",
       "      <th></th>\n",
       "      <th>sales</th>\n",
       "      <th>share_%</th>\n",
       "    </tr>\n",
       "    <tr>\n",
       "      <th>platform</th>\n",
       "      <th></th>\n",
       "      <th></th>\n",
       "    </tr>\n",
       "  </thead>\n",
       "  <tbody>\n",
       "    <tr>\n",
       "      <td>X360</td>\n",
       "      <td>226.80</td>\n",
       "      <td>27.33</td>\n",
       "    </tr>\n",
       "    <tr>\n",
       "      <td>PS3</td>\n",
       "      <td>168.26</td>\n",
       "      <td>20.28</td>\n",
       "    </tr>\n",
       "    <tr>\n",
       "      <td>PS4</td>\n",
       "      <td>108.74</td>\n",
       "      <td>13.10</td>\n",
       "    </tr>\n",
       "    <tr>\n",
       "      <td>XOne</td>\n",
       "      <td>93.12</td>\n",
       "      <td>11.22</td>\n",
       "    </tr>\n",
       "    <tr>\n",
       "      <td>3DS</td>\n",
       "      <td>82.65</td>\n",
       "      <td>9.96</td>\n",
       "    </tr>\n",
       "  </tbody>\n",
       "</table>\n",
       "</div>"
      ],
      "text/plain": [
       "           sales  share_%\n",
       "platform                 \n",
       "X360      226.80    27.33\n",
       "PS3       168.26    20.28\n",
       "PS4       108.74    13.10\n",
       "XOne       93.12    11.22\n",
       "3DS        82.65     9.96"
      ]
     },
     "execution_count": 124,
     "metadata": {},
     "output_type": "execute_result"
    }
   ],
   "source": [
    "#группировка данных по платформе в зависимости от региона\n",
    "actual_games_pivot_na = (actual_data_games\n",
    "                            .pivot_table(index='platform',\n",
    "                                       values='na_sales', \n",
    "                                       aggfunc='sum'\n",
    "                                      )\n",
    "                            .sort_values(by='na_sales',\n",
    "                                       ascending=False\n",
    "                                      )\n",
    "                            )\n",
    "\n",
    "actual_games_pivot_na.columns = ['sales']\n",
    "actual_games_pivot_na['share_%'] = round(actual_games_pivot_na ['sales']/actual_games_pivot_na ['sales'].sum()*100,2)\n",
    "actual_games_pivot_na.head()"
   ]
  },
  {
   "cell_type": "code",
   "execution_count": 125,
   "metadata": {},
   "outputs": [
    {
     "data": {
      "text/html": [
       "<div>\n",
       "<style scoped>\n",
       "    .dataframe tbody tr th:only-of-type {\n",
       "        vertical-align: middle;\n",
       "    }\n",
       "\n",
       "    .dataframe tbody tr th {\n",
       "        vertical-align: top;\n",
       "    }\n",
       "\n",
       "    .dataframe thead th {\n",
       "        text-align: right;\n",
       "    }\n",
       "</style>\n",
       "<table border=\"1\" class=\"dataframe\">\n",
       "  <thead>\n",
       "    <tr style=\"text-align: right;\">\n",
       "      <th></th>\n",
       "      <th>sales</th>\n",
       "      <th>share_%</th>\n",
       "    </tr>\n",
       "    <tr>\n",
       "      <th>platform</th>\n",
       "      <th></th>\n",
       "      <th></th>\n",
       "    </tr>\n",
       "  </thead>\n",
       "  <tbody>\n",
       "    <tr>\n",
       "      <td>PS3</td>\n",
       "      <td>163.10</td>\n",
       "      <td>24.34</td>\n",
       "    </tr>\n",
       "    <tr>\n",
       "      <td>PS4</td>\n",
       "      <td>141.09</td>\n",
       "      <td>21.06</td>\n",
       "    </tr>\n",
       "    <tr>\n",
       "      <td>X360</td>\n",
       "      <td>117.14</td>\n",
       "      <td>17.48</td>\n",
       "    </tr>\n",
       "    <tr>\n",
       "      <td>3DS</td>\n",
       "      <td>61.27</td>\n",
       "      <td>9.14</td>\n",
       "    </tr>\n",
       "    <tr>\n",
       "      <td>PC</td>\n",
       "      <td>56.95</td>\n",
       "      <td>8.50</td>\n",
       "    </tr>\n",
       "  </tbody>\n",
       "</table>\n",
       "</div>"
      ],
      "text/plain": [
       "           sales  share_%\n",
       "platform                 \n",
       "PS3       163.10    24.34\n",
       "PS4       141.09    21.06\n",
       "X360      117.14    17.48\n",
       "3DS        61.27     9.14\n",
       "PC         56.95     8.50"
      ]
     },
     "execution_count": 125,
     "metadata": {},
     "output_type": "execute_result"
    }
   ],
   "source": [
    "#группировка данных по платформе в зависимости от региона\n",
    "actual_games_pivot_eu = (actual_data_games\n",
    "                            .pivot_table(index='platform',\n",
    "                                       values='eu_sales', \n",
    "                                       aggfunc='sum'\n",
    "                                      )\n",
    "                            .sort_values(by='eu_sales',\n",
    "                                       ascending=False\n",
    "                                      )\n",
    "                            )\n",
    "\n",
    "actual_games_pivot_eu.columns = ['sales']\n",
    "actual_games_pivot_eu['share_%'] = round(actual_games_pivot_eu ['sales']/actual_games_pivot_eu ['sales'].sum()*100,2)\n",
    "actual_games_pivot_eu.head()"
   ]
  },
  {
   "cell_type": "code",
   "execution_count": 126,
   "metadata": {},
   "outputs": [
    {
     "data": {
      "text/html": [
       "<div>\n",
       "<style scoped>\n",
       "    .dataframe tbody tr th:only-of-type {\n",
       "        vertical-align: middle;\n",
       "    }\n",
       "\n",
       "    .dataframe tbody tr th {\n",
       "        vertical-align: top;\n",
       "    }\n",
       "\n",
       "    .dataframe thead th {\n",
       "        text-align: right;\n",
       "    }\n",
       "</style>\n",
       "<table border=\"1\" class=\"dataframe\">\n",
       "  <thead>\n",
       "    <tr style=\"text-align: right;\">\n",
       "      <th></th>\n",
       "      <th>sales</th>\n",
       "      <th>share_%</th>\n",
       "    </tr>\n",
       "    <tr>\n",
       "      <th>platform</th>\n",
       "      <th></th>\n",
       "      <th></th>\n",
       "    </tr>\n",
       "  </thead>\n",
       "  <tbody>\n",
       "    <tr>\n",
       "      <td>3DS</td>\n",
       "      <td>100.62</td>\n",
       "      <td>40.96</td>\n",
       "    </tr>\n",
       "    <tr>\n",
       "      <td>PS3</td>\n",
       "      <td>49.39</td>\n",
       "      <td>20.11</td>\n",
       "    </tr>\n",
       "    <tr>\n",
       "      <td>PSP</td>\n",
       "      <td>24.04</td>\n",
       "      <td>9.79</td>\n",
       "    </tr>\n",
       "    <tr>\n",
       "      <td>PSV</td>\n",
       "      <td>21.84</td>\n",
       "      <td>8.89</td>\n",
       "    </tr>\n",
       "    <tr>\n",
       "      <td>PS4</td>\n",
       "      <td>15.96</td>\n",
       "      <td>6.50</td>\n",
       "    </tr>\n",
       "  </tbody>\n",
       "</table>\n",
       "</div>"
      ],
      "text/plain": [
       "           sales  share_%\n",
       "platform                 \n",
       "3DS       100.62    40.96\n",
       "PS3        49.39    20.11\n",
       "PSP        24.04     9.79\n",
       "PSV        21.84     8.89\n",
       "PS4        15.96     6.50"
      ]
     },
     "execution_count": 126,
     "metadata": {},
     "output_type": "execute_result"
    }
   ],
   "source": [
    "#группировка данных по платформе в зависимости от региона\n",
    "actual_games_pivot_jp = (actual_data_games\n",
    "                            .pivot_table(index='platform',\n",
    "                                       values='jp_sales', \n",
    "                                       aggfunc='sum'\n",
    "                                      )\n",
    "                            .sort_values(by='jp_sales',\n",
    "                                       ascending=False\n",
    "                                      )\n",
    "                            )\n",
    "\n",
    "actual_games_pivot_jp.columns = ['sales']\n",
    "actual_games_pivot_jp['share_%'] = round(actual_games_pivot_jp ['sales']/actual_games_pivot_jp ['sales'].sum()*100,2)\n",
    "actual_games_pivot_jp.head()"
   ]
  },
  {
   "cell_type": "markdown",
   "metadata": {},
   "source": [
    "По продажам в Северной Америке:\n",
    "Наибольшие продажи в разбивке по платформам: X360, доля продаж 27,33% от общего объема в регионе. далее идут PS3-20,28% и PS4-13,10%.\n",
    "\n",
    "По продажам в Европе:\n",
    "Наибольшие продажи в разбивке по платформам: PS3, доля продаж 24,34% от общего объема в регионе. Далее идут PS4-21,06% и X360-17,48%.\n",
    "\n",
    "По продажам в Японии:\n",
    "Наибольшие продажи в разбивке по платформам: 3DS, доля продаж 40,96% от общего объема в регионе. Далее идут PS3 - 20,11% и PSP-9.79%."
   ]
  },
  {
   "cell_type": "markdown",
   "metadata": {},
   "source": [
    "#### Самые популярные жанры (топ-5). "
   ]
  },
  {
   "cell_type": "code",
   "execution_count": 127,
   "metadata": {},
   "outputs": [
    {
     "data": {
      "text/html": [
       "<div>\n",
       "<style scoped>\n",
       "    .dataframe tbody tr th:only-of-type {\n",
       "        vertical-align: middle;\n",
       "    }\n",
       "\n",
       "    .dataframe tbody tr th {\n",
       "        vertical-align: top;\n",
       "    }\n",
       "\n",
       "    .dataframe thead th {\n",
       "        text-align: right;\n",
       "    }\n",
       "</style>\n",
       "<table border=\"1\" class=\"dataframe\">\n",
       "  <thead>\n",
       "    <tr style=\"text-align: right;\">\n",
       "      <th></th>\n",
       "      <th>na_sales</th>\n",
       "    </tr>\n",
       "    <tr>\n",
       "      <th>genre</th>\n",
       "      <th></th>\n",
       "    </tr>\n",
       "  </thead>\n",
       "  <tbody>\n",
       "    <tr>\n",
       "      <td>Action</td>\n",
       "      <td>230.98</td>\n",
       "    </tr>\n",
       "    <tr>\n",
       "      <td>Shooter</td>\n",
       "      <td>194.43</td>\n",
       "    </tr>\n",
       "    <tr>\n",
       "      <td>Sports</td>\n",
       "      <td>108.70</td>\n",
       "    </tr>\n",
       "    <tr>\n",
       "      <td>Role-Playing</td>\n",
       "      <td>83.78</td>\n",
       "    </tr>\n",
       "    <tr>\n",
       "      <td>Misc</td>\n",
       "      <td>69.69</td>\n",
       "    </tr>\n",
       "  </tbody>\n",
       "</table>\n",
       "</div>"
      ],
      "text/plain": [
       "              na_sales\n",
       "genre                 \n",
       "Action          230.98\n",
       "Shooter         194.43\n",
       "Sports          108.70\n",
       "Role-Playing     83.78\n",
       "Misc             69.69"
      ]
     },
     "execution_count": 127,
     "metadata": {},
     "output_type": "execute_result"
    }
   ],
   "source": [
    "# #группировка данных по жанрам  в зависимости от региона\n",
    "actual_games_genre_na = (actual_data_games\n",
    "                            .pivot_table(index='genre',\n",
    "                                       values='na_sales', \n",
    "                                       aggfunc='sum'\n",
    "                                      )\n",
    "                            .sort_values(by='na_sales',\n",
    "                                       ascending=False\n",
    "                                      )\n",
    "                            )\n",
    "actual_games_genre_na.head()"
   ]
  },
  {
   "cell_type": "code",
   "execution_count": 128,
   "metadata": {},
   "outputs": [
    {
     "data": {
      "text/html": [
       "<div>\n",
       "<style scoped>\n",
       "    .dataframe tbody tr th:only-of-type {\n",
       "        vertical-align: middle;\n",
       "    }\n",
       "\n",
       "    .dataframe tbody tr th {\n",
       "        vertical-align: top;\n",
       "    }\n",
       "\n",
       "    .dataframe thead th {\n",
       "        text-align: right;\n",
       "    }\n",
       "</style>\n",
       "<table border=\"1\" class=\"dataframe\">\n",
       "  <thead>\n",
       "    <tr style=\"text-align: right;\">\n",
       "      <th></th>\n",
       "      <th>eu_sales</th>\n",
       "    </tr>\n",
       "    <tr>\n",
       "      <th>genre</th>\n",
       "      <th></th>\n",
       "    </tr>\n",
       "  </thead>\n",
       "  <tbody>\n",
       "    <tr>\n",
       "      <td>Action</td>\n",
       "      <td>199.37</td>\n",
       "    </tr>\n",
       "    <tr>\n",
       "      <td>Shooter</td>\n",
       "      <td>148.02</td>\n",
       "    </tr>\n",
       "    <tr>\n",
       "      <td>Sports</td>\n",
       "      <td>88.48</td>\n",
       "    </tr>\n",
       "    <tr>\n",
       "      <td>Role-Playing</td>\n",
       "      <td>62.30</td>\n",
       "    </tr>\n",
       "    <tr>\n",
       "      <td>Racing</td>\n",
       "      <td>40.62</td>\n",
       "    </tr>\n",
       "  </tbody>\n",
       "</table>\n",
       "</div>"
      ],
      "text/plain": [
       "              eu_sales\n",
       "genre                 \n",
       "Action          199.37\n",
       "Shooter         148.02\n",
       "Sports           88.48\n",
       "Role-Playing     62.30\n",
       "Racing           40.62"
      ]
     },
     "execution_count": 128,
     "metadata": {},
     "output_type": "execute_result"
    }
   ],
   "source": [
    "# #группировка данных по жанрам  в зависимости от региона\n",
    "actual_games_genre_eu = (actual_data_games\n",
    "                            .pivot_table(index='genre',\n",
    "                                       values='eu_sales', \n",
    "                                       aggfunc='sum'\n",
    "                                      )\n",
    "                            .sort_values(by='eu_sales',\n",
    "                                       ascending=False\n",
    "                                      )\n",
    "                            )\n",
    "actual_games_genre_eu.head()"
   ]
  },
  {
   "cell_type": "code",
   "execution_count": 129,
   "metadata": {},
   "outputs": [
    {
     "data": {
      "text/html": [
       "<div>\n",
       "<style scoped>\n",
       "    .dataframe tbody tr th:only-of-type {\n",
       "        vertical-align: middle;\n",
       "    }\n",
       "\n",
       "    .dataframe tbody tr th {\n",
       "        vertical-align: top;\n",
       "    }\n",
       "\n",
       "    .dataframe thead th {\n",
       "        text-align: right;\n",
       "    }\n",
       "</style>\n",
       "<table border=\"1\" class=\"dataframe\">\n",
       "  <thead>\n",
       "    <tr style=\"text-align: right;\">\n",
       "      <th></th>\n",
       "      <th>jp_sales</th>\n",
       "    </tr>\n",
       "    <tr>\n",
       "      <th>genre</th>\n",
       "      <th></th>\n",
       "    </tr>\n",
       "  </thead>\n",
       "  <tbody>\n",
       "    <tr>\n",
       "      <td>Role-Playing</td>\n",
       "      <td>79.87</td>\n",
       "    </tr>\n",
       "    <tr>\n",
       "      <td>Action</td>\n",
       "      <td>63.62</td>\n",
       "    </tr>\n",
       "    <tr>\n",
       "      <td>Misc</td>\n",
       "      <td>17.60</td>\n",
       "    </tr>\n",
       "    <tr>\n",
       "      <td>Fighting</td>\n",
       "      <td>12.38</td>\n",
       "    </tr>\n",
       "    <tr>\n",
       "      <td>Platform</td>\n",
       "      <td>12.13</td>\n",
       "    </tr>\n",
       "  </tbody>\n",
       "</table>\n",
       "</div>"
      ],
      "text/plain": [
       "              jp_sales\n",
       "genre                 \n",
       "Role-Playing     79.87\n",
       "Action           63.62\n",
       "Misc             17.60\n",
       "Fighting         12.38\n",
       "Platform         12.13"
      ]
     },
     "execution_count": 129,
     "metadata": {},
     "output_type": "execute_result"
    }
   ],
   "source": [
    "# #группировка данных по жанрам  в зависимости от региона\n",
    "actual_games_genre_jp = (actual_data_games\n",
    "                            .pivot_table(index='genre',\n",
    "                                       values='jp_sales', \n",
    "                                       aggfunc='sum'\n",
    "                                      )\n",
    "                            .sort_values(by='jp_sales',\n",
    "                                       ascending=False\n",
    "                                      )\n",
    "                            )\n",
    "actual_games_genre_jp.head()"
   ]
  },
  {
   "cell_type": "markdown",
   "metadata": {},
   "source": [
    "#### Влияет ли рейтинг ESRB на продажи в отдельном регионе?"
   ]
  },
  {
   "cell_type": "code",
   "execution_count": 130,
   "metadata": {},
   "outputs": [
    {
     "data": {
      "text/html": [
       "<div>\n",
       "<style scoped>\n",
       "    .dataframe tbody tr th:only-of-type {\n",
       "        vertical-align: middle;\n",
       "    }\n",
       "\n",
       "    .dataframe tbody tr th {\n",
       "        vertical-align: top;\n",
       "    }\n",
       "\n",
       "    .dataframe thead th {\n",
       "        text-align: right;\n",
       "    }\n",
       "</style>\n",
       "<table border=\"1\" class=\"dataframe\">\n",
       "  <thead>\n",
       "    <tr style=\"text-align: right;\">\n",
       "      <th></th>\n",
       "      <th>na_sales</th>\n",
       "    </tr>\n",
       "    <tr>\n",
       "      <th>rating</th>\n",
       "      <th></th>\n",
       "    </tr>\n",
       "  </thead>\n",
       "  <tbody>\n",
       "    <tr>\n",
       "      <td>M</td>\n",
       "      <td>360.28</td>\n",
       "    </tr>\n",
       "    <tr>\n",
       "      <td>E</td>\n",
       "      <td>206.24</td>\n",
       "    </tr>\n",
       "    <tr>\n",
       "      <td>T</td>\n",
       "      <td>145.16</td>\n",
       "    </tr>\n",
       "    <tr>\n",
       "      <td>E10+</td>\n",
       "      <td>117.72</td>\n",
       "    </tr>\n",
       "    <tr>\n",
       "      <td>EC</td>\n",
       "      <td>0.42</td>\n",
       "    </tr>\n",
       "  </tbody>\n",
       "</table>\n",
       "</div>"
      ],
      "text/plain": [
       "        na_sales\n",
       "rating          \n",
       "M         360.28\n",
       "E         206.24\n",
       "T         145.16\n",
       "E10+      117.72\n",
       "EC          0.42"
      ]
     },
     "execution_count": 130,
     "metadata": {},
     "output_type": "execute_result"
    }
   ],
   "source": [
    "# группировка по рейтингу в зависмости от региона\n",
    "actual_games_esbr_na = (actual_data_games\n",
    "                            .pivot_table(index='rating',\n",
    "                                       values='na_sales', \n",
    "                                       aggfunc='sum'\n",
    "                                      )\n",
    "                            .sort_values(by='na_sales',\n",
    "                                       ascending=False\n",
    "                                      )\n",
    "                            )\n",
    "actual_games_esbr_na.head()"
   ]
  },
  {
   "cell_type": "code",
   "execution_count": 131,
   "metadata": {},
   "outputs": [
    {
     "data": {
      "text/html": [
       "<div>\n",
       "<style scoped>\n",
       "    .dataframe tbody tr th:only-of-type {\n",
       "        vertical-align: middle;\n",
       "    }\n",
       "\n",
       "    .dataframe tbody tr th {\n",
       "        vertical-align: top;\n",
       "    }\n",
       "\n",
       "    .dataframe thead th {\n",
       "        text-align: right;\n",
       "    }\n",
       "</style>\n",
       "<table border=\"1\" class=\"dataframe\">\n",
       "  <thead>\n",
       "    <tr style=\"text-align: right;\">\n",
       "      <th></th>\n",
       "      <th>eu_sales</th>\n",
       "    </tr>\n",
       "    <tr>\n",
       "      <th>rating</th>\n",
       "      <th></th>\n",
       "    </tr>\n",
       "  </thead>\n",
       "  <tbody>\n",
       "    <tr>\n",
       "      <td>M</td>\n",
       "      <td>294.81</td>\n",
       "    </tr>\n",
       "    <tr>\n",
       "      <td>E</td>\n",
       "      <td>190.45</td>\n",
       "    </tr>\n",
       "    <tr>\n",
       "      <td>T</td>\n",
       "      <td>106.79</td>\n",
       "    </tr>\n",
       "    <tr>\n",
       "      <td>E10+</td>\n",
       "      <td>78.00</td>\n",
       "    </tr>\n",
       "    <tr>\n",
       "      <td>RP</td>\n",
       "      <td>0.03</td>\n",
       "    </tr>\n",
       "  </tbody>\n",
       "</table>\n",
       "</div>"
      ],
      "text/plain": [
       "        eu_sales\n",
       "rating          \n",
       "M         294.81\n",
       "E         190.45\n",
       "T         106.79\n",
       "E10+       78.00\n",
       "RP          0.03"
      ]
     },
     "execution_count": 131,
     "metadata": {},
     "output_type": "execute_result"
    }
   ],
   "source": [
    "actual_games_esbr_ea = (actual_data_games\n",
    "                            .pivot_table(index='rating',\n",
    "                                       values='eu_sales', \n",
    "                                       aggfunc='sum'\n",
    "                                      )\n",
    "                            .sort_values(by='eu_sales',\n",
    "                                       ascending=False\n",
    "                                      )\n",
    "                            )\n",
    "actual_games_esbr_ea.head()"
   ]
  },
  {
   "cell_type": "code",
   "execution_count": 132,
   "metadata": {},
   "outputs": [
    {
     "data": {
      "text/html": [
       "<div>\n",
       "<style scoped>\n",
       "    .dataframe tbody tr th:only-of-type {\n",
       "        vertical-align: middle;\n",
       "    }\n",
       "\n",
       "    .dataframe tbody tr th {\n",
       "        vertical-align: top;\n",
       "    }\n",
       "\n",
       "    .dataframe thead th {\n",
       "        text-align: right;\n",
       "    }\n",
       "</style>\n",
       "<table border=\"1\" class=\"dataframe\">\n",
       "  <thead>\n",
       "    <tr style=\"text-align: right;\">\n",
       "      <th></th>\n",
       "      <th>jp_sales</th>\n",
       "    </tr>\n",
       "    <tr>\n",
       "      <th>rating</th>\n",
       "      <th></th>\n",
       "    </tr>\n",
       "  </thead>\n",
       "  <tbody>\n",
       "    <tr>\n",
       "      <td>T</td>\n",
       "      <td>100.08</td>\n",
       "    </tr>\n",
       "    <tr>\n",
       "      <td>M</td>\n",
       "      <td>72.07</td>\n",
       "    </tr>\n",
       "    <tr>\n",
       "      <td>E</td>\n",
       "      <td>62.27</td>\n",
       "    </tr>\n",
       "    <tr>\n",
       "      <td>E10+</td>\n",
       "      <td>11.23</td>\n",
       "    </tr>\n",
       "    <tr>\n",
       "      <td>EC</td>\n",
       "      <td>0.00</td>\n",
       "    </tr>\n",
       "  </tbody>\n",
       "</table>\n",
       "</div>"
      ],
      "text/plain": [
       "        jp_sales\n",
       "rating          \n",
       "T         100.08\n",
       "M          72.07\n",
       "E          62.27\n",
       "E10+       11.23\n",
       "EC          0.00"
      ]
     },
     "execution_count": 132,
     "metadata": {},
     "output_type": "execute_result"
    }
   ],
   "source": [
    "actual_games_esbr_jp = (actual_data_games\n",
    "                            .pivot_table(index='rating',\n",
    "                                       values='jp_sales', \n",
    "                                       aggfunc='sum'\n",
    "                                      )\n",
    "                            .sort_values(by='jp_sales',\n",
    "                                       ascending=False\n",
    "                                      )\n",
    "                            )\n",
    "actual_games_esbr_jp.head()"
   ]
  },
  {
   "cell_type": "markdown",
   "metadata": {},
   "source": [
    "### По продажам в Северной Америке:\n",
    "Наибольшие продажи в разбивке по платформам: X360, доля продаж 27,33% от общего объема в регионе. далее идут PS3-20,28% и PS4-13,10%.\n",
    "\n",
    "#### Продажи в разбивке по жанрам:\n",
    "- Action- 230,98\n",
    "- Shooter - 194,43\n",
    "- Sports - 108,7\n",
    "\n",
    "#### Прожажи в зависимоти от рейтинга:\n",
    "- М - 360\n",
    "- Е - 206\n",
    "- Т - 145\n",
    "\n",
    "### По продажам в Европе:\n",
    "Наибольшие продажи в разбивке по платформам: PS3, доля продаж 24,34% от общего объема в регионе. Далее идут PS4-21,06% и X360-17,48%.\n",
    "\n",
    "\n",
    "#### Продажи в разбивке по жанрам:\n",
    "- Action- 199,37\n",
    "- Shooter - 148,02\n",
    "- Sports - 88,48\n",
    "\n",
    "#### Прожажи в зависимоти от рейтинга:\n",
    "- М - 294\n",
    "- Е - 190\n",
    "- Т - 106\n",
    "\n",
    "\n",
    "### По продажам в Японии:\n",
    "Наибольшие продажи в разбивке по платформам: 3DS, доля продаж 40,96% от общего объема в регионе. Далее идут PS3 - 20,11% и PSP-9.79%.\n",
    "\n",
    "#### Продажи в разбивке по жанрам:\n",
    "- Role-Playing - 79,87\n",
    "- Action\t- 63,62\n",
    "- Misc - 17,6\n",
    "\n",
    "#### Прожажи в зависимоти от рейтинга:\n",
    "- Т - 100\n",
    "- М - 72\n",
    "- Е - 62\n",
    "\n",
    "Разница в данных может наблюдаться в связи с культыными особонностями в регионах. Так наример, Япония значительно отличается от других стран. "
   ]
  },
  {
   "cell_type": "markdown",
   "metadata": {},
   "source": [
    "### Шаг 5. Проверьте гипотезы"
   ]
  },
  {
   "cell_type": "markdown",
   "metadata": {},
   "source": [
    "#### 5.1 Гипотеза о равенстве рейтингов по платформам"
   ]
  },
  {
   "cell_type": "markdown",
   "metadata": {},
   "source": [
    "Проверим гипотезу, что средние пользовательские рейтинги платформ Xbox One и PC одинаковы. Для этого сределаем 2 среда по платформам.\n",
    "\n",
    "- Н0: средний рейтинг пользователей Xbox One и PC одинаковые\n",
    "- Н1: отличаются"
   ]
  },
  {
   "cell_type": "code",
   "execution_count": 137,
   "metadata": {},
   "outputs": [
    {
     "name": "stdout",
     "output_type": "stream",
     "text": [
      "p-значение: 0.6601000395359753\n",
      "Не получилось отвергнуть нулевую гипотезу\n"
     ]
    }
   ],
   "source": [
    "# сделаем сред и запишем его в переменные\n",
    "xone_data = actual_data_games.query('platform == \"XOne\"')\n",
    "pc_data = actual_data_games.query('platform == \"PC\"')\n",
    "\n",
    "# Проверка гипотезы средняя выручка пользователей из Москвы отличается от выручки пользователей из других регионов;\n",
    "alpha = .01\n",
    "\n",
    "results = st.ttest_ind(\n",
    "    xone_data['user_score'], \n",
    "    pc_data['user_score'],\n",
    "    nan_policy='omit'\n",
    ")\n",
    "\n",
    "print('p-значение:', results.pvalue)\n",
    "if (results.pvalue < alpha):\n",
    "    print(\"Отвергаем нулевую гипотезу\")\n",
    "else:\n",
    "    print(\"Не получилось отвергнуть нулевую гипотезу\")"
   ]
  },
  {
   "cell_type": "markdown",
   "metadata": {},
   "source": [
    "В ходе проверки гипотезы о равенве рейтингов по платформам выяснилось, что разницы в оценке пользователей по платформам Xbox One и PC нет."
   ]
  },
  {
   "cell_type": "markdown",
   "metadata": {},
   "source": [
    "#### 5.2 Гипотеза о равенстве рейтингов по жанрам"
   ]
  },
  {
   "cell_type": "markdown",
   "metadata": {},
   "source": [
    "Проверим гипотезу, что cредние пользовательские рейтинги жанров Action (англ. «действие») и Sports (англ. «виды спорта») разные. Для этого сределаем 2 среда по платформам.\n",
    "\n",
    "- Н0: cредние пользовательские рейтинги жанров Action (англ. «действие») и Sports (англ. «виды спорта») одинаковые\n",
    "- Н1: разные"
   ]
  },
  {
   "cell_type": "code",
   "execution_count": 138,
   "metadata": {},
   "outputs": [
    {
     "name": "stdout",
     "output_type": "stream",
     "text": [
      "p-значение: 4.147206374857127e-24\n",
      "Отвергаем нулевую гипотезу\n"
     ]
    }
   ],
   "source": [
    "# сделаем сред и запишем его в переменные\n",
    "action_data = actual_data_games.query('genre == \"Action\"')\n",
    "sports_data = actual_data_games.query('genre == \"Sports\"')\n",
    "\n",
    "# Проверка гипотезы средняя выручка пользователей из Москвы отличается от выручки пользователей из других регионов;\n",
    "alpha = .05\n",
    "\n",
    "results = st.ttest_ind(\n",
    "    action_data['user_score'], \n",
    "    sports_data['user_score'],\n",
    "    nan_policy='omit' \n",
    ")\n",
    "\n",
    "print('p-значение:', results.pvalue)\n",
    "if (results.pvalue < alpha):\n",
    "    print(\"Отвергаем нулевую гипотезу\")\n",
    "else:\n",
    "    print(\"Не получилось отвергнуть нулевую гипотезу\")"
   ]
  },
  {
   "cell_type": "markdown",
   "metadata": {},
   "source": [
    "В ходе проверки гипотезы о равенстве рейтингов по жанрам выяснилось, что существует значительная разница в оценках пользователей."
   ]
  },
  {
   "cell_type": "markdown",
   "metadata": {},
   "source": [
    "### Шаг 6. Общий вывод"
   ]
  },
  {
   "cell_type": "markdown",
   "metadata": {},
   "source": [
    "По продажам в Северной Америке: Наибольшие продажи в разбивке по платформам: X360, доля продаж 27,33% от общего объема в регионе. далее идут PS3-20,28% и PS4-13,10%.\n",
    "\n",
    "По продажам в Европе: Наибольшие продажи в разбивке по платформам: PS3, доля продаж 24,34% от общего объема в регионе. Далее идут PS4-21,06% и X360-17,48%.\n",
    "\n",
    "По продажам в Японии: Наибольшие продажи в разбивке по платформам: 3DS, доля продаж 40,96% от общего объема в регионе. Далее идут PS3 - 20,11% и PSP-9.79%.\n",
    "\n",
    "### По продажам в Северной Америке:\n",
    "Наибольшие продажи в разбивке по платформам: X360, доля продаж 27,33% от общего объема в регионе. далее идут PS3-20,28% и PS4-13,10%.\n",
    "\n",
    "#### Продажи в разбивке по жанрам:\n",
    "- Action- 230,98\n",
    "- Shooter - 194,43\n",
    "- Sports - 108,7\n",
    "\n",
    "#### Прожажи в зависимоти от рейтинга:\n",
    "- М - 360\n",
    "- Е - 206\n",
    "- Т - 145\n",
    "\n",
    "### По продажам в Европе:\n",
    "Наибольшие продажи в разбивке по платформам: PS3, доля продаж 24,34% от общего объема в регионе. Далее идут PS4-21,06% и X360-17,48%.\n",
    "\n",
    "#### Продажи в разбивке по жанрам:\n",
    "- Action- 199,37\n",
    "- Shooter - 148,02\n",
    "- Sports - 88,48\n",
    "\n",
    "#### Прожажи в зависимоти от рейтинга:\n",
    "- М - 294\n",
    "- Е - 190\n",
    "- Т - 106\n",
    "\n",
    "### По продажам в Японии:\n",
    "Наибольшие продажи в разбивке по платформам: 3DS, доля продаж 40,96% от общего объема в регионе. Далее идут PS3 - 20,11% и PSP-9.79%.\n",
    "\n",
    "#### Продажи в разбивке по жанрам:\n",
    "- Role-Playing - 79,87\n",
    "- Action\t- 63,62\n",
    "- Misc - 17,6\n",
    "\n",
    "#### Прожажи в зависимоти от рейтинга:\n",
    "- Т - 100\n",
    "- М - 72\n",
    "- Е - 62\n",
    "\n",
    "Разница в данных может наблюдаться в связи с культыными особонностями в регионах. Так наример, Япония значительно отличается от других стран. \n",
    "\n",
    "### Проверка гипотез\n",
    "#### Гипотеза о равенстве рейтингов по платформам\n",
    "В ходе проверки гипотезы о равенве рейтингов по платформам выяснилось, что разницы в оценке пользователей по платформам Xbox One и PC нет.\n",
    "\n",
    "####  Гипотеза о равенстве рейтингов по жанрам\n",
    "В ходе проверки гипотезы о равенстве рейтингов по жанрам выяснилось, что существует значительная разница в оценках пользователей.\n",
    "\n",
    "\n",
    "\n",
    "Иp проведенного анализа можно сделать вывод, что при планирование маркетинговой акции стоит учитывать Рейтинги игр, жанр и регион. Особое внимание стоит уделить азиатскому "
   ]
  },
  {
   "cell_type": "markdown",
   "metadata": {},
   "source": [
    "### Чек-лист готовности проекта"
   ]
  },
  {
   "cell_type": "markdown",
   "metadata": {},
   "source": [
    "- [x] открыт файл\n",
    "- [x] файлы изучены (выведены первые строки, метод info())\n",
    "- [x] Замените названия столбцов (приведите к нижнему регистру);\n",
    "- [x] Преобразуйте данные в нужные типы. \n",
    "- [x] Обработайте пропуски при необходимости:\n",
    "- [x] Посчитайте суммарные продажи во всех регионах и запишите их в отдельный столбец.\n",
    "- [x] Посмотрите, сколько игр выпускалось в разные годы. Важны ли данные за все периоды?\n",
    "- [x] Посмотрите, как менялись продажи по платформам. Выберите платформы с наибольшими суммарными продажами и постройте распределение по годам. За какой характерный срок появляются новые и исчезают старые платформы?\n",
    "- [x] Возьмите данные за соответствующий актуальный период. Актуальный период определите самостоятельно в результате исследования предыдущих вопросов. Основной фактор — эти данные помогут построить прогноз на 2017 год.\n",
    "- [x] Не учитывайте в работе данные за предыдущие годы.\n",
    "- [x] Какие платформы лидируют по продажам, растут или падают? Выберите несколько потенциально прибыльных платформ.\n",
    "- [x] Постройте график «ящик с усами» по глобальным продажам каждой игры и разбивкой по платформам. Велика ли разница в продажах? А в средних продажах на разных платформах? Опишите результат.\n",
    "- [x] Посмотрите, как влияют на продажи внутри одной популярной платформы отзывы пользователей и критиков. Постройте диаграмму рассеяния и посчитайте корреляцию между отзывами и продажами. Сформулируйте выводы.\n",
    "- [x] Соотнесите выводы с продажами игр на других платформах.\n",
    "- [x] Посмотрите на общее распределение игр по жанрам. Что можно сказать о самых прибыльных жанрах? Выделяются ли жанры с высокими и низкими продажами?\n",
    "- [x] Определите для пользователя каждого региона (NA, EU, JP):\n",
    "    - Самые популярные платформы (топ-5). Опишите различия в долях продаж.\n",
    "    - Самые популярные жанры (топ-5). Поясните разницу.\n",
    "    - Влияет ли рейтинг ESRB на продажи в отдельном регионе?\n",
    "- [x] Средние пользовательские рейтинги платформ Xbox One и PC одинаковые;\n",
    "- [x] Средние пользовательские рейтинги жанров Action (англ. «действие») и Sports (англ. «виды спорта») разные.\n",
    "- [x] общие выводы"
   ]
  }
 ],
 "metadata": {
  "kernelspec": {
   "display_name": "Python 3 (ipykernel)",
   "language": "python",
   "name": "python3"
  },
  "language_info": {
   "codemirror_mode": {
    "name": "ipython",
    "version": 3
   },
   "file_extension": ".py",
   "mimetype": "text/x-python",
   "name": "python",
   "nbconvert_exporter": "python",
   "pygments_lexer": "ipython3",
   "version": "3.8.11"
  }
 },
 "nbformat": 4,
 "nbformat_minor": 2
}
