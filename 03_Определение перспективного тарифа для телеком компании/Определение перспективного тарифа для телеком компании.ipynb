{
 "cells": [
  {
   "cell_type": "markdown",
   "metadata": {},
   "source": [
    "# Определение перспективного тарифа для телеком компании."
   ]
  },
  {
   "cell_type": "markdown",
   "metadata": {},
   "source": [
    "Предварительный анализ тарифов на небольшой выборке клиентов. В распоряжении данные 500 пользователей «Мегалайна»: кто они, откуда, каким тарифом пользуются, сколько звонков и сообщений каждый отправил за 2018 год.\n",
    "\n",
    "Нужно проанализировать поведение клиентов и сделать вывод — какой тариф лучше."
   ]
  },
  {
   "cell_type": "markdown",
   "metadata": {},
   "source": [
    "### Шаг 1. Загрузка данных и изучение общеё информации"
   ]
  },
  {
   "cell_type": "code",
   "execution_count": 145,
   "metadata": {},
   "outputs": [],
   "source": [
    "# импорт библиотек\n",
    "import pandas as pd\n",
    "import numpy as np\n",
    "from scipy import stats as st\n",
    "import matplotlib.pyplot as plt\n",
    "import seaborn as sns\n",
    "import math\n",
    "\n",
    "pd.options.mode.chained_assignment = None"
   ]
  },
  {
   "cell_type": "code",
   "execution_count": 146,
   "metadata": {},
   "outputs": [],
   "source": [
    "# чтение файла\n",
    "data_calls = pd.read_csv(\"/datasets/calls.csv\", sep=\",\")\n",
    "data_internet = pd.read_csv(\"/datasets/internet.csv\", sep=\",\")\n",
    "data_messages = pd.read_csv(\"/datasets/messages.csv\", sep=\",\")\n",
    "data_tariffs = pd.read_csv(\"/datasets/tariffs.csv\", sep=\",\")\n",
    "data_users = pd.read_csv(\"/datasets/users.csv\", sep=\",\")\n"
   ]
  },
  {
   "cell_type": "code",
   "execution_count": 147,
   "metadata": {},
   "outputs": [
    {
     "data": {
      "text/html": [
       "<div>\n",
       "<style scoped>\n",
       "    .dataframe tbody tr th:only-of-type {\n",
       "        vertical-align: middle;\n",
       "    }\n",
       "\n",
       "    .dataframe tbody tr th {\n",
       "        vertical-align: top;\n",
       "    }\n",
       "\n",
       "    .dataframe thead th {\n",
       "        text-align: right;\n",
       "    }\n",
       "</style>\n",
       "<table border=\"1\" class=\"dataframe\">\n",
       "  <thead>\n",
       "    <tr style=\"text-align: right;\">\n",
       "      <th></th>\n",
       "      <th>id</th>\n",
       "      <th>call_date</th>\n",
       "      <th>duration</th>\n",
       "      <th>user_id</th>\n",
       "    </tr>\n",
       "  </thead>\n",
       "  <tbody>\n",
       "    <tr>\n",
       "      <td>0</td>\n",
       "      <td>1000_0</td>\n",
       "      <td>2018-07-25</td>\n",
       "      <td>0.00</td>\n",
       "      <td>1000</td>\n",
       "    </tr>\n",
       "    <tr>\n",
       "      <td>1</td>\n",
       "      <td>1000_1</td>\n",
       "      <td>2018-08-17</td>\n",
       "      <td>0.00</td>\n",
       "      <td>1000</td>\n",
       "    </tr>\n",
       "    <tr>\n",
       "      <td>2</td>\n",
       "      <td>1000_2</td>\n",
       "      <td>2018-06-11</td>\n",
       "      <td>2.85</td>\n",
       "      <td>1000</td>\n",
       "    </tr>\n",
       "    <tr>\n",
       "      <td>3</td>\n",
       "      <td>1000_3</td>\n",
       "      <td>2018-09-21</td>\n",
       "      <td>13.80</td>\n",
       "      <td>1000</td>\n",
       "    </tr>\n",
       "    <tr>\n",
       "      <td>4</td>\n",
       "      <td>1000_4</td>\n",
       "      <td>2018-12-15</td>\n",
       "      <td>5.18</td>\n",
       "      <td>1000</td>\n",
       "    </tr>\n",
       "  </tbody>\n",
       "</table>\n",
       "</div>"
      ],
      "text/plain": [
       "       id   call_date  duration  user_id\n",
       "0  1000_0  2018-07-25      0.00     1000\n",
       "1  1000_1  2018-08-17      0.00     1000\n",
       "2  1000_2  2018-06-11      2.85     1000\n",
       "3  1000_3  2018-09-21     13.80     1000\n",
       "4  1000_4  2018-12-15      5.18     1000"
      ]
     },
     "execution_count": 147,
     "metadata": {},
     "output_type": "execute_result"
    }
   ],
   "source": [
    "# получение первых 5 строк таблицы\n",
    "data_calls.head(5)"
   ]
  },
  {
   "cell_type": "code",
   "execution_count": 148,
   "metadata": {},
   "outputs": [
    {
     "name": "stdout",
     "output_type": "stream",
     "text": [
      "<class 'pandas.core.frame.DataFrame'>\n",
      "RangeIndex: 202607 entries, 0 to 202606\n",
      "Data columns (total 4 columns):\n",
      "id           202607 non-null object\n",
      "call_date    202607 non-null object\n",
      "duration     202607 non-null float64\n",
      "user_id      202607 non-null int64\n",
      "dtypes: float64(1), int64(1), object(2)\n",
      "memory usage: 6.2+ MB\n"
     ]
    }
   ],
   "source": [
    "# получение общей информации о данных в таблице\n",
    "data_calls.info()"
   ]
  },
  {
   "cell_type": "code",
   "execution_count": 149,
   "metadata": {},
   "outputs": [
    {
     "data": {
      "text/html": [
       "<div>\n",
       "<style scoped>\n",
       "    .dataframe tbody tr th:only-of-type {\n",
       "        vertical-align: middle;\n",
       "    }\n",
       "\n",
       "    .dataframe tbody tr th {\n",
       "        vertical-align: top;\n",
       "    }\n",
       "\n",
       "    .dataframe thead th {\n",
       "        text-align: right;\n",
       "    }\n",
       "</style>\n",
       "<table border=\"1\" class=\"dataframe\">\n",
       "  <thead>\n",
       "    <tr style=\"text-align: right;\">\n",
       "      <th></th>\n",
       "      <th>id</th>\n",
       "      <th>mb_used</th>\n",
       "      <th>session_date</th>\n",
       "      <th>user_id</th>\n",
       "    </tr>\n",
       "  </thead>\n",
       "  <tbody>\n",
       "    <tr>\n",
       "      <td>0</td>\n",
       "      <td>1000_0</td>\n",
       "      <td>112.95</td>\n",
       "      <td>2018-11-25</td>\n",
       "      <td>1000</td>\n",
       "    </tr>\n",
       "    <tr>\n",
       "      <td>1</td>\n",
       "      <td>1000_1</td>\n",
       "      <td>1052.81</td>\n",
       "      <td>2018-09-07</td>\n",
       "      <td>1000</td>\n",
       "    </tr>\n",
       "    <tr>\n",
       "      <td>2</td>\n",
       "      <td>1000_2</td>\n",
       "      <td>1197.26</td>\n",
       "      <td>2018-06-25</td>\n",
       "      <td>1000</td>\n",
       "    </tr>\n",
       "    <tr>\n",
       "      <td>3</td>\n",
       "      <td>1000_3</td>\n",
       "      <td>550.27</td>\n",
       "      <td>2018-08-22</td>\n",
       "      <td>1000</td>\n",
       "    </tr>\n",
       "    <tr>\n",
       "      <td>4</td>\n",
       "      <td>1000_4</td>\n",
       "      <td>302.56</td>\n",
       "      <td>2018-09-24</td>\n",
       "      <td>1000</td>\n",
       "    </tr>\n",
       "  </tbody>\n",
       "</table>\n",
       "</div>"
      ],
      "text/plain": [
       "       id  mb_used session_date  user_id\n",
       "0  1000_0   112.95   2018-11-25     1000\n",
       "1  1000_1  1052.81   2018-09-07     1000\n",
       "2  1000_2  1197.26   2018-06-25     1000\n",
       "3  1000_3   550.27   2018-08-22     1000\n",
       "4  1000_4   302.56   2018-09-24     1000"
      ]
     },
     "execution_count": 149,
     "metadata": {},
     "output_type": "execute_result"
    }
   ],
   "source": [
    "# получение первых 5 строк таблицы\n",
    "data_internet.head(5)"
   ]
  },
  {
   "cell_type": "code",
   "execution_count": 150,
   "metadata": {},
   "outputs": [
    {
     "name": "stdout",
     "output_type": "stream",
     "text": [
      "<class 'pandas.core.frame.DataFrame'>\n",
      "RangeIndex: 149396 entries, 0 to 149395\n",
      "Data columns (total 4 columns):\n",
      "id              149396 non-null object\n",
      "mb_used         149396 non-null float64\n",
      "session_date    149396 non-null object\n",
      "user_id         149396 non-null int64\n",
      "dtypes: float64(1), int64(1), object(2)\n",
      "memory usage: 4.6+ MB\n"
     ]
    }
   ],
   "source": [
    "# получение общей информации о данных в таблице\n",
    "data_internet.info()"
   ]
  },
  {
   "cell_type": "code",
   "execution_count": 151,
   "metadata": {},
   "outputs": [
    {
     "data": {
      "text/html": [
       "<div>\n",
       "<style scoped>\n",
       "    .dataframe tbody tr th:only-of-type {\n",
       "        vertical-align: middle;\n",
       "    }\n",
       "\n",
       "    .dataframe tbody tr th {\n",
       "        vertical-align: top;\n",
       "    }\n",
       "\n",
       "    .dataframe thead th {\n",
       "        text-align: right;\n",
       "    }\n",
       "</style>\n",
       "<table border=\"1\" class=\"dataframe\">\n",
       "  <thead>\n",
       "    <tr style=\"text-align: right;\">\n",
       "      <th></th>\n",
       "      <th>id</th>\n",
       "      <th>message_date</th>\n",
       "      <th>user_id</th>\n",
       "    </tr>\n",
       "  </thead>\n",
       "  <tbody>\n",
       "    <tr>\n",
       "      <td>0</td>\n",
       "      <td>1000_0</td>\n",
       "      <td>2018-06-27</td>\n",
       "      <td>1000</td>\n",
       "    </tr>\n",
       "    <tr>\n",
       "      <td>1</td>\n",
       "      <td>1000_1</td>\n",
       "      <td>2018-10-08</td>\n",
       "      <td>1000</td>\n",
       "    </tr>\n",
       "    <tr>\n",
       "      <td>2</td>\n",
       "      <td>1000_2</td>\n",
       "      <td>2018-08-04</td>\n",
       "      <td>1000</td>\n",
       "    </tr>\n",
       "    <tr>\n",
       "      <td>3</td>\n",
       "      <td>1000_3</td>\n",
       "      <td>2018-06-16</td>\n",
       "      <td>1000</td>\n",
       "    </tr>\n",
       "    <tr>\n",
       "      <td>4</td>\n",
       "      <td>1000_4</td>\n",
       "      <td>2018-12-05</td>\n",
       "      <td>1000</td>\n",
       "    </tr>\n",
       "  </tbody>\n",
       "</table>\n",
       "</div>"
      ],
      "text/plain": [
       "       id message_date  user_id\n",
       "0  1000_0   2018-06-27     1000\n",
       "1  1000_1   2018-10-08     1000\n",
       "2  1000_2   2018-08-04     1000\n",
       "3  1000_3   2018-06-16     1000\n",
       "4  1000_4   2018-12-05     1000"
      ]
     },
     "execution_count": 151,
     "metadata": {},
     "output_type": "execute_result"
    }
   ],
   "source": [
    "# получение первых 5 строк таблицы\n",
    "data_messages.head(5)"
   ]
  },
  {
   "cell_type": "code",
   "execution_count": 152,
   "metadata": {},
   "outputs": [
    {
     "name": "stdout",
     "output_type": "stream",
     "text": [
      "<class 'pandas.core.frame.DataFrame'>\n",
      "RangeIndex: 123036 entries, 0 to 123035\n",
      "Data columns (total 3 columns):\n",
      "id              123036 non-null object\n",
      "message_date    123036 non-null object\n",
      "user_id         123036 non-null int64\n",
      "dtypes: int64(1), object(2)\n",
      "memory usage: 2.8+ MB\n"
     ]
    }
   ],
   "source": [
    "# получение общей информации о данных в таблице\n",
    "data_messages.info()"
   ]
  },
  {
   "cell_type": "code",
   "execution_count": 153,
   "metadata": {},
   "outputs": [
    {
     "data": {
      "text/html": [
       "<div>\n",
       "<style scoped>\n",
       "    .dataframe tbody tr th:only-of-type {\n",
       "        vertical-align: middle;\n",
       "    }\n",
       "\n",
       "    .dataframe tbody tr th {\n",
       "        vertical-align: top;\n",
       "    }\n",
       "\n",
       "    .dataframe thead th {\n",
       "        text-align: right;\n",
       "    }\n",
       "</style>\n",
       "<table border=\"1\" class=\"dataframe\">\n",
       "  <thead>\n",
       "    <tr style=\"text-align: right;\">\n",
       "      <th></th>\n",
       "      <th>messages_included</th>\n",
       "      <th>mg_per_month_included</th>\n",
       "      <th>minutes_included</th>\n",
       "      <th>rub_monthly_fee</th>\n",
       "      <th>rub_per_gb</th>\n",
       "      <th>rub_per_message</th>\n",
       "      <th>rub_per_minute</th>\n",
       "      <th>tariff_name</th>\n",
       "    </tr>\n",
       "  </thead>\n",
       "  <tbody>\n",
       "    <tr>\n",
       "      <td>0</td>\n",
       "      <td>50</td>\n",
       "      <td>15360</td>\n",
       "      <td>500</td>\n",
       "      <td>550</td>\n",
       "      <td>200</td>\n",
       "      <td>3</td>\n",
       "      <td>3</td>\n",
       "      <td>smart</td>\n",
       "    </tr>\n",
       "    <tr>\n",
       "      <td>1</td>\n",
       "      <td>1000</td>\n",
       "      <td>30720</td>\n",
       "      <td>3000</td>\n",
       "      <td>1950</td>\n",
       "      <td>150</td>\n",
       "      <td>1</td>\n",
       "      <td>1</td>\n",
       "      <td>ultra</td>\n",
       "    </tr>\n",
       "  </tbody>\n",
       "</table>\n",
       "</div>"
      ],
      "text/plain": [
       "   messages_included  mg_per_month_included  minutes_included  \\\n",
       "0                 50                  15360               500   \n",
       "1               1000                  30720              3000   \n",
       "\n",
       "   rub_monthly_fee  rub_per_gb  rub_per_message  rub_per_minute tariff_name  \n",
       "0              550         200                3               3       smart  \n",
       "1             1950         150                1               1       ultra  "
      ]
     },
     "execution_count": 153,
     "metadata": {},
     "output_type": "execute_result"
    }
   ],
   "source": [
    "# получение первых 5 строк таблицы\n",
    "data_tariffs.head()"
   ]
  },
  {
   "cell_type": "code",
   "execution_count": 154,
   "metadata": {},
   "outputs": [
    {
     "data": {
      "text/html": [
       "<div>\n",
       "<style scoped>\n",
       "    .dataframe tbody tr th:only-of-type {\n",
       "        vertical-align: middle;\n",
       "    }\n",
       "\n",
       "    .dataframe tbody tr th {\n",
       "        vertical-align: top;\n",
       "    }\n",
       "\n",
       "    .dataframe thead th {\n",
       "        text-align: right;\n",
       "    }\n",
       "</style>\n",
       "<table border=\"1\" class=\"dataframe\">\n",
       "  <thead>\n",
       "    <tr style=\"text-align: right;\">\n",
       "      <th></th>\n",
       "      <th>user_id</th>\n",
       "      <th>age</th>\n",
       "      <th>churn_date</th>\n",
       "      <th>city</th>\n",
       "      <th>first_name</th>\n",
       "      <th>last_name</th>\n",
       "      <th>reg_date</th>\n",
       "      <th>tariff</th>\n",
       "    </tr>\n",
       "  </thead>\n",
       "  <tbody>\n",
       "    <tr>\n",
       "      <td>0</td>\n",
       "      <td>1000</td>\n",
       "      <td>52</td>\n",
       "      <td>NaN</td>\n",
       "      <td>Краснодар</td>\n",
       "      <td>Рафаил</td>\n",
       "      <td>Верещагин</td>\n",
       "      <td>2018-05-25</td>\n",
       "      <td>ultra</td>\n",
       "    </tr>\n",
       "    <tr>\n",
       "      <td>1</td>\n",
       "      <td>1001</td>\n",
       "      <td>41</td>\n",
       "      <td>NaN</td>\n",
       "      <td>Москва</td>\n",
       "      <td>Иван</td>\n",
       "      <td>Ежов</td>\n",
       "      <td>2018-11-01</td>\n",
       "      <td>smart</td>\n",
       "    </tr>\n",
       "    <tr>\n",
       "      <td>2</td>\n",
       "      <td>1002</td>\n",
       "      <td>59</td>\n",
       "      <td>NaN</td>\n",
       "      <td>Стерлитамак</td>\n",
       "      <td>Евгений</td>\n",
       "      <td>Абрамович</td>\n",
       "      <td>2018-06-17</td>\n",
       "      <td>smart</td>\n",
       "    </tr>\n",
       "    <tr>\n",
       "      <td>3</td>\n",
       "      <td>1003</td>\n",
       "      <td>23</td>\n",
       "      <td>NaN</td>\n",
       "      <td>Москва</td>\n",
       "      <td>Белла</td>\n",
       "      <td>Белякова</td>\n",
       "      <td>2018-08-17</td>\n",
       "      <td>ultra</td>\n",
       "    </tr>\n",
       "    <tr>\n",
       "      <td>4</td>\n",
       "      <td>1004</td>\n",
       "      <td>68</td>\n",
       "      <td>NaN</td>\n",
       "      <td>Новокузнецк</td>\n",
       "      <td>Татьяна</td>\n",
       "      <td>Авдеенко</td>\n",
       "      <td>2018-05-14</td>\n",
       "      <td>ultra</td>\n",
       "    </tr>\n",
       "  </tbody>\n",
       "</table>\n",
       "</div>"
      ],
      "text/plain": [
       "   user_id  age churn_date         city first_name  last_name    reg_date  \\\n",
       "0     1000   52        NaN    Краснодар     Рафаил  Верещагин  2018-05-25   \n",
       "1     1001   41        NaN       Москва       Иван       Ежов  2018-11-01   \n",
       "2     1002   59        NaN  Стерлитамак    Евгений  Абрамович  2018-06-17   \n",
       "3     1003   23        NaN       Москва      Белла   Белякова  2018-08-17   \n",
       "4     1004   68        NaN  Новокузнецк    Татьяна   Авдеенко  2018-05-14   \n",
       "\n",
       "  tariff  \n",
       "0  ultra  \n",
       "1  smart  \n",
       "2  smart  \n",
       "3  ultra  \n",
       "4  ultra  "
      ]
     },
     "execution_count": 154,
     "metadata": {},
     "output_type": "execute_result"
    }
   ],
   "source": [
    "# получение первых 5 строк таблицы\n",
    "data_users.head(5)"
   ]
  },
  {
   "cell_type": "code",
   "execution_count": 155,
   "metadata": {},
   "outputs": [
    {
     "name": "stdout",
     "output_type": "stream",
     "text": [
      "<class 'pandas.core.frame.DataFrame'>\n",
      "RangeIndex: 500 entries, 0 to 499\n",
      "Data columns (total 8 columns):\n",
      "user_id       500 non-null int64\n",
      "age           500 non-null int64\n",
      "churn_date    38 non-null object\n",
      "city          500 non-null object\n",
      "first_name    500 non-null object\n",
      "last_name     500 non-null object\n",
      "reg_date      500 non-null object\n",
      "tariff        500 non-null object\n",
      "dtypes: int64(2), object(6)\n",
      "memory usage: 31.4+ KB\n"
     ]
    }
   ],
   "source": [
    "# получение общей информации о данных в таблице\n",
    "data_users.info()"
   ]
  },
  {
   "cell_type": "markdown",
   "metadata": {},
   "source": [
    "### Описание данных\n",
    "\n",
    "**Таблица users (информация о пользователях):**\n",
    "- user_id — уникальный идентификатор пользователя\n",
    "- first_name — имя пользователя\n",
    "- last_name — фамилия пользователя\n",
    "- age — возраст пользователя (годы)\n",
    "- reg_date — дата подключения тарифа (день, месяц, год)\n",
    "- churn_date — дата прекращения пользования тарифом (если значение пропущено, то тариф ещё действовал на момент выгрузки данных)\n",
    "- city — город проживания пользователя\n",
    "- tariff — название тарифного плана\n",
    "\n",
    "**Таблица calls (информация о звонках):**\n",
    "- id — уникальный номер звонка\n",
    "- call_date — дата звонка\n",
    "- duration — длительность звонка в минутах\n",
    "- user_id — идентификатор пользователя, сделавшего звонок\n",
    "\n",
    "**Таблица messages (информация о сообщениях):**\n",
    "- id — уникальный номер сообщения\n",
    "- message_date — дата сообщения\n",
    "- user_id — идентификатор пользователя, отправившего сообщение\n",
    "\n",
    "**Таблица internet (информация об интернет-сессиях):**\n",
    "- id — уникальный номер сессии\n",
    "- mb_used — объём потраченного за сессию интернет-трафика (в мегабайтах)\n",
    "- session_date — дата интернет-сессии\n",
    "- user_id — идентификатор пользователя\n",
    "\n",
    "**Таблица tariffs (информация о тарифах):**\n",
    "- tariff_name — название тарифа\n",
    "- rub_monthly_fee — ежемесячная абонентская плата в рублях\n",
    "- minutes_included — количество минут разговора в месяц, включённых в абонентскую плату\n",
    "- messages_included — количество сообщений в месяц, включённых в абонентскую плату\n",
    "- mb_per_month_included — объём интернет-трафика, включённого в абонентскую плату (в мегабайтах)\n",
    "- rub_per_minute — стоимость минуты разговора сверх тарифного пакета (например, если в тарифе 100 минут разговора в месяц, то со 101 минуты будет взиматься плата)\n",
    "- rub_per_message — стоимость отправки сообщения сверх тарифного пакета\n",
    "- rub_per_gb — стоимость дополнительного гигабайта интернет-трафика сверх тарифного пакета (1 гигабайт = 1024 мегабайта)\n",
    "\n",
    "На первый взгляд данные готовы к работе, стоит поменять только тип данных в столбце с датой. Пропуски наблюдается только в столбе 'churn_date', но это обоснованно тем что клиент действующий."
   ]
  },
  {
   "cell_type": "markdown",
   "metadata": {},
   "source": [
    "### Шаг 2. Подготовка данных"
   ]
  },
  {
   "cell_type": "code",
   "execution_count": 156,
   "metadata": {},
   "outputs": [],
   "source": [
    "# поменяю тип данных в столбце с датой на формат даты\n",
    "data_calls['call_date'] = pd.to_datetime(data_calls['call_date'], format='%Y-%m-%d %H:%M')\n",
    "data_internet['session_date'] = pd.to_datetime(data_internet['session_date'], format='%Y-%m-%d %H:%M')\n",
    "data_messages['message_date'] = pd.to_datetime(data_messages['message_date'], format='%Y-%m-%d %H:%M')\n",
    "data_users['reg_date'] = pd.to_datetime(data_users['reg_date'], format='%Y-%m-%d %H:%M')"
   ]
  },
  {
   "cell_type": "markdown",
   "metadata": {},
   "source": [
    "«Мегалайн» всегда округляет вверх значения минут и мегабайтов. Если пользователь проговорил всего 1 секунду, в тарифе засчитывается целая минута.\n",
    "\n",
    "Поэтому округлим время разговора в data_calls['duration'] и поменяем формат на int"
   ]
  },
  {
   "cell_type": "code",
   "execution_count": 157,
   "metadata": {},
   "outputs": [
    {
     "data": {
      "text/html": [
       "<div>\n",
       "<style scoped>\n",
       "    .dataframe tbody tr th:only-of-type {\n",
       "        vertical-align: middle;\n",
       "    }\n",
       "\n",
       "    .dataframe tbody tr th {\n",
       "        vertical-align: top;\n",
       "    }\n",
       "\n",
       "    .dataframe thead th {\n",
       "        text-align: right;\n",
       "    }\n",
       "</style>\n",
       "<table border=\"1\" class=\"dataframe\">\n",
       "  <thead>\n",
       "    <tr style=\"text-align: right;\">\n",
       "      <th></th>\n",
       "      <th>id</th>\n",
       "      <th>call_date</th>\n",
       "      <th>duration</th>\n",
       "      <th>user_id</th>\n",
       "    </tr>\n",
       "  </thead>\n",
       "  <tbody>\n",
       "    <tr>\n",
       "      <td>0</td>\n",
       "      <td>1000_0</td>\n",
       "      <td>2018-07-25</td>\n",
       "      <td>0</td>\n",
       "      <td>1000</td>\n",
       "    </tr>\n",
       "    <tr>\n",
       "      <td>1</td>\n",
       "      <td>1000_1</td>\n",
       "      <td>2018-08-17</td>\n",
       "      <td>0</td>\n",
       "      <td>1000</td>\n",
       "    </tr>\n",
       "    <tr>\n",
       "      <td>2</td>\n",
       "      <td>1000_2</td>\n",
       "      <td>2018-06-11</td>\n",
       "      <td>3</td>\n",
       "      <td>1000</td>\n",
       "    </tr>\n",
       "    <tr>\n",
       "      <td>3</td>\n",
       "      <td>1000_3</td>\n",
       "      <td>2018-09-21</td>\n",
       "      <td>14</td>\n",
       "      <td>1000</td>\n",
       "    </tr>\n",
       "    <tr>\n",
       "      <td>4</td>\n",
       "      <td>1000_4</td>\n",
       "      <td>2018-12-15</td>\n",
       "      <td>6</td>\n",
       "      <td>1000</td>\n",
       "    </tr>\n",
       "  </tbody>\n",
       "</table>\n",
       "</div>"
      ],
      "text/plain": [
       "       id  call_date  duration  user_id\n",
       "0  1000_0 2018-07-25         0     1000\n",
       "1  1000_1 2018-08-17         0     1000\n",
       "2  1000_2 2018-06-11         3     1000\n",
       "3  1000_3 2018-09-21        14     1000\n",
       "4  1000_4 2018-12-15         6     1000"
      ]
     },
     "execution_count": 157,
     "metadata": {},
     "output_type": "execute_result"
    }
   ],
   "source": [
    "# округление и изменение типа данных\n",
    "data_calls['duration'] = data_calls['duration'].apply(np.ceil).astype('int')\n",
    "data_calls.head(5)"
   ]
  },
  {
   "cell_type": "markdown",
   "metadata": {},
   "source": [
    "В выгрузке по совершенным звонкам наблюдаются звонки с длительность 0, вероятнее всего системя записывает высе попытки звонков, даже если разговор не начался, так как минуты при таких звонках не расходуются удалим данные с длительностью звонка 0"
   ]
  },
  {
   "cell_type": "code",
   "execution_count": 158,
   "metadata": {},
   "outputs": [],
   "source": [
    "# срез данных \n",
    "data_calls = data_calls.query('duration > 0')"
   ]
  },
  {
   "cell_type": "markdown",
   "metadata": {},
   "source": [
    "Для дальнейшего анализа данных необходимо выделить из столбца с датой номера месяцев, чтобы собрать статистику по месяцам."
   ]
  },
  {
   "cell_type": "code",
   "execution_count": 159,
   "metadata": {},
   "outputs": [],
   "source": [
    "# добавление нового столбца в таблицах\n",
    "data_calls['month_number'] = data_calls['call_date'].dt.month\n",
    "data_messages['month_number'] = data_messages['message_date'].dt.month\n",
    "data_internet['month_number'] = data_internet['session_date'].dt.month\n",
    "\n",
    "#data_calls['month_number'].value_counts()"
   ]
  },
  {
   "cell_type": "code",
   "execution_count": 160,
   "metadata": {},
   "outputs": [],
   "source": [
    "# объединим данные со звонками и данные о пользователях и \n",
    "# созданим сводкую таблице по колличеству звонков и сумме потраченных минут\n",
    "data_calls = data_calls.merge(data_users, on='user_id')\n",
    "calls_pivot = (data_calls\n",
    "                   .pivot_table(index=['user_id', 'month_number', 'tariff'],\n",
    "                                values='duration', \n",
    "                                aggfunc=['count', 'sum']\n",
    "                               )\n",
    "              )\n",
    "calls_pivot.columns = ['count_colls', 'duration_sum']\n",
    "\n",
    "# созданим сводную таблицу по потраченным СМС\n",
    "message_pivot = (data_messages\n",
    "                   .pivot_table(index=['user_id', 'month_number'],\n",
    "                                values='message_date', \n",
    "                                aggfunc='count'\n",
    "                               )\n",
    "                )\n",
    "message_pivot.columns = ['message_count']\n",
    "\n",
    "# создадим сводную тамблицу по потраченнуму трафику\n",
    "internet_pivot = (data_internet\n",
    "                   .pivot_table(index=['user_id', 'month_number'],\n",
    "                                values='mb_used', \n",
    "                                aggfunc='sum'\n",
    "                               )\n",
    "                )\n",
    "internet_pivot.columns = ['traffik_mb']"
   ]
  },
  {
   "cell_type": "code",
   "execution_count": 161,
   "metadata": {},
   "outputs": [
    {
     "data": {
      "text/html": [
       "<div>\n",
       "<style scoped>\n",
       "    .dataframe tbody tr th:only-of-type {\n",
       "        vertical-align: middle;\n",
       "    }\n",
       "\n",
       "    .dataframe tbody tr th {\n",
       "        vertical-align: top;\n",
       "    }\n",
       "\n",
       "    .dataframe thead th {\n",
       "        text-align: right;\n",
       "    }\n",
       "</style>\n",
       "<table border=\"1\" class=\"dataframe\">\n",
       "  <thead>\n",
       "    <tr style=\"text-align: right;\">\n",
       "      <th></th>\n",
       "      <th></th>\n",
       "      <th></th>\n",
       "      <th>count_colls</th>\n",
       "      <th>duration_sum</th>\n",
       "      <th>message_count</th>\n",
       "      <th>traffik_mb</th>\n",
       "    </tr>\n",
       "    <tr>\n",
       "      <th>user_id</th>\n",
       "      <th>month_number</th>\n",
       "      <th>tariff</th>\n",
       "      <th></th>\n",
       "      <th></th>\n",
       "      <th></th>\n",
       "      <th></th>\n",
       "    </tr>\n",
       "  </thead>\n",
       "  <tbody>\n",
       "    <tr>\n",
       "      <td rowspan=\"5\" valign=\"top\">1000</td>\n",
       "      <td>5</td>\n",
       "      <td>ultra</td>\n",
       "      <td>17</td>\n",
       "      <td>159</td>\n",
       "      <td>22</td>\n",
       "      <td>2253.49</td>\n",
       "    </tr>\n",
       "    <tr>\n",
       "      <td>6</td>\n",
       "      <td>ultra</td>\n",
       "      <td>28</td>\n",
       "      <td>172</td>\n",
       "      <td>60</td>\n",
       "      <td>23233.77</td>\n",
       "    </tr>\n",
       "    <tr>\n",
       "      <td>7</td>\n",
       "      <td>ultra</td>\n",
       "      <td>41</td>\n",
       "      <td>340</td>\n",
       "      <td>75</td>\n",
       "      <td>14003.64</td>\n",
       "    </tr>\n",
       "    <tr>\n",
       "      <td>8</td>\n",
       "      <td>ultra</td>\n",
       "      <td>42</td>\n",
       "      <td>408</td>\n",
       "      <td>81</td>\n",
       "      <td>14055.93</td>\n",
       "    </tr>\n",
       "    <tr>\n",
       "      <td>9</td>\n",
       "      <td>ultra</td>\n",
       "      <td>46</td>\n",
       "      <td>466</td>\n",
       "      <td>57</td>\n",
       "      <td>14568.91</td>\n",
       "    </tr>\n",
       "  </tbody>\n",
       "</table>\n",
       "</div>"
      ],
      "text/plain": [
       "                             count_colls  duration_sum  message_count  \\\n",
       "user_id month_number tariff                                             \n",
       "1000    5            ultra            17           159             22   \n",
       "        6            ultra            28           172             60   \n",
       "        7            ultra            41           340             75   \n",
       "        8            ultra            42           408             81   \n",
       "        9            ultra            46           466             57   \n",
       "\n",
       "                             traffik_mb  \n",
       "user_id month_number tariff              \n",
       "1000    5            ultra      2253.49  \n",
       "        6            ultra     23233.77  \n",
       "        7            ultra     14003.64  \n",
       "        8            ultra     14055.93  \n",
       "        9            ultra     14568.91  "
      ]
     },
     "execution_count": 161,
     "metadata": {},
     "output_type": "execute_result"
    }
   ],
   "source": [
    "# объединим ранее полученные таблицы для дальнешей аналитики\n",
    "final_pivot = calls_pivot.join(message_pivot)\n",
    "final_pivot = final_pivot.join(internet_pivot)\n",
    "\n",
    "# заменим пропуски на 0\n",
    "final_pivot['message_count'] = final_pivot['message_count'].fillna(0).astype('int')\n",
    "\n",
    "# вывод первых 5 строк\n",
    "final_pivot.head()"
   ]
  },
  {
   "cell_type": "markdown",
   "metadata": {},
   "source": [
    "Посчитаем помесячную выручку с каждого пользователя для этого напишеи функцию и применим ее к ранее полученной таблице."
   ]
  },
  {
   "cell_type": "code",
   "execution_count": 162,
   "metadata": {},
   "outputs": [
    {
     "data": {
      "text/html": [
       "<div>\n",
       "<style scoped>\n",
       "    .dataframe tbody tr th:only-of-type {\n",
       "        vertical-align: middle;\n",
       "    }\n",
       "\n",
       "    .dataframe tbody tr th {\n",
       "        vertical-align: top;\n",
       "    }\n",
       "\n",
       "    .dataframe thead th {\n",
       "        text-align: right;\n",
       "    }\n",
       "</style>\n",
       "<table border=\"1\" class=\"dataframe\">\n",
       "  <thead>\n",
       "    <tr style=\"text-align: right;\">\n",
       "      <th></th>\n",
       "      <th>user_id</th>\n",
       "      <th>month_number</th>\n",
       "      <th>tariff</th>\n",
       "      <th>count_colls</th>\n",
       "      <th>duration_sum</th>\n",
       "      <th>message_count</th>\n",
       "      <th>traffik_mb</th>\n",
       "      <th>total_income</th>\n",
       "    </tr>\n",
       "  </thead>\n",
       "  <tbody>\n",
       "    <tr>\n",
       "      <td>0</td>\n",
       "      <td>1000</td>\n",
       "      <td>5</td>\n",
       "      <td>ultra</td>\n",
       "      <td>17</td>\n",
       "      <td>159</td>\n",
       "      <td>22</td>\n",
       "      <td>2253.49</td>\n",
       "      <td>1950</td>\n",
       "    </tr>\n",
       "    <tr>\n",
       "      <td>1</td>\n",
       "      <td>1000</td>\n",
       "      <td>6</td>\n",
       "      <td>ultra</td>\n",
       "      <td>28</td>\n",
       "      <td>172</td>\n",
       "      <td>60</td>\n",
       "      <td>23233.77</td>\n",
       "      <td>1950</td>\n",
       "    </tr>\n",
       "    <tr>\n",
       "      <td>2</td>\n",
       "      <td>1000</td>\n",
       "      <td>7</td>\n",
       "      <td>ultra</td>\n",
       "      <td>41</td>\n",
       "      <td>340</td>\n",
       "      <td>75</td>\n",
       "      <td>14003.64</td>\n",
       "      <td>1950</td>\n",
       "    </tr>\n",
       "    <tr>\n",
       "      <td>3</td>\n",
       "      <td>1000</td>\n",
       "      <td>8</td>\n",
       "      <td>ultra</td>\n",
       "      <td>42</td>\n",
       "      <td>408</td>\n",
       "      <td>81</td>\n",
       "      <td>14055.93</td>\n",
       "      <td>1950</td>\n",
       "    </tr>\n",
       "    <tr>\n",
       "      <td>4</td>\n",
       "      <td>1000</td>\n",
       "      <td>9</td>\n",
       "      <td>ultra</td>\n",
       "      <td>46</td>\n",
       "      <td>466</td>\n",
       "      <td>57</td>\n",
       "      <td>14568.91</td>\n",
       "      <td>1950</td>\n",
       "    </tr>\n",
       "    <tr>\n",
       "      <td>...</td>\n",
       "      <td>...</td>\n",
       "      <td>...</td>\n",
       "      <td>...</td>\n",
       "      <td>...</td>\n",
       "      <td>...</td>\n",
       "      <td>...</td>\n",
       "      <td>...</td>\n",
       "      <td>...</td>\n",
       "    </tr>\n",
       "    <tr>\n",
       "      <td>3163</td>\n",
       "      <td>1498</td>\n",
       "      <td>10</td>\n",
       "      <td>smart</td>\n",
       "      <td>30</td>\n",
       "      <td>247</td>\n",
       "      <td>42</td>\n",
       "      <td>20579.36</td>\n",
       "      <td>1750</td>\n",
       "    </tr>\n",
       "    <tr>\n",
       "      <td>3164</td>\n",
       "      <td>1499</td>\n",
       "      <td>9</td>\n",
       "      <td>smart</td>\n",
       "      <td>8</td>\n",
       "      <td>70</td>\n",
       "      <td>11</td>\n",
       "      <td>1845.75</td>\n",
       "      <td>550</td>\n",
       "    </tr>\n",
       "    <tr>\n",
       "      <td>3165</td>\n",
       "      <td>1499</td>\n",
       "      <td>10</td>\n",
       "      <td>smart</td>\n",
       "      <td>44</td>\n",
       "      <td>449</td>\n",
       "      <td>48</td>\n",
       "      <td>17788.51</td>\n",
       "      <td>1150</td>\n",
       "    </tr>\n",
       "    <tr>\n",
       "      <td>3166</td>\n",
       "      <td>1499</td>\n",
       "      <td>11</td>\n",
       "      <td>smart</td>\n",
       "      <td>62</td>\n",
       "      <td>612</td>\n",
       "      <td>59</td>\n",
       "      <td>17963.31</td>\n",
       "      <td>1513</td>\n",
       "    </tr>\n",
       "    <tr>\n",
       "      <td>3167</td>\n",
       "      <td>1499</td>\n",
       "      <td>12</td>\n",
       "      <td>smart</td>\n",
       "      <td>56</td>\n",
       "      <td>492</td>\n",
       "      <td>66</td>\n",
       "      <td>13055.58</td>\n",
       "      <td>598</td>\n",
       "    </tr>\n",
       "  </tbody>\n",
       "</table>\n",
       "<p>3168 rows × 8 columns</p>\n",
       "</div>"
      ],
      "text/plain": [
       "      user_id  month_number tariff  count_colls  duration_sum  message_count  \\\n",
       "0        1000             5  ultra           17           159             22   \n",
       "1        1000             6  ultra           28           172             60   \n",
       "2        1000             7  ultra           41           340             75   \n",
       "3        1000             8  ultra           42           408             81   \n",
       "4        1000             9  ultra           46           466             57   \n",
       "...       ...           ...    ...          ...           ...            ...   \n",
       "3163     1498            10  smart           30           247             42   \n",
       "3164     1499             9  smart            8            70             11   \n",
       "3165     1499            10  smart           44           449             48   \n",
       "3166     1499            11  smart           62           612             59   \n",
       "3167     1499            12  smart           56           492             66   \n",
       "\n",
       "      traffik_mb  total_income  \n",
       "0        2253.49          1950  \n",
       "1       23233.77          1950  \n",
       "2       14003.64          1950  \n",
       "3       14055.93          1950  \n",
       "4       14568.91          1950  \n",
       "...          ...           ...  \n",
       "3163    20579.36          1750  \n",
       "3164     1845.75           550  \n",
       "3165    17788.51          1150  \n",
       "3166    17963.31          1513  \n",
       "3167    13055.58           598  \n",
       "\n",
       "[3168 rows x 8 columns]"
      ]
     },
     "execution_count": 162,
     "metadata": {},
     "output_type": "execute_result"
    }
   ],
   "source": [
    "# функция для подсчета выручки\n",
    "def income(final_pivot):\n",
    "    total_income_ultra = data_tariffs.at[1, 'rub_monthly_fee'] # базовая стоимость ТП Ultra\n",
    "    total_income_smart = data_tariffs.at[0, 'rub_monthly_fee'] # базовая стоимость ТП Smart\n",
    "    \n",
    "    tariff = final_pivot['tariff'] # значение тарифа\n",
    "    duration_sum = final_pivot['duration_sum'] # значение суммы миенут\n",
    "    message_count = final_pivot['message_count'] # значение колличества СМС\n",
    "    traffik_mb = final_pivot['traffik_mb'] # сумма потреченого трафика\n",
    "    \n",
    "    rub_per_minute_ultra = data_tariffs.at[1, 'rub_per_minute'] # стоимость 1 минуты Ультра\n",
    "    rub_per_message_ultra = data_tariffs.at[1, 'rub_per_message'] # стоимость 1 СМС Ультра\n",
    "    rub_per_gb_ultra = data_tariffs.at[1, 'rub_per_gb'] # стоимость 1 Гб ультра\n",
    "    \n",
    "    rub_per_minute_smart = data_tariffs.at[0, 'rub_per_minute'] # стоимость 1 минуты смарт\n",
    "    rub_per_message_smart = data_tariffs.at[0, 'rub_per_message']  # стоимость 1 СМС смарт\n",
    "    rub_per_gb_smart = data_tariffs.at[0, 'rub_per_gb']     # стоимость 1 Гб смарт\n",
    "    \n",
    "    gb = 1024 # кол-во Mb в Gb\n",
    "    # подсчет выручки для тарифов Ultra\n",
    "    if tariff == 'ultra':\n",
    "        if duration_sum > data_tariffs.at[1, 'minutes_included']:\n",
    "            duration_income = (duration_sum - data_tariffs.at[1, 'minutes_included']) * rub_per_minute_ultra\n",
    "            total_income_ultra += duration_income\n",
    "        if message_count > data_tariffs.at[1, 'messages_included']:\n",
    "            message_income = (message_count - data_tariffs.at[1, 'messages_included']) * rub_per_message_ultra\n",
    "            total_income_ultra += message_income\n",
    "        if traffik_mb > data_tariffs.at[1, 'mg_per_month_included']:\n",
    "            traffik_income = math.ceil((traffik_mb - data_tariffs.at[1, 'mg_per_month_included']) / gb) * rub_per_gb_ultra\n",
    "            total_income_ultra += traffik_income\n",
    "        return total_income_ultra\n",
    "     # подсчет выручки для тарифов Smart    \n",
    "    if tariff == 'smart':\n",
    "        if duration_sum > data_tariffs.at[0, 'minutes_included']:\n",
    "            duration_income = (duration_sum - data_tariffs.at[0, 'minutes_included']) * rub_per_minute_smart\n",
    "            total_income_smart += duration_income\n",
    "        if message_count > data_tariffs.at[0, 'messages_included']:\n",
    "            message_income = (message_count - data_tariffs.at[0, 'messages_included']) * rub_per_message_smart\n",
    "            total_income_smart += message_income\n",
    "        if traffik_mb > data_tariffs.at[0, 'mg_per_month_included']:\n",
    "            traffik_income = math.ceil((traffik_mb - data_tariffs.at[0, 'mg_per_month_included']) / gb) * rub_per_gb_smart\n",
    "            total_income_smart += traffik_income\n",
    "              \n",
    "        return total_income_smart\n",
    "\n",
    "    \n",
    "# применим функцию для ранее полученной таблицы    \n",
    "final_pivot = final_pivot.reset_index()\n",
    "final_pivot['total_income'] = final_pivot.apply(income, axis=1)\n",
    "final_pivot"
   ]
  },
  {
   "cell_type": "markdown",
   "metadata": {},
   "source": [
    "---\n",
    "### Вывод:"
   ]
  },
  {
   "cell_type": "markdown",
   "metadata": {},
   "source": [
    "Из исходных таблиц я получил 3 сводные таблицы с коллическом и продолжительностью звонком, коллическов СМС и потраченного трафика в разбикве по месяцам. В ходе работы в таблице появились стороки в столбце с колличеством СМС в которых не было данных. В этих строках я заменил значения на 0, так в эти месяцы не отправлялись СМС.\n",
    "\n",
    "Эти таблицы я соедил в одну и на основание полученных данных посчитал помесечную выручку по каждому клиенту\n",
    "\n",
    "---"
   ]
  },
  {
   "cell_type": "markdown",
   "metadata": {},
   "source": [
    "### Шаг 3. Анализ данных"
   ]
  },
  {
   "cell_type": "markdown",
   "metadata": {},
   "source": [
    "Опишем поведение клиентов оператора, исходя из выборки. \n",
    "Сколько минут разговора, сколько сообщений и какой объём интернет-трафика требуется пользователям каждого тарифа в месяц?\n",
    "\n",
    "Для этого посчитаем:\n",
    "- среднее количество, \n",
    "- дисперсию,\n",
    "- стандартное отклонение.\n",
    "\n",
    "Построем гистограммы и опишем распределения. "
   ]
  },
  {
   "cell_type": "code",
   "execution_count": 163,
   "metadata": {
    "scrolled": true
   },
   "outputs": [
    {
     "data": {
      "text/html": [
       "<div>\n",
       "<style scoped>\n",
       "    .dataframe tbody tr th:only-of-type {\n",
       "        vertical-align: middle;\n",
       "    }\n",
       "\n",
       "    .dataframe tbody tr th {\n",
       "        vertical-align: top;\n",
       "    }\n",
       "\n",
       "    .dataframe thead th {\n",
       "        text-align: right;\n",
       "    }\n",
       "</style>\n",
       "<table border=\"1\" class=\"dataframe\">\n",
       "  <thead>\n",
       "    <tr style=\"text-align: right;\">\n",
       "      <th></th>\n",
       "      <th>user_id</th>\n",
       "      <th>month_number</th>\n",
       "      <th>count_colls</th>\n",
       "      <th>duration_sum</th>\n",
       "      <th>message_count</th>\n",
       "      <th>traffik_mb</th>\n",
       "      <th>total_income</th>\n",
       "    </tr>\n",
       "  </thead>\n",
       "  <tbody>\n",
       "    <tr>\n",
       "      <td>count</td>\n",
       "      <td>2221.000000</td>\n",
       "      <td>2221.000000</td>\n",
       "      <td>2221.000000</td>\n",
       "      <td>2221.000000</td>\n",
       "      <td>2221.000000</td>\n",
       "      <td>2220.000000</td>\n",
       "      <td>2221.000000</td>\n",
       "    </tr>\n",
       "    <tr>\n",
       "      <td>mean</td>\n",
       "      <td>1245.789734</td>\n",
       "      <td>8.349392</td>\n",
       "      <td>47.116614</td>\n",
       "      <td>419.440342</td>\n",
       "      <td>33.392166</td>\n",
       "      <td>16217.960284</td>\n",
       "      <td>1291.108059</td>\n",
       "    </tr>\n",
       "    <tr>\n",
       "      <td>std</td>\n",
       "      <td>145.853596</td>\n",
       "      <td>2.917705</td>\n",
       "      <td>20.887092</td>\n",
       "      <td>188.992403</td>\n",
       "      <td>28.270233</td>\n",
       "      <td>5867.577983</td>\n",
       "      <td>819.319381</td>\n",
       "    </tr>\n",
       "    <tr>\n",
       "      <td>min</td>\n",
       "      <td>1001.000000</td>\n",
       "      <td>1.000000</td>\n",
       "      <td>1.000000</td>\n",
       "      <td>2.000000</td>\n",
       "      <td>0.000000</td>\n",
       "      <td>0.000000</td>\n",
       "      <td>550.000000</td>\n",
       "    </tr>\n",
       "    <tr>\n",
       "      <td>25%</td>\n",
       "      <td>1121.000000</td>\n",
       "      <td>6.000000</td>\n",
       "      <td>32.000000</td>\n",
       "      <td>285.000000</td>\n",
       "      <td>10.000000</td>\n",
       "      <td>12663.052500</td>\n",
       "      <td>550.000000</td>\n",
       "    </tr>\n",
       "    <tr>\n",
       "      <td>50%</td>\n",
       "      <td>1239.000000</td>\n",
       "      <td>9.000000</td>\n",
       "      <td>48.000000</td>\n",
       "      <td>423.000000</td>\n",
       "      <td>28.000000</td>\n",
       "      <td>16505.475000</td>\n",
       "      <td>1030.000000</td>\n",
       "    </tr>\n",
       "    <tr>\n",
       "      <td>75%</td>\n",
       "      <td>1376.000000</td>\n",
       "      <td>11.000000</td>\n",
       "      <td>61.000000</td>\n",
       "      <td>546.000000</td>\n",
       "      <td>51.000000</td>\n",
       "      <td>20046.935000</td>\n",
       "      <td>1750.000000</td>\n",
       "    </tr>\n",
       "    <tr>\n",
       "      <td>max</td>\n",
       "      <td>1499.000000</td>\n",
       "      <td>12.000000</td>\n",
       "      <td>162.000000</td>\n",
       "      <td>1435.000000</td>\n",
       "      <td>143.000000</td>\n",
       "      <td>38552.450000</td>\n",
       "      <td>6770.000000</td>\n",
       "    </tr>\n",
       "  </tbody>\n",
       "</table>\n",
       "</div>"
      ],
      "text/plain": [
       "           user_id  month_number  count_colls  duration_sum  message_count  \\\n",
       "count  2221.000000   2221.000000  2221.000000   2221.000000    2221.000000   \n",
       "mean   1245.789734      8.349392    47.116614    419.440342      33.392166   \n",
       "std     145.853596      2.917705    20.887092    188.992403      28.270233   \n",
       "min    1001.000000      1.000000     1.000000      2.000000       0.000000   \n",
       "25%    1121.000000      6.000000    32.000000    285.000000      10.000000   \n",
       "50%    1239.000000      9.000000    48.000000    423.000000      28.000000   \n",
       "75%    1376.000000     11.000000    61.000000    546.000000      51.000000   \n",
       "max    1499.000000     12.000000   162.000000   1435.000000     143.000000   \n",
       "\n",
       "         traffik_mb  total_income  \n",
       "count   2220.000000   2221.000000  \n",
       "mean   16217.960284   1291.108059  \n",
       "std     5867.577983    819.319381  \n",
       "min        0.000000    550.000000  \n",
       "25%    12663.052500    550.000000  \n",
       "50%    16505.475000   1030.000000  \n",
       "75%    20046.935000   1750.000000  \n",
       "max    38552.450000   6770.000000  "
      ]
     },
     "execution_count": 163,
     "metadata": {},
     "output_type": "execute_result"
    }
   ],
   "source": [
    "# сделенм срез данных для каждого тарифа\n",
    "data_smart = final_pivot.query('tariff == \"smart\"')\n",
    "data_smart.describe()"
   ]
  },
  {
   "cell_type": "code",
   "execution_count": 164,
   "metadata": {},
   "outputs": [
    {
     "data": {
      "text/html": [
       "<div>\n",
       "<style scoped>\n",
       "    .dataframe tbody tr th:only-of-type {\n",
       "        vertical-align: middle;\n",
       "    }\n",
       "\n",
       "    .dataframe tbody tr th {\n",
       "        vertical-align: top;\n",
       "    }\n",
       "\n",
       "    .dataframe thead th {\n",
       "        text-align: right;\n",
       "    }\n",
       "</style>\n",
       "<table border=\"1\" class=\"dataframe\">\n",
       "  <thead>\n",
       "    <tr style=\"text-align: right;\">\n",
       "      <th></th>\n",
       "      <th>user_id</th>\n",
       "      <th>month_number</th>\n",
       "      <th>count_colls</th>\n",
       "      <th>duration_sum</th>\n",
       "      <th>message_count</th>\n",
       "      <th>traffik_mb</th>\n",
       "      <th>total_income</th>\n",
       "    </tr>\n",
       "  </thead>\n",
       "  <tbody>\n",
       "    <tr>\n",
       "      <td>count</td>\n",
       "      <td>947.000000</td>\n",
       "      <td>947.000000</td>\n",
       "      <td>947.000000</td>\n",
       "      <td>947.000000</td>\n",
       "      <td>947.000000</td>\n",
       "      <td>937.000000</td>\n",
       "      <td>947.000000</td>\n",
       "    </tr>\n",
       "    <tr>\n",
       "      <td>mean</td>\n",
       "      <td>1264.817318</td>\n",
       "      <td>8.242872</td>\n",
       "      <td>61.613516</td>\n",
       "      <td>547.755016</td>\n",
       "      <td>48.759240</td>\n",
       "      <td>19679.388324</td>\n",
       "      <td>2071.488912</td>\n",
       "    </tr>\n",
       "    <tr>\n",
       "      <td>std</td>\n",
       "      <td>140.706956</td>\n",
       "      <td>2.882502</td>\n",
       "      <td>34.189197</td>\n",
       "      <td>305.513385</td>\n",
       "      <td>46.601785</td>\n",
       "      <td>9978.779388</td>\n",
       "      <td>380.142958</td>\n",
       "    </tr>\n",
       "    <tr>\n",
       "      <td>min</td>\n",
       "      <td>1000.000000</td>\n",
       "      <td>1.000000</td>\n",
       "      <td>1.000000</td>\n",
       "      <td>1.000000</td>\n",
       "      <td>0.000000</td>\n",
       "      <td>0.000000</td>\n",
       "      <td>1950.000000</td>\n",
       "    </tr>\n",
       "    <tr>\n",
       "      <td>25%</td>\n",
       "      <td>1148.000000</td>\n",
       "      <td>6.000000</td>\n",
       "      <td>35.000000</td>\n",
       "      <td>311.000000</td>\n",
       "      <td>5.000000</td>\n",
       "      <td>11873.280000</td>\n",
       "      <td>1950.000000</td>\n",
       "    </tr>\n",
       "    <tr>\n",
       "      <td>50%</td>\n",
       "      <td>1281.000000</td>\n",
       "      <td>9.000000</td>\n",
       "      <td>61.000000</td>\n",
       "      <td>529.000000</td>\n",
       "      <td>39.000000</td>\n",
       "      <td>19423.760000</td>\n",
       "      <td>1950.000000</td>\n",
       "    </tr>\n",
       "    <tr>\n",
       "      <td>75%</td>\n",
       "      <td>1381.000000</td>\n",
       "      <td>11.000000</td>\n",
       "      <td>84.000000</td>\n",
       "      <td>758.000000</td>\n",
       "      <td>78.500000</td>\n",
       "      <td>26927.850000</td>\n",
       "      <td>1950.000000</td>\n",
       "    </tr>\n",
       "    <tr>\n",
       "      <td>max</td>\n",
       "      <td>1495.000000</td>\n",
       "      <td>12.000000</td>\n",
       "      <td>190.000000</td>\n",
       "      <td>1673.000000</td>\n",
       "      <td>224.000000</td>\n",
       "      <td>49745.690000</td>\n",
       "      <td>4800.000000</td>\n",
       "    </tr>\n",
       "  </tbody>\n",
       "</table>\n",
       "</div>"
      ],
      "text/plain": [
       "           user_id  month_number  count_colls  duration_sum  message_count  \\\n",
       "count   947.000000    947.000000   947.000000    947.000000     947.000000   \n",
       "mean   1264.817318      8.242872    61.613516    547.755016      48.759240   \n",
       "std     140.706956      2.882502    34.189197    305.513385      46.601785   \n",
       "min    1000.000000      1.000000     1.000000      1.000000       0.000000   \n",
       "25%    1148.000000      6.000000    35.000000    311.000000       5.000000   \n",
       "50%    1281.000000      9.000000    61.000000    529.000000      39.000000   \n",
       "75%    1381.000000     11.000000    84.000000    758.000000      78.500000   \n",
       "max    1495.000000     12.000000   190.000000   1673.000000     224.000000   \n",
       "\n",
       "         traffik_mb  total_income  \n",
       "count    937.000000    947.000000  \n",
       "mean   19679.388324   2071.488912  \n",
       "std     9978.779388    380.142958  \n",
       "min        0.000000   1950.000000  \n",
       "25%    11873.280000   1950.000000  \n",
       "50%    19423.760000   1950.000000  \n",
       "75%    26927.850000   1950.000000  \n",
       "max    49745.690000   4800.000000  "
      ]
     },
     "execution_count": 164,
     "metadata": {},
     "output_type": "execute_result"
    }
   ],
   "source": [
    "data_ultra = final_pivot.query('tariff == \"ultra\"')\n",
    "data_ultra.describe()"
   ]
  },
  {
   "cell_type": "code",
   "execution_count": 165,
   "metadata": {},
   "outputs": [
    {
     "data": {
      "text/html": [
       "<style  type=\"text/css\" >\n",
       "</style><table id=\"T_ac650c84_611a_11ea_8a38_02420a00403d\" ><thead>    <tr>        <th class=\"blank level0\" ></th>        <th class=\"col_heading level0 col0\" colspan=2>duration_sum</th>        <th class=\"col_heading level0 col2\" colspan=2>message_count</th>        <th class=\"col_heading level0 col4\" colspan=2>traffik_mb</th>    </tr>    <tr>        <th class=\"index_name level1\" >tariff</th>        <th class=\"col_heading level1 col0\" >smart</th>        <th class=\"col_heading level1 col1\" >ultra</th>        <th class=\"col_heading level1 col2\" >smart</th>        <th class=\"col_heading level1 col3\" >ultra</th>        <th class=\"col_heading level1 col4\" >smart</th>        <th class=\"col_heading level1 col5\" >ultra</th>    </tr>    <tr>        <th class=\"index_name level0\" >month_number</th>        <th class=\"blank\" ></th>        <th class=\"blank\" ></th>        <th class=\"blank\" ></th>        <th class=\"blank\" ></th>        <th class=\"blank\" ></th>        <th class=\"blank\" ></th>    </tr></thead><tbody>\n",
       "                <tr>\n",
       "                        <th id=\"T_ac650c84_611a_11ea_8a38_02420a00403dlevel0_row0\" class=\"row_heading level0 row0\" >1</th>\n",
       "                        <td id=\"T_ac650c84_611a_11ea_8a38_02420a00403drow0_col0\" class=\"data row0 col0\" >210</td>\n",
       "                        <td id=\"T_ac650c84_611a_11ea_8a38_02420a00403drow0_col1\" class=\"data row0 col1\" >428</td>\n",
       "                        <td id=\"T_ac650c84_611a_11ea_8a38_02420a00403drow0_col2\" class=\"data row0 col2\" >18</td>\n",
       "                        <td id=\"T_ac650c84_611a_11ea_8a38_02420a00403drow0_col3\" class=\"data row0 col3\" >34</td>\n",
       "                        <td id=\"T_ac650c84_611a_11ea_8a38_02420a00403drow0_col4\" class=\"data row0 col4\" >8494</td>\n",
       "                        <td id=\"T_ac650c84_611a_11ea_8a38_02420a00403drow0_col5\" class=\"data row0 col5\" >13141</td>\n",
       "            </tr>\n",
       "            <tr>\n",
       "                        <th id=\"T_ac650c84_611a_11ea_8a38_02420a00403dlevel0_row1\" class=\"row_heading level0 row1\" >2</th>\n",
       "                        <td id=\"T_ac650c84_611a_11ea_8a38_02420a00403drow1_col0\" class=\"data row1 col0\" >299</td>\n",
       "                        <td id=\"T_ac650c84_611a_11ea_8a38_02420a00403drow1_col1\" class=\"data row1 col1\" >310</td>\n",
       "                        <td id=\"T_ac650c84_611a_11ea_8a38_02420a00403drow1_col2\" class=\"data row1 col2\" >24</td>\n",
       "                        <td id=\"T_ac650c84_611a_11ea_8a38_02420a00403drow1_col3\" class=\"data row1 col3\" >23</td>\n",
       "                        <td id=\"T_ac650c84_611a_11ea_8a38_02420a00403drow1_col4\" class=\"data row1 col4\" >11597</td>\n",
       "                        <td id=\"T_ac650c84_611a_11ea_8a38_02420a00403drow1_col5\" class=\"data row1 col5\" >13413</td>\n",
       "            </tr>\n",
       "            <tr>\n",
       "                        <th id=\"T_ac650c84_611a_11ea_8a38_02420a00403dlevel0_row2\" class=\"row_heading level0 row2\" >3</th>\n",
       "                        <td id=\"T_ac650c84_611a_11ea_8a38_02420a00403drow2_col0\" class=\"data row2 col0\" >390</td>\n",
       "                        <td id=\"T_ac650c84_611a_11ea_8a38_02420a00403drow2_col1\" class=\"data row2 col1\" >490</td>\n",
       "                        <td id=\"T_ac650c84_611a_11ea_8a38_02420a00403drow2_col2\" class=\"data row2 col2\" >32</td>\n",
       "                        <td id=\"T_ac650c84_611a_11ea_8a38_02420a00403drow2_col3\" class=\"data row2 col3\" >32</td>\n",
       "                        <td id=\"T_ac650c84_611a_11ea_8a38_02420a00403drow2_col4\" class=\"data row2 col4\" >15104</td>\n",
       "                        <td id=\"T_ac650c84_611a_11ea_8a38_02420a00403drow2_col5\" class=\"data row2 col5\" >17536</td>\n",
       "            </tr>\n",
       "            <tr>\n",
       "                        <th id=\"T_ac650c84_611a_11ea_8a38_02420a00403dlevel0_row3\" class=\"row_heading level0 row3\" >4</th>\n",
       "                        <td id=\"T_ac650c84_611a_11ea_8a38_02420a00403drow3_col0\" class=\"data row3 col0\" >370</td>\n",
       "                        <td id=\"T_ac650c84_611a_11ea_8a38_02420a00403drow3_col1\" class=\"data row3 col1\" >475</td>\n",
       "                        <td id=\"T_ac650c84_611a_11ea_8a38_02420a00403drow3_col2\" class=\"data row3 col2\" >31</td>\n",
       "                        <td id=\"T_ac650c84_611a_11ea_8a38_02420a00403drow3_col3\" class=\"data row3 col3\" >33</td>\n",
       "                        <td id=\"T_ac650c84_611a_11ea_8a38_02420a00403drow3_col4\" class=\"data row3 col4\" >13400</td>\n",
       "                        <td id=\"T_ac650c84_611a_11ea_8a38_02420a00403drow3_col5\" class=\"data row3 col5\" >17398</td>\n",
       "            </tr>\n",
       "            <tr>\n",
       "                        <th id=\"T_ac650c84_611a_11ea_8a38_02420a00403dlevel0_row4\" class=\"row_heading level0 row4\" >5</th>\n",
       "                        <td id=\"T_ac650c84_611a_11ea_8a38_02420a00403drow4_col0\" class=\"data row4 col0\" >387</td>\n",
       "                        <td id=\"T_ac650c84_611a_11ea_8a38_02420a00403drow4_col1\" class=\"data row4 col1\" >534</td>\n",
       "                        <td id=\"T_ac650c84_611a_11ea_8a38_02420a00403drow4_col2\" class=\"data row4 col2\" >34</td>\n",
       "                        <td id=\"T_ac650c84_611a_11ea_8a38_02420a00403drow4_col3\" class=\"data row4 col3\" >38</td>\n",
       "                        <td id=\"T_ac650c84_611a_11ea_8a38_02420a00403drow4_col4\" class=\"data row4 col4\" >15805</td>\n",
       "                        <td id=\"T_ac650c84_611a_11ea_8a38_02420a00403drow4_col5\" class=\"data row4 col5\" >19987</td>\n",
       "            </tr>\n",
       "            <tr>\n",
       "                        <th id=\"T_ac650c84_611a_11ea_8a38_02420a00403dlevel0_row5\" class=\"row_heading level0 row5\" >6</th>\n",
       "                        <td id=\"T_ac650c84_611a_11ea_8a38_02420a00403drow5_col0\" class=\"data row5 col0\" >398</td>\n",
       "                        <td id=\"T_ac650c84_611a_11ea_8a38_02420a00403drow5_col1\" class=\"data row5 col1\" >497</td>\n",
       "                        <td id=\"T_ac650c84_611a_11ea_8a38_02420a00403drow5_col2\" class=\"data row5 col2\" >33</td>\n",
       "                        <td id=\"T_ac650c84_611a_11ea_8a38_02420a00403drow5_col3\" class=\"data row5 col3\" >40</td>\n",
       "                        <td id=\"T_ac650c84_611a_11ea_8a38_02420a00403drow5_col4\" class=\"data row5 col4\" >15815</td>\n",
       "                        <td id=\"T_ac650c84_611a_11ea_8a38_02420a00403drow5_col5\" class=\"data row5 col5\" >19145</td>\n",
       "            </tr>\n",
       "            <tr>\n",
       "                        <th id=\"T_ac650c84_611a_11ea_8a38_02420a00403dlevel0_row6\" class=\"row_heading level0 row6\" >7</th>\n",
       "                        <td id=\"T_ac650c84_611a_11ea_8a38_02420a00403drow6_col0\" class=\"data row6 col0\" >408</td>\n",
       "                        <td id=\"T_ac650c84_611a_11ea_8a38_02420a00403drow6_col1\" class=\"data row6 col1\" >571</td>\n",
       "                        <td id=\"T_ac650c84_611a_11ea_8a38_02420a00403drow6_col2\" class=\"data row6 col2\" >34</td>\n",
       "                        <td id=\"T_ac650c84_611a_11ea_8a38_02420a00403drow6_col3\" class=\"data row6 col3\" >47</td>\n",
       "                        <td id=\"T_ac650c84_611a_11ea_8a38_02420a00403drow6_col4\" class=\"data row6 col4\" >15743</td>\n",
       "                        <td id=\"T_ac650c84_611a_11ea_8a38_02420a00403drow6_col5\" class=\"data row6 col5\" >20690</td>\n",
       "            </tr>\n",
       "            <tr>\n",
       "                        <th id=\"T_ac650c84_611a_11ea_8a38_02420a00403dlevel0_row7\" class=\"row_heading level0 row7\" >8</th>\n",
       "                        <td id=\"T_ac650c84_611a_11ea_8a38_02420a00403drow7_col0\" class=\"data row7 col0\" >423</td>\n",
       "                        <td id=\"T_ac650c84_611a_11ea_8a38_02420a00403drow7_col1\" class=\"data row7 col1\" >536</td>\n",
       "                        <td id=\"T_ac650c84_611a_11ea_8a38_02420a00403drow7_col2\" class=\"data row7 col2\" >34</td>\n",
       "                        <td id=\"T_ac650c84_611a_11ea_8a38_02420a00403drow7_col3\" class=\"data row7 col3\" >47</td>\n",
       "                        <td id=\"T_ac650c84_611a_11ea_8a38_02420a00403drow7_col4\" class=\"data row7 col4\" >16706</td>\n",
       "                        <td id=\"T_ac650c84_611a_11ea_8a38_02420a00403drow7_col5\" class=\"data row7 col5\" >19728</td>\n",
       "            </tr>\n",
       "            <tr>\n",
       "                        <th id=\"T_ac650c84_611a_11ea_8a38_02420a00403dlevel0_row8\" class=\"row_heading level0 row8\" >9</th>\n",
       "                        <td id=\"T_ac650c84_611a_11ea_8a38_02420a00403drow8_col0\" class=\"data row8 col0\" >430</td>\n",
       "                        <td id=\"T_ac650c84_611a_11ea_8a38_02420a00403drow8_col1\" class=\"data row8 col1\" >564</td>\n",
       "                        <td id=\"T_ac650c84_611a_11ea_8a38_02420a00403drow8_col2\" class=\"data row8 col2\" >34</td>\n",
       "                        <td id=\"T_ac650c84_611a_11ea_8a38_02420a00403drow8_col3\" class=\"data row8 col3\" >51</td>\n",
       "                        <td id=\"T_ac650c84_611a_11ea_8a38_02420a00403drow8_col4\" class=\"data row8 col4\" >16300</td>\n",
       "                        <td id=\"T_ac650c84_611a_11ea_8a38_02420a00403drow8_col5\" class=\"data row8 col5\" >19236</td>\n",
       "            </tr>\n",
       "            <tr>\n",
       "                        <th id=\"T_ac650c84_611a_11ea_8a38_02420a00403dlevel0_row9\" class=\"row_heading level0 row9\" >10</th>\n",
       "                        <td id=\"T_ac650c84_611a_11ea_8a38_02420a00403drow9_col0\" class=\"data row9 col0\" >428</td>\n",
       "                        <td id=\"T_ac650c84_611a_11ea_8a38_02420a00403drow9_col1\" class=\"data row9 col1\" >582</td>\n",
       "                        <td id=\"T_ac650c84_611a_11ea_8a38_02420a00403drow9_col2\" class=\"data row9 col2\" >34</td>\n",
       "                        <td id=\"T_ac650c84_611a_11ea_8a38_02420a00403drow9_col3\" class=\"data row9 col3\" >58</td>\n",
       "                        <td id=\"T_ac650c84_611a_11ea_8a38_02420a00403drow9_col4\" class=\"data row9 col4\" >16748</td>\n",
       "                        <td id=\"T_ac650c84_611a_11ea_8a38_02420a00403drow9_col5\" class=\"data row9 col5\" >20246</td>\n",
       "            </tr>\n",
       "            <tr>\n",
       "                        <th id=\"T_ac650c84_611a_11ea_8a38_02420a00403dlevel0_row10\" class=\"row_heading level0 row10\" >11</th>\n",
       "                        <td id=\"T_ac650c84_611a_11ea_8a38_02420a00403drow10_col0\" class=\"data row10 col0\" >437</td>\n",
       "                        <td id=\"T_ac650c84_611a_11ea_8a38_02420a00403drow10_col1\" class=\"data row10 col1\" >562</td>\n",
       "                        <td id=\"T_ac650c84_611a_11ea_8a38_02420a00403drow10_col2\" class=\"data row10 col2\" >34</td>\n",
       "                        <td id=\"T_ac650c84_611a_11ea_8a38_02420a00403drow10_col3\" class=\"data row10 col3\" >56</td>\n",
       "                        <td id=\"T_ac650c84_611a_11ea_8a38_02420a00403drow10_col4\" class=\"data row10 col4\" >16894</td>\n",
       "                        <td id=\"T_ac650c84_611a_11ea_8a38_02420a00403drow10_col5\" class=\"data row10 col5\" >19794</td>\n",
       "            </tr>\n",
       "            <tr>\n",
       "                        <th id=\"T_ac650c84_611a_11ea_8a38_02420a00403dlevel0_row11\" class=\"row_heading level0 row11\" >12</th>\n",
       "                        <td id=\"T_ac650c84_611a_11ea_8a38_02420a00403drow11_col0\" class=\"data row11 col0\" >480</td>\n",
       "                        <td id=\"T_ac650c84_611a_11ea_8a38_02420a00403drow11_col1\" class=\"data row11 col1\" >615</td>\n",
       "                        <td id=\"T_ac650c84_611a_11ea_8a38_02420a00403drow11_col2\" class=\"data row11 col2\" >36</td>\n",
       "                        <td id=\"T_ac650c84_611a_11ea_8a38_02420a00403drow11_col3\" class=\"data row11 col3\" >61</td>\n",
       "                        <td id=\"T_ac650c84_611a_11ea_8a38_02420a00403drow11_col4\" class=\"data row11 col4\" >18116</td>\n",
       "                        <td id=\"T_ac650c84_611a_11ea_8a38_02420a00403drow11_col5\" class=\"data row11 col5\" >21857</td>\n",
       "            </tr>\n",
       "    </tbody></table>"
      ],
      "text/plain": [
       "<pandas.io.formats.style.Styler at 0x7f19d08e0e90>"
      ]
     },
     "execution_count": 165,
     "metadata": {},
     "output_type": "execute_result"
    }
   ],
   "source": [
    "# посчитаем средние показатели в развивке по месяцам по каждому тарифу\n",
    "month_pivot = (final_pivot\n",
    "                   .pivot_table(index='month_number',\n",
    "                                columns='tariff', \n",
    "                                aggfunc={'duration_sum':'mean', 'message_count':'mean', 'traffik_mb':'mean'}\n",
    "                               )\n",
    "              )\n",
    "\n",
    "month_pivot.style.format(\"{:.0f}\")"
   ]
  },
  {
   "cell_type": "code",
   "execution_count": 166,
   "metadata": {},
   "outputs": [
    {
     "data": {
      "text/html": [
       "<style  type=\"text/css\" >\n",
       "</style><table id=\"T_ac6ca87c_611a_11ea_8a38_02420a00403d\" ><thead>    <tr>        <th class=\"blank level0\" ></th>        <th class=\"col_heading level0 col0\" >duration_sum</th>        <th class=\"col_heading level0 col1\" >message_count</th>        <th class=\"col_heading level0 col2\" >traffik_mb</th>    </tr>    <tr>        <th class=\"index_name level0\" >tariff</th>        <th class=\"blank\" ></th>        <th class=\"blank\" ></th>        <th class=\"blank\" ></th>    </tr></thead><tbody>\n",
       "                <tr>\n",
       "                        <th id=\"T_ac6ca87c_611a_11ea_8a38_02420a00403dlevel0_row0\" class=\"row_heading level0 row0\" >smart</th>\n",
       "                        <td id=\"T_ac6ca87c_611a_11ea_8a38_02420a00403drow0_col0\" class=\"data row0 col0\" >419</td>\n",
       "                        <td id=\"T_ac6ca87c_611a_11ea_8a38_02420a00403drow0_col1\" class=\"data row0 col1\" >33</td>\n",
       "                        <td id=\"T_ac6ca87c_611a_11ea_8a38_02420a00403drow0_col2\" class=\"data row0 col2\" >16218</td>\n",
       "            </tr>\n",
       "            <tr>\n",
       "                        <th id=\"T_ac6ca87c_611a_11ea_8a38_02420a00403dlevel0_row1\" class=\"row_heading level0 row1\" >ultra</th>\n",
       "                        <td id=\"T_ac6ca87c_611a_11ea_8a38_02420a00403drow1_col0\" class=\"data row1 col0\" >548</td>\n",
       "                        <td id=\"T_ac6ca87c_611a_11ea_8a38_02420a00403drow1_col1\" class=\"data row1 col1\" >49</td>\n",
       "                        <td id=\"T_ac6ca87c_611a_11ea_8a38_02420a00403drow1_col2\" class=\"data row1 col2\" >19679</td>\n",
       "            </tr>\n",
       "    </tbody></table>"
      ],
      "text/plain": [
       "<pandas.io.formats.style.Styler at 0x7f19d26cd4d0>"
      ]
     },
     "execution_count": 166,
     "metadata": {},
     "output_type": "execute_result"
    }
   ],
   "source": [
    "# посчитаем средние раскходы по каждому тарицу в целом \n",
    "tariff_pivot = (final_pivot\n",
    "                   .pivot_table(index='tariff',                                 \n",
    "                                aggfunc={'duration_sum':'mean', 'message_count':'mean', 'traffik_mb':'mean'}\n",
    "                               )\n",
    "              )\n",
    "\n",
    "tariff_pivot.style.format(\"{:.0f}\")"
   ]
  },
  {
   "cell_type": "code",
   "execution_count": 167,
   "metadata": {},
   "outputs": [
    {
     "name": "stdout",
     "output_type": "stream",
     "text": [
      "Дисперсия по тарифам смарт: 35718.128533936906 799.2060467040657 34428471.39120519\n",
      "Дисперсия по тарифам ультра: 93338.42829141095 2171.7263283853986 99576038.06548022\n"
     ]
    }
   ],
   "source": [
    "# рассчет дисперсии для тарифов Смарт\n",
    "var_smart_dur = np.var(data_smart['duration_sum'], ddof=1)\n",
    "var_smart_mess = np.var(data_smart['message_count'], ddof=1)\n",
    "var_smart_traf = np.var(data_smart['traffik_mb'], ddof=1)\n",
    "print('Дисперсия по тарифам смарт:', var_smart_dur, var_smart_mess, var_smart_traf)\n",
    "\n",
    "# рассчет дисперсии для тарифов Ультра\n",
    "var_ultra_dur = np.var(data_ultra['duration_sum'], ddof=1)\n",
    "var_ultra_mess = np.var(data_ultra['message_count'], ddof=1)\n",
    "var_ultra_traf = np.var(data_ultra['traffik_mb'], ddof=1)\n",
    "print('Дисперсия по тарифам ультра:', var_ultra_dur, var_ultra_mess, var_ultra_traf)"
   ]
  },
  {
   "cell_type": "code",
   "execution_count": 168,
   "metadata": {},
   "outputs": [],
   "source": [
    "# рассчет стандартного отклонения для тарифов Смарт\n",
    "std_smart_dur = np.std(data_smart[['duration_sum']], ddof=1)\n",
    "std_smart_mess = np.std(data_smart[['message_count']], ddof=1)\n",
    "std_smart_traf = np.std(data_smart[['traffik_mb']], ddof=1)\n",
    "\n",
    "# рассчет стандартного отклонения для тарифов Ультра\n",
    "std_ultra_dur = np.std(data_ultra[['duration_sum']], ddof=1)\n",
    "std_ultra_mess = np.std(data_ultra[['message_count']], ddof=1)\n",
    "std_ultra_traf = np.std(data_ultra[['traffik_mb']], ddof=1)"
   ]
  },
  {
   "cell_type": "code",
   "execution_count": 169,
   "metadata": {},
   "outputs": [],
   "source": [
    "# функция для построения 2 графиков\n",
    "def boxprint(colum, bins):\n",
    "    print(colum.describe())\n",
    "    q1 = colum.quantile(0.25)\n",
    "    q3 = colum.quantile(0.75)\n",
    "    iqr = q3 - q1\n",
    "    colum.hist(bins=bins, range=((q1-3*iqr), (q3+3*iqr)))\n",
    "    plt.show()\n",
    "    sns.boxplot(x=colum, color='red')\n",
    "    "
   ]
  },
  {
   "cell_type": "code",
   "execution_count": 170,
   "metadata": {},
   "outputs": [
    {
     "name": "stdout",
     "output_type": "stream",
     "text": [
      "count    2221.000000\n",
      "mean      419.440342\n",
      "std       188.992403\n",
      "min         2.000000\n",
      "25%       285.000000\n",
      "50%       423.000000\n",
      "75%       546.000000\n",
      "max      1435.000000\n",
      "Name: duration_sum, dtype: float64\n"
     ]
    },
    {
     "data": {
      "image/png": "[encoded data removed]",
      "text/plain": [
       "<Figure size 432x288 with 1 Axes>"
      ]
     },
     "metadata": {
      "needs_background": "light"
     },
     "output_type": "display_data"
    },
    {
     "data": {
      "image/png": "[encoded data removed]",
      "text/plain": [
       "<Figure size 432x288 with 1 Axes>"
      ]
     },
     "metadata": {
      "needs_background": "light"
     },
     "output_type": "display_data"
    }
   ],
   "source": [
    "plt.xlim(0, 1500)\n",
    "boxprint(data_smart['duration_sum'], 25)"
   ]
  },
  {
   "cell_type": "markdown",
   "metadata": {},
   "source": [
    "Распредение данных по сумме звоноков нормальное 75% клиентом почти не превышают пакет минут. Оставшиеся приносят дополнительный доход"
   ]
  },
  {
   "cell_type": "code",
   "execution_count": 171,
   "metadata": {},
   "outputs": [
    {
     "name": "stdout",
     "output_type": "stream",
     "text": [
      "count    2221.000000\n",
      "mean       33.392166\n",
      "std        28.270233\n",
      "min         0.000000\n",
      "25%        10.000000\n",
      "50%        28.000000\n",
      "75%        51.000000\n",
      "max       143.000000\n",
      "Name: message_count, dtype: float64\n"
     ]
    },
    {
     "data": {
      "image/png": "[encoded data removed]",
      "text/plain": [
       "<Figure size 432x288 with 1 Axes>"
      ]
     },
     "metadata": {
      "needs_background": "light"
     },
     "output_type": "display_data"
    },
    {
     "data": {
      "image/png": "[encoded data removed]",
      "text/plain": [
       "<Figure size 432x288 with 1 Axes>"
      ]
     },
     "metadata": {
      "needs_background": "light"
     },
     "output_type": "display_data"
    }
   ],
   "source": [
    "plt.xlim(0, 150)\n",
    "boxprint(data_smart['message_count'], 50)"
   ]
  },
  {
   "cell_type": "markdown",
   "metadata": {},
   "source": [
    "75% клиентов транят 51 СМС при этом в пакете 50. "
   ]
  },
  {
   "cell_type": "code",
   "execution_count": 172,
   "metadata": {},
   "outputs": [
    {
     "name": "stdout",
     "output_type": "stream",
     "text": [
      "count     2220.000000\n",
      "mean     16217.960284\n",
      "std       5867.577983\n",
      "min          0.000000\n",
      "25%      12663.052500\n",
      "50%      16505.475000\n",
      "75%      20046.935000\n",
      "max      38552.450000\n",
      "Name: traffik_mb, dtype: float64\n"
     ]
    },
    {
     "data": {
      "image/png": "[encoded data removed]",
      "text/plain": [
       "<Figure size 432x288 with 1 Axes>"
      ]
     },
     "metadata": {
      "needs_background": "light"
     },
     "output_type": "display_data"
    },
    {
     "data": {
      "image/png": "[encoded data removed]",
      "text/plain": [
       "<Figure size 432x288 with 1 Axes>"
      ]
     },
     "metadata": {
      "needs_background": "light"
     },
     "output_type": "display_data"
    }
   ],
   "source": [
    "plt.xlim(0, 40000)\n",
    "boxprint(data_smart['traffik_mb'], 50)"
   ]
  },
  {
   "cell_type": "markdown",
   "metadata": {},
   "source": [
    "Данные по трафику более интересны половина клиентов из выборки превышает пакет Мб из тарифа, данные клиенты приносят значительный объем дополнительного дохода."
   ]
  },
  {
   "cell_type": "code",
   "execution_count": 173,
   "metadata": {},
   "outputs": [
    {
     "name": "stdout",
     "output_type": "stream",
     "text": [
      "count     947.000000\n",
      "mean      547.755016\n",
      "std       305.513385\n",
      "min         1.000000\n",
      "25%       311.000000\n",
      "50%       529.000000\n",
      "75%       758.000000\n",
      "max      1673.000000\n",
      "Name: duration_sum, dtype: float64\n"
     ]
    },
    {
     "data": {
      "image/png": "[encoded data removed]",
      "text/plain": [
       "<Figure size 432x288 with 1 Axes>"
      ]
     },
     "metadata": {
      "needs_background": "light"
     },
     "output_type": "display_data"
    },
    {
     "data": {
      "image/png": "[encoded data removed]",
      "text/plain": [
       "<Figure size 432x288 with 1 Axes>"
      ]
     },
     "metadata": {
      "needs_background": "light"
     },
     "output_type": "display_data"
    }
   ],
   "source": [
    "plt.xlim(0, 1700)\n",
    "boxprint(data_ultra['duration_sum'], 25)"
   ]
  },
  {
   "cell_type": "markdown",
   "metadata": {},
   "source": [
    "Пакет минут по тарифу Ультра ни один клиенты не выговариает, есть единичные случаи при которых колличество минут более 1500, при этом лимит 3000"
   ]
  },
  {
   "cell_type": "code",
   "execution_count": 174,
   "metadata": {},
   "outputs": [
    {
     "name": "stdout",
     "output_type": "stream",
     "text": [
      "count    947.000000\n",
      "mean      48.759240\n",
      "std       46.601785\n",
      "min        0.000000\n",
      "25%        5.000000\n",
      "50%       39.000000\n",
      "75%       78.500000\n",
      "max      224.000000\n",
      "Name: message_count, dtype: float64\n"
     ]
    },
    {
     "data": {
      "image/png": "[encoded data removed]",
      "text/plain": [
       "<Figure size 432x288 with 1 Axes>"
      ]
     },
     "metadata": {
      "needs_background": "light"
     },
     "output_type": "display_data"
    },
    {
     "data": {
      "image/png": "[encoded data removed]",
      "text/plain": [
       "<Figure size 432x288 with 1 Axes>"
      ]
     },
     "metadata": {
      "needs_background": "light"
     },
     "output_type": "display_data"
    }
   ],
   "source": [
    "plt.xlim(0, 250)\n",
    "boxprint(data_ultra['message_count'], 50)"
   ]
  },
  {
   "cell_type": "markdown",
   "metadata": {},
   "source": [
    "Пакет СМС по тарифу Ультра ни один клиент не выговариает, есть единичные случаи при которых колличество минут более 200, при этом лимит 1000"
   ]
  },
  {
   "cell_type": "code",
   "execution_count": 175,
   "metadata": {},
   "outputs": [
    {
     "name": "stdout",
     "output_type": "stream",
     "text": [
      "count      937.000000\n",
      "mean     19679.388324\n",
      "std       9978.779388\n",
      "min          0.000000\n",
      "25%      11873.280000\n",
      "50%      19423.760000\n",
      "75%      26927.850000\n",
      "max      49745.690000\n",
      "Name: traffik_mb, dtype: float64\n"
     ]
    },
    {
     "data": {
      "image/png": "[encoded data removed]",
      "text/plain": [
       "<Figure size 432x288 with 1 Axes>"
      ]
     },
     "metadata": {
      "needs_background": "light"
     },
     "output_type": "display_data"
    },
    {
     "data": {
      "image/png": "[encoded data removed]",
      "text/plain": [
       "<Figure size 432x288 with 1 Axes>"
      ]
     },
     "metadata": {
      "needs_background": "light"
     },
     "output_type": "display_data"
    }
   ],
   "source": [
    "plt.xlim(0, 50000)\n",
    "boxprint(data_ultra['traffik_mb'], 50)"
   ]
  },
  {
   "cell_type": "markdown",
   "metadata": {},
   "source": [
    "75% процентам клиентов хватает пакета Мб не большая часть приносить дополнительный доход за счет дополнительного трафика."
   ]
  },
  {
   "cell_type": "code",
   "execution_count": 176,
   "metadata": {},
   "outputs": [
    {
     "data": {
      "text/html": [
       "<div>\n",
       "<style scoped>\n",
       "    .dataframe tbody tr th:only-of-type {\n",
       "        vertical-align: middle;\n",
       "    }\n",
       "\n",
       "    .dataframe tbody tr th {\n",
       "        vertical-align: top;\n",
       "    }\n",
       "\n",
       "    .dataframe thead th {\n",
       "        text-align: right;\n",
       "    }\n",
       "</style>\n",
       "<table border=\"1\" class=\"dataframe\">\n",
       "  <thead>\n",
       "    <tr style=\"text-align: right;\">\n",
       "      <th></th>\n",
       "      <th>messages_included</th>\n",
       "      <th>mg_per_month_included</th>\n",
       "      <th>minutes_included</th>\n",
       "      <th>rub_monthly_fee</th>\n",
       "      <th>rub_per_gb</th>\n",
       "      <th>rub_per_message</th>\n",
       "      <th>rub_per_minute</th>\n",
       "      <th>tariff_name</th>\n",
       "    </tr>\n",
       "  </thead>\n",
       "  <tbody>\n",
       "    <tr>\n",
       "      <td>0</td>\n",
       "      <td>50</td>\n",
       "      <td>15360</td>\n",
       "      <td>500</td>\n",
       "      <td>550</td>\n",
       "      <td>200</td>\n",
       "      <td>3</td>\n",
       "      <td>3</td>\n",
       "      <td>smart</td>\n",
       "    </tr>\n",
       "    <tr>\n",
       "      <td>1</td>\n",
       "      <td>1000</td>\n",
       "      <td>30720</td>\n",
       "      <td>3000</td>\n",
       "      <td>1950</td>\n",
       "      <td>150</td>\n",
       "      <td>1</td>\n",
       "      <td>1</td>\n",
       "      <td>ultra</td>\n",
       "    </tr>\n",
       "  </tbody>\n",
       "</table>\n",
       "</div>"
      ],
      "text/plain": [
       "   messages_included  mg_per_month_included  minutes_included  \\\n",
       "0                 50                  15360               500   \n",
       "1               1000                  30720              3000   \n",
       "\n",
       "   rub_monthly_fee  rub_per_gb  rub_per_message  rub_per_minute tariff_name  \n",
       "0              550         200                3               3       smart  \n",
       "1             1950         150                1               1       ultra  "
      ]
     },
     "execution_count": 176,
     "metadata": {},
     "output_type": "execute_result"
    }
   ],
   "source": [
    "data_tariffs"
   ]
  },
  {
   "cell_type": "markdown",
   "metadata": {},
   "source": [
    "---\n",
    "\n",
    "### Вывод:"
   ]
  },
  {
   "cell_type": "markdown",
   "metadata": {},
   "source": [
    "Проанализировва данные по выборке клиентовможно сделать служеющие выводы по тарифам:\n",
    "\n",
    "##### Ультра:\n",
    "Дополнительный доход поступает за счет дополнительного трафика, 75% не расходуют выделенный пакет Мб, пакеты минут и СМС не расходуются.\n",
    "\n",
    "\n",
    "##### Смарт:\n",
    "- 75% клиентом почти не превышают пакет минут. Оставшиеся приносят дополнительный доход.\n",
    "- 75% клиентов транят 51 СМС при этом в пакете 50. \n",
    "- Данные по трафику более интересны половина клиентов из выборки превышает пакет Мб из тарифа, данные клиенты приносят значительный объем дополнительного дохода.\n",
    "\n",
    "Можно сделать вывовды что клиенты на тарифах смарт принросят больше дополнительного дохожда за счет продажи дополнительных пакетов.\n",
    "\n",
    "---"
   ]
  },
  {
   "cell_type": "markdown",
   "metadata": {},
   "source": [
    "### Шаг 4. Проверка гипотез"
   ]
  },
  {
   "cell_type": "code",
   "execution_count": 177,
   "metadata": {},
   "outputs": [],
   "source": [
    "# функция для добавления столба с категорией города\n",
    "def city_cat_ult(data_ult_fin):\n",
    "    if data_ult_fin['city'] == 'Москва':\n",
    "        return 'Москва'\n",
    "    if data_ult_fin['city'] != 'Москва':\n",
    "        return 'Другой регион'\n",
    "    \n",
    "def city_cat_smt(data_smt_fin):\n",
    "    if data_smt_fin['city'] == 'Москва':\n",
    "        return 'Москва'\n",
    "    if data_smt_fin['city'] != 'Москва':\n",
    "        return 'Другой регион'"
   ]
  },
  {
   "cell_type": "code",
   "execution_count": 178,
   "metadata": {},
   "outputs": [],
   "source": [
    "# применим функции и добавим столбец с категорией города в таблицы\n",
    "data_ult_fin = data_ultra.merge(data_users, on='user_id')\n",
    "data_ult_fin['city_category'] = data_ult_fin.apply(city_cat_ult, axis=1)\n",
    "\n",
    "data_smt_fin = data_smart.merge(data_users, on='user_id')\n",
    "data_smt_fin['city_category'] = data_smt_fin.apply(city_cat_smt, axis=1)\n"
   ]
  },
  {
   "cell_type": "code",
   "execution_count": 179,
   "metadata": {},
   "outputs": [
    {
     "name": "stdout",
     "output_type": "stream",
     "text": [
      "Средня выручка по тарифу Смарт: 1291.108059432688\n",
      "Средня выручка по тарифу Ультра: 2071.4889123548046\n"
     ]
    }
   ],
   "source": [
    "# расчет средей выручки по тарифам\n",
    "mean_total_income_smart = data_smt_fin['total_income'].mean()\n",
    "print('Средня выручка по тарифу Смарт:', mean_total_income_smart)\n",
    "\n",
    "mean_total_income_ultra = data_ult_fin['total_income'].mean()\n",
    "print('Средня выручка по тарифу Ультра:', mean_total_income_ultra)"
   ]
  },
  {
   "cell_type": "code",
   "execution_count": 180,
   "metadata": {},
   "outputs": [
    {
     "name": "stdout",
     "output_type": "stream",
     "text": [
      "Средня выручка по пользователям в Москве: 1546.0524590163934\n",
      "Средня выручка по пользователям в других регионах: 1519.217748240813\n"
     ]
    }
   ],
   "source": [
    "total_income = final_pivot.merge(data_users, on='user_id')\n",
    "total_income['city_category'] = total_income.apply(city_cat_smt, axis=1)\n",
    "\n",
    "total_income_moskow = total_income.query('city_category == \"Москва\"')\n",
    "mean_total_income_moskow = total_income_moskow['total_income'].mean()\n",
    "print('Средня выручка по пользователям в Москве:', mean_total_income_moskow)\n",
    "\n",
    "total_income_um_moskow = total_income.query('city_category != \"Москва\"')\n",
    "mean_total_income__um_moskow = total_income_um_moskow['total_income'].mean()\n",
    "print('Средня выручка по пользователям в других регионах:', mean_total_income__um_moskow)"
   ]
  },
  {
   "cell_type": "markdown",
   "metadata": {},
   "source": [
    "### Гипотеза о равенсве средних по городам\n",
    "\n",
    "Данные представлены 2 выборками сформируе гипотезу о равенсве средних по выручке в зависисмости от населенного пункта.\n",
    "Уровень значимости возьмем на уровне 5%\n",
    "\n",
    "- Н0: средняя выручка пользователей из Москвы не отличается от выручки пользователей из других регионов \n",
    "- Н1: отличаются"
   ]
  },
  {
   "cell_type": "code",
   "execution_count": 187,
   "metadata": {},
   "outputs": [
    {
     "name": "stdout",
     "output_type": "stream",
     "text": [
      "p-значение: 0.45718519583645034\n",
      "Не получилось отвергнуть нулевую гипотезу\n"
     ]
    }
   ],
   "source": [
    "# Проверка гипотезы средняя выручка пользователей из Москвы отличается от выручки пользователей из других регионов;\n",
    "alpha = .05\n",
    "\n",
    "results = st.ttest_ind(\n",
    "    total_income_moskow['total_income'], \n",
    "    total_income_um_moskow['total_income']\n",
    ")\n",
    "\n",
    "print('p-значение:', results.pvalue)\n",
    "if (results.pvalue < alpha):\n",
    "    print(\"Отвергаем нулевую гипотезу\")\n",
    "else:\n",
    "    print(\"Не получилось отвергнуть нулевую гипотезу\")"
   ]
  },
  {
   "cell_type": "markdown",
   "metadata": {},
   "source": [
    "Не получилось отвергнуть нулевую гипотезу от сюда можно сделать вывод, что доход по тарифам не отличается в зависимости от региона."
   ]
  },
  {
   "cell_type": "markdown",
   "metadata": {},
   "source": [
    "### Гипотеза о равенсве средних по тарифам\n",
    "\n",
    "Данные представлены 2 выборками сформируе гипотезу о равенсве средних по выручке в зависисмости от Тарифа.\n",
    "Уровень значимости возьмем на уровне 5%\n",
    "\n",
    "- Н0: средняя выручка пользователей тарифов «Ультра» и «Смарт» равна.\n",
    "- Н1: отличаются"
   ]
  },
  {
   "cell_type": "code",
   "execution_count": 182,
   "metadata": {},
   "outputs": [
    {
     "name": "stdout",
     "output_type": "stream",
     "text": [
      "p-значение: 8.145017201938894e-155\n",
      "Отвергаем нулевую гипотезу\n"
     ]
    }
   ],
   "source": [
    "# Проверка гипотезы средняя выручка пользователей тарифов «Ультра» и «Смарт» различается;\n",
    "alpha = .05\n",
    "\n",
    "results = st.ttest_ind(\n",
    "    data_smt_fin['total_income'], \n",
    "    data_ult_fin['total_income']\n",
    ")\n",
    "\n",
    "print('p-значение:', results.pvalue)\n",
    "if (results.pvalue < alpha):\n",
    "    print(\"Отвергаем нулевую гипотезу\")\n",
    "else:\n",
    "    print(\"Не получилось отвергнуть нулевую гипотезу\")"
   ]
  },
  {
   "cell_type": "markdown",
   "metadata": {},
   "source": [
    "Отвергаем нулевую гипотезу поскольку разница очень большая.\n",
    "Можно сделать вывод, что доход по тарифам отличается, Что ожмдаемо так как базовая стоимость по тарифцу Ультра 3,5 раза дороже Смарта. "
   ]
  },
  {
   "cell_type": "markdown",
   "metadata": {},
   "source": [
    "---\n",
    "### Вывод:"
   ]
  },
  {
   "cell_type": "markdown",
   "metadata": {},
   "source": [
    "На данном этапе подготовили данные для проверки 2 гипотез.\n",
    "\n",
    "#### Гипотеза о равенсве средних по городам\n",
    "Не получилось отвергнуть нулевую гипотезу от сюда можно сделать вывод, что доход по тарифам не отличается в зависимости от региона.\n",
    "\n",
    "#### Гипотеза о равенсве средних по тарифам\n",
    "Отвергаем нулевую гипотезу поскольку разница очень большая. Можно сделать вывод, что доход по тарифам отличается, Что ожмдаемо так как базовая стоимость по тарифцу Ультра 3,5 раза дороже Смарта.\n",
    "\n",
    "От сюда можно сделать вывод, что поведение клиента отличается только в рамках параметра своего тарифа\n",
    "\n",
    "---"
   ]
  },
  {
   "cell_type": "markdown",
   "metadata": {},
   "source": [
    "### Шаг 5. Общий вывод"
   ]
  },
  {
   "cell_type": "markdown",
   "metadata": {},
   "source": [
    "Из имеющихся данных сложно сделать выводы какой тариф лучше.\n",
    "\n",
    "Для мобильного оператора лучше Ультра так как приносит больше дохода, но для клиентов на тарифе Смарта значительно больше. При этом они приносят больше дохода чем базовая стоимость тарифа, за счет дополнительных пакетов услуг.\n",
    "\n",
    "Средняя выручка по тарифу Смарта 1291, что меньше чем стоимость тарифа Ультра даже с учетом дополнительныз пактов услуг.\n",
    "От сюда можно сделать вывод, что клиентам выходнее пользоваться Смартом так как даже если превывать выделенные пакеты по тарифу, то они всё-равно будут платить меньше чем на Ультра.\n",
    "\n",
    "Операторы выгодно продавать Ультра, так как они продают сразу 3 000 минут и 1 000 СМС которые клиентры не расходуют.\n"
   ]
  },
  {
   "cell_type": "markdown",
   "metadata": {},
   "source": [
    "### Чек-лист готовности проекта\n",
    "\n",
    "Поставьте 'x' в выполненных пунктах. Далее нажмите Shift+Enter."
   ]
  },
  {
   "cell_type": "markdown",
   "metadata": {},
   "source": [
    "- [x] открыт файл\n",
    "- [x] файлы изучены (выведены первые строки, метод info())\n",
    "- [x] Приведите данные к нужным типам\n",
    "- [x] Найдите и исправьте ошибки в данных\n",
    "- [x] количество сделанных звонков и израсходованных минут разговора по месяцам;\n",
    "- [x] количество отправленных сообщений по месяцам;\n",
    "- [x] объем израсходованного интернет-трафика по месяцам;\n",
    "- [x] помесячную выручку с каждого пользователя (вычтите бесплатный лимит из суммарного количества звонков, сообщений и интернет-трафика; остаток умножьте на значение из тарифного плана; прибавьте абонентскую плату, соответствующую тарифному плану).\n",
    "- [x] Опишите поведение клиентов оператора, исходя из выборки. Сколько минут разговора, сколько сообщений и какой объём интернет-трафика требуется пользователям каждого тарифа в месяц? Посчитайте среднее количество, дисперсию и стандартное отклонение. Постройте гистограммы. Опишите распределения.\n",
    "- [x] средняя выручка пользователей тарифов «Ультра» и «Смарт» различается;\n",
    "- [x] средняя выручка пользователей из Москвы отличается от выручки пользователей из других регионов;\n",
    "- [x] общие выводы"
   ]
  }
 ],
 "metadata": {
  "kernelspec": {
   "display_name": "Python 3 (ipykernel)",
   "language": "python",
   "name": "python3"
  },
  "language_info": {
   "codemirror_mode": {
    "name": "ipython",
    "version": 3
   },
   "file_extension": ".py",
   "mimetype": "text/x-python",
   "name": "python",
   "nbconvert_exporter": "python",
   "pygments_lexer": "ipython3",
   "version": "3.8.11"
  }
 },
 "nbformat": 4,
 "nbformat_minor": 2
}
