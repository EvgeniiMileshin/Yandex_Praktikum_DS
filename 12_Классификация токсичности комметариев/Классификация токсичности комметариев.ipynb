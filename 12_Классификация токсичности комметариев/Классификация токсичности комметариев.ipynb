{
 "cells": [
  {
   "cell_type": "markdown",
   "metadata": {},
   "source": [
    "# Классификация токсичности комметариев"
   ]
  },
  {
   "cell_type": "markdown",
   "metadata": {},
   "source": [
    "Интернет-магазин «Викишоп» запускает новый сервис. Теперь пользователи могут редактировать и дополнять описания товаров, как в вики-сообществах. То есть клиенты предлагают свои правки и комментируют изменения других. Магазину нужен инструмент, который будет искать токсичные комментарии и отправлять их на модерацию. \n",
    "\n",
    "Обучите модель классифицировать комментарии на позитивные и негативные. В вашем распоряжении набор данных с разметкой о токсичности правок.\n",
    "\n",
    "Постройте модель со значением метрики качества *F1* не меньше 0.75. \n",
    "\n",
    "### Инструкция по выполнению проекта\n",
    "\n",
    "1. Загрузите и подготовьте данные.\n",
    "2. Обучите разные модели. \n",
    "3. Сделайте выводы.\n",
    "\n",
    "Для выполнения проекта применять *BERT* необязательно, но вы можете попробовать.\n",
    "\n",
    "### Описание данных\n",
    "\n",
    "Данные находятся в файле `toxic_comments.csv`. Столбец *text* в нём содержит текст комментария, а *toxic* — целевой признак."
   ]
  },
  {
   "cell_type": "markdown",
   "metadata": {},
   "source": [
    "# 1. Подготовка"
   ]
  },
  {
   "cell_type": "code",
   "execution_count": 1,
   "metadata": {},
   "outputs": [],
   "source": [
    "# импорт библиотек\n",
    "import pandas as pd\n",
    "import numpy as np\n",
    "import seaborn as sns\n",
    "import matplotlib.pyplot as plt\n",
    "from IPython.display import display\n",
    "import torch\n",
    "import transformers\n",
    "from tqdm import notebook\n",
    "from tqdm import tqdm\n",
    "\n",
    "import nltk\n",
    "import re\n",
    "from nltk.stem import WordNetLemmatizer\n",
    "\n",
    "\n",
    "from sklearn.model_selection import train_test_split\n",
    "from sklearn.model_selection import cross_val_score, KFold, GridSearchCV\n",
    "\n",
    "# модель\n",
    "from sklearn.ensemble import RandomForestClassifier\n",
    "from sklearn.linear_model import LogisticRegression\n",
    "from catboost import CatBoostClassifier\n",
    "from sklearn.tree import DecisionTreeClassifier\n",
    "\n",
    "# метрика\n",
    "from sklearn.model_selection import cross_val_score\n",
    "from sklearn.metrics import f1_score"
   ]
  },
  {
   "cell_type": "code",
   "execution_count": 2,
   "metadata": {},
   "outputs": [
    {
     "data": {
      "text/html": [
       "<div>\n",
       "<style scoped>\n",
       "    .dataframe tbody tr th:only-of-type {\n",
       "        vertical-align: middle;\n",
       "    }\n",
       "\n",
       "    .dataframe tbody tr th {\n",
       "        vertical-align: top;\n",
       "    }\n",
       "\n",
       "    .dataframe thead th {\n",
       "        text-align: right;\n",
       "    }\n",
       "</style>\n",
       "<table border=\"1\" class=\"dataframe\">\n",
       "  <thead>\n",
       "    <tr style=\"text-align: right;\">\n",
       "      <th></th>\n",
       "      <th>text</th>\n",
       "      <th>toxic</th>\n",
       "    </tr>\n",
       "  </thead>\n",
       "  <tbody>\n",
       "    <tr>\n",
       "      <td>0</td>\n",
       "      <td>we could technically spin off some of the info...</td>\n",
       "      <td>0</td>\n",
       "    </tr>\n",
       "    <tr>\n",
       "      <td>1</td>\n",
       "      <td>i am very sorry but i will not be blocked for ...</td>\n",
       "      <td>0</td>\n",
       "    </tr>\n",
       "    <tr>\n",
       "      <td>2</td>\n",
       "      <td>\"\\n\\nwow. a pre-emptive attack on an article i...</td>\n",
       "      <td>0</td>\n",
       "    </tr>\n",
       "    <tr>\n",
       "      <td>3</td>\n",
       "      <td>for your information, the administrator antand...</td>\n",
       "      <td>0</td>\n",
       "    </tr>\n",
       "    <tr>\n",
       "      <td>4</td>\n",
       "      <td>full citation\\n\\ni have deleted the following ...</td>\n",
       "      <td>0</td>\n",
       "    </tr>\n",
       "  </tbody>\n",
       "</table>\n",
       "</div>"
      ],
      "text/plain": [
       "                                                text  toxic\n",
       "0  we could technically spin off some of the info...      0\n",
       "1  i am very sorry but i will not be blocked for ...      0\n",
       "2  \"\\n\\nwow. a pre-emptive attack on an article i...      0\n",
       "3  for your information, the administrator antand...      0\n",
       "4  full citation\\n\\ni have deleted the following ...      0"
      ]
     },
     "execution_count": 2,
     "metadata": {},
     "output_type": "execute_result"
    }
   ],
   "source": [
    "# чтение файла и печать общей информации\n",
    "df_comments = pd.read_csv('/datasets/toxic_comments.csv')\n",
    "\n",
    "# приведем текст к нижнему регистру\n",
    "df_comments['text'] = df_comments['text'].str.lower()\n",
    "\n",
    "#Уменьшим выборку \n",
    "df_comments = df_comments.sample(frac=0.6).reset_index(drop=True)\n",
    "\n",
    "df_comments.head()"
   ]
  },
  {
   "cell_type": "code",
   "execution_count": 3,
   "metadata": {},
   "outputs": [
    {
     "data": {
      "text/plain": [
       "0    86001\n",
       "1     9742\n",
       "Name: toxic, dtype: int64"
      ]
     },
     "execution_count": 3,
     "metadata": {},
     "output_type": "execute_result"
    }
   ],
   "source": [
    "# проверка сбалансированности\n",
    "m = df_comments['toxic'].value_counts() \n",
    "m"
   ]
  },
  {
   "cell_type": "markdown",
   "metadata": {},
   "source": [
    "Наблюдается ярко выраженный дисбаланс классов."
   ]
  },
  {
   "cell_type": "code",
   "execution_count": 4,
   "metadata": {},
   "outputs": [
    {
     "data": {
      "text/plain": [
       "1    9742\n",
       "0    9742\n",
       "Name: toxic, dtype: int64"
      ]
     },
     "execution_count": 4,
     "metadata": {},
     "output_type": "execute_result"
    }
   ],
   "source": [
    "# формула для уменьшения выборки\n",
    "from sklearn.utils import resample\n",
    "\n",
    "df_majority = df_comments[df_comments['toxic'] == 0]\n",
    "df_minority = df_comments[df_comments['toxic'] == 1]\n",
    "\n",
    "df_majority_downsampled  = resample(df_majority,\n",
    "                                    replace=False,\n",
    "                                    n_samples=m[1],\n",
    "                                    random_state=123)\n",
    "\n",
    "df_downsampled = pd.concat([df_majority_downsampled, df_minority])\n",
    "df_downsampled['toxic'].value_counts() "
   ]
  },
  {
   "cell_type": "markdown",
   "metadata": {},
   "source": [
    "Данные сбалансированны"
   ]
  },
  {
   "cell_type": "code",
   "execution_count": 5,
   "metadata": {},
   "outputs": [
    {
     "name": "stderr",
     "output_type": "stream",
     "text": [
      "/opt/conda/lib/python3.7/site-packages/tqdm/std.py:658: FutureWarning: The Panel class is removed from pandas. Accessing it from the top-level namespace will also be removed in the next version\n",
      "  from pandas import Panel\n",
      "100%|██████████| 19484/19484 [00:31<00:00, 622.83it/s]\n"
     ]
    }
   ],
   "source": [
    "lemmatizer = WordNetLemmatizer()\n",
    "tqdm.pandas()\n",
    "\n",
    "# напишем функцию для лемматизации и очистки текста\n",
    "def lemm_clear_text(text):\n",
    "    word_list = nltk.word_tokenize(text) # разбиваем входной текст на токены(слова)\n",
    "    lemm_text = ' '.join([lemmatizer.lemmatize(w) for w in word_list]) # лемматизируем каждое слово и объединяем в строку\n",
    "    clear_list = re.sub(r'[^A-Za-z]', ' ', lemm_text) #оставляем только латинские символы\n",
    "    return \" \".join(clear_list.split()) #функция возвращает очищенный и лемматизированный текст в виде строки\n",
    " \n",
    "# применим функцию к нашим комментариям и создадим столбец, хранящий лемматизированные предложения\n",
    "df_downsampled['lemm_text'] = df_downsampled['text'].progress_apply(lambda x: lemm_clear_text(x))    "
   ]
  },
  {
   "cell_type": "code",
   "execution_count": 6,
   "metadata": {},
   "outputs": [
    {
     "data": {
      "text/plain": [
       "text         0\n",
       "toxic        0\n",
       "lemm_text    0\n",
       "dtype: int64"
      ]
     },
     "execution_count": 6,
     "metadata": {},
     "output_type": "execute_result"
    }
   ],
   "source": [
    "# проверим на пропуски\n",
    "df_downsampled.isnull().sum()"
   ]
  },
  {
   "cell_type": "code",
   "execution_count": 7,
   "metadata": {},
   "outputs": [],
   "source": [
    "# получим корпус сбалансированных данных \n",
    "corpus_downsampled = df_downsampled['lemm_text'].values.astype('U')\n",
    "target_downsampled = df_downsampled['toxic']"
   ]
  },
  {
   "cell_type": "code",
   "execution_count": 8,
   "metadata": {},
   "outputs": [],
   "source": [
    "# удалим ненужную и тяжелую переменную\n",
    "del df_majority\n",
    "del df_minority\n",
    "del df_majority_downsampled\n",
    "del df_downsampled\n",
    "del df_comments\n",
    "\n"
   ]
  },
  {
   "cell_type": "code",
   "execution_count": 9,
   "metadata": {},
   "outputs": [
    {
     "name": "stderr",
     "output_type": "stream",
     "text": [
      "[nltk_data] Downloading package stopwords to /home/jovyan/nltk_data...\n",
      "[nltk_data]   Package stopwords is already up-to-date!\n"
     ]
    }
   ],
   "source": [
    "# разделим данные на тестовую и обучающую выборки\n",
    "corpus_train, corpus_test, target_train, target_test = train_test_split(corpus_downsampled,\n",
    "                                                                        target_downsampled,\n",
    "                                                                        test_size=0.2,\n",
    "                                                                        random_state=42)\n",
    " \n",
    "# создадим признаки для моделей с момощью TF-IDF\n",
    "from sklearn.feature_extraction.text import TfidfVectorizer\n",
    "from nltk.corpus import stopwords as nltk_stopwords\n",
    "\n",
    "\n",
    "nltk.download('stopwords')\n",
    "stopwords = set(nltk_stopwords.words('english'))\n",
    "\n",
    "count_tf_idf = TfidfVectorizer(min_df=2, stop_words=stopwords)\n",
    "count_tf_idf.fit(corpus_train)\n",
    " \n",
    "features_train = count_tf_idf.fit_transform(corpus_train).toarray()\n",
    "features_test = count_tf_idf.transform(corpus_test).toarray()"
   ]
  },
  {
   "cell_type": "markdown",
   "metadata": {},
   "source": [
    "# 2. Обучение"
   ]
  },
  {
   "cell_type": "code",
   "execution_count": 10,
   "metadata": {},
   "outputs": [],
   "source": [
    "# создадим словарь для результатов тестирования\n",
    "test_score = {}"
   ]
  },
  {
   "cell_type": "markdown",
   "metadata": {},
   "source": [
    "## 2.1 LogisticRegression"
   ]
  },
  {
   "cell_type": "code",
   "execution_count": 11,
   "metadata": {},
   "outputs": [
    {
     "data": {
      "text/plain": [
       "0.9325813221406085"
      ]
     },
     "execution_count": 11,
     "metadata": {},
     "output_type": "execute_result"
    }
   ],
   "source": [
    "#\n",
    "model_lr = (LogisticRegression(solver='liblinear', \n",
    "                               random_state=42)\n",
    "            .fit(features_train, target_train)\n",
    "           )\n",
    "\n",
    "predictions = model_lr.predict(features_train)\n",
    "f1_train_lr = f1_score(target_train, predictions)\n",
    "f1_train_lr\n"
   ]
  },
  {
   "cell_type": "code",
   "execution_count": 12,
   "metadata": {},
   "outputs": [
    {
     "data": {
      "text/plain": [
       "0.8754998667022127"
      ]
     },
     "execution_count": 12,
     "metadata": {},
     "output_type": "execute_result"
    }
   ],
   "source": [
    "predictions_test = model_lr.predict(features_test)\n",
    "f1_test_lr = f1_score(target_test, predictions_test)\n",
    "f1_test_lr"
   ]
  },
  {
   "cell_type": "code",
   "execution_count": 13,
   "metadata": {},
   "outputs": [],
   "source": [
    "test_score['LogisticRegression'] = [f1_train_lr, f1_test_lr]"
   ]
  },
  {
   "cell_type": "markdown",
   "metadata": {},
   "source": [
    "## 2.2 CatBoostClassifier"
   ]
  },
  {
   "cell_type": "code",
   "execution_count": 14,
   "metadata": {},
   "outputs": [
    {
     "name": "stdout",
     "output_type": "stream",
     "text": [
      "Learning rate set to 0.106552\n",
      "0:\tlearn: 0.4466348\ttotal: 999ms\tremaining: 4m 58s\n",
      "50:\tlearn: 0.8241584\ttotal: 43.2s\tremaining: 3m 30s\n",
      "100:\tlearn: 0.8617486\ttotal: 1m 26s\tremaining: 2m 49s\n",
      "150:\tlearn: 0.8861654\ttotal: 2m 8s\tremaining: 2m 6s\n",
      "200:\tlearn: 0.9034464\ttotal: 2m 49s\tremaining: 1m 23s\n",
      "250:\tlearn: 0.9143555\ttotal: 3m 31s\tremaining: 41.3s\n",
      "299:\tlearn: 0.9235961\ttotal: 4m 11s\tremaining: 0us\n"
     ]
    },
    {
     "data": {
      "text/plain": [
       "0.9325813221406085"
      ]
     },
     "execution_count": 14,
     "metadata": {},
     "output_type": "execute_result"
    }
   ],
   "source": [
    "model_cat = CatBoostClassifier(loss_function= 'Logloss', \n",
    "                               iterations=300,\n",
    "                               eval_metric='F1',\n",
    "                               random_state=42)\n",
    "\n",
    "model_cat.fit(features_train, target_train, verbose=50)\n",
    "prediction = model_cat.predict(features_train)\n",
    "\n",
    "f1_train_cat = f1_score(target_train, predictions)\n",
    "f1_train_cat"
   ]
  },
  {
   "cell_type": "code",
   "execution_count": 15,
   "metadata": {},
   "outputs": [
    {
     "data": {
      "text/plain": [
       "0.8682766190998902"
      ]
     },
     "execution_count": 15,
     "metadata": {},
     "output_type": "execute_result"
    }
   ],
   "source": [
    "predictions_test = model_cat.predict(features_test)\n",
    "f1_test_cat = f1_score(target_test, predictions_test)\n",
    "f1_test_cat"
   ]
  },
  {
   "cell_type": "code",
   "execution_count": 16,
   "metadata": {},
   "outputs": [],
   "source": [
    "test_score['CatBoostClassifier'] = [f1_train_cat, f1_test_cat]"
   ]
  },
  {
   "cell_type": "markdown",
   "metadata": {},
   "source": [
    "## 2.3 SGDClassifier"
   ]
  },
  {
   "cell_type": "code",
   "execution_count": 17,
   "metadata": {},
   "outputs": [
    {
     "data": {
      "text/plain": [
       "0.9325813221406085"
      ]
     },
     "execution_count": 17,
     "metadata": {},
     "output_type": "execute_result"
    }
   ],
   "source": [
    "from sklearn.linear_model import SGDClassifier\n",
    "\n",
    "model_SGD = SGDClassifier(shuffle=True, random_state=42)\n",
    "model_SGD.fit(features_train, target_train)\n",
    "prediction = model_SGD.predict(features_train)\n",
    "f1_train_SGD = f1_score(target_train, predictions)\n",
    "f1_train_SGD"
   ]
  },
  {
   "cell_type": "code",
   "execution_count": 18,
   "metadata": {},
   "outputs": [
    {
     "data": {
      "text/plain": [
       "0.8760822510822511"
      ]
     },
     "execution_count": 18,
     "metadata": {},
     "output_type": "execute_result"
    }
   ],
   "source": [
    "predictions_test = model_SGD.predict(features_test)\n",
    "f1_test_SGD = f1_score(target_test, predictions_test)\n",
    "f1_test_SGD"
   ]
  },
  {
   "cell_type": "code",
   "execution_count": 19,
   "metadata": {},
   "outputs": [],
   "source": [
    "test_score['SGDClassifier'] = [f1_train_SGD, f1_test_SGD]"
   ]
  },
  {
   "cell_type": "code",
   "execution_count": 20,
   "metadata": {},
   "outputs": [
    {
     "data": {
      "text/html": [
       "<div>\n",
       "<style scoped>\n",
       "    .dataframe tbody tr th:only-of-type {\n",
       "        vertical-align: middle;\n",
       "    }\n",
       "\n",
       "    .dataframe tbody tr th {\n",
       "        vertical-align: top;\n",
       "    }\n",
       "\n",
       "    .dataframe thead th {\n",
       "        text-align: right;\n",
       "    }\n",
       "</style>\n",
       "<table border=\"1\" class=\"dataframe\">\n",
       "  <thead>\n",
       "    <tr style=\"text-align: right;\">\n",
       "      <th></th>\n",
       "      <th>F1_train</th>\n",
       "      <th>F1_test</th>\n",
       "    </tr>\n",
       "  </thead>\n",
       "  <tbody>\n",
       "    <tr>\n",
       "      <td>LogisticRegression</td>\n",
       "      <td>0.932581</td>\n",
       "      <td>0.875500</td>\n",
       "    </tr>\n",
       "    <tr>\n",
       "      <td>CatBoostClassifier</td>\n",
       "      <td>0.932581</td>\n",
       "      <td>0.868277</td>\n",
       "    </tr>\n",
       "    <tr>\n",
       "      <td>SGDClassifier</td>\n",
       "      <td>0.932581</td>\n",
       "      <td>0.876082</td>\n",
       "    </tr>\n",
       "  </tbody>\n",
       "</table>\n",
       "</div>"
      ],
      "text/plain": [
       "                    F1_train   F1_test\n",
       "LogisticRegression  0.932581  0.875500\n",
       "CatBoostClassifier  0.932581  0.868277\n",
       "SGDClassifier       0.932581  0.876082"
      ]
     },
     "metadata": {},
     "output_type": "display_data"
    },
    {
     "data": {
      "image/png": "[encoded data removed]",
      "text/plain": [
       "<Figure size 720x504 with 1 Axes>"
      ]
     },
     "metadata": {
      "needs_background": "light"
     },
     "output_type": "display_data"
    }
   ],
   "source": [
    "df_score = pd.DataFrame.from_dict(data=test_score, columns=['F1_train', 'F1_test'], orient='index')\n",
    "display(df_score)\n",
    "\n",
    "plt.figure(figsize=(10, 7))\n",
    "plt.subplot(111)\n",
    "df_score.plot(kind='bar', ax=plt.gca()).hlines(0.75, -1, 5,\n",
    "                                              color = 'r')\n",
    "plt.xlabel('Модель', fontsize=15)\n",
    "plt.ylabel('Качество метрики', fontsize=15)\n",
    "plt.title('Качестро моделей на различных выборках')\n",
    "\n",
    "plt.tight_layout()"
   ]
  },
  {
   "cell_type": "markdown",
   "metadata": {},
   "source": [
    "# 3. Выводы"
   ]
  },
  {
   "cell_type": "markdown",
   "metadata": {},
   "source": [
    "Сбалансировав исходные данные на выбранных моделях получилось достигнуть заданных параметров метрики качества.\n",
    "\n"
   ]
  },
  {
   "cell_type": "markdown",
   "metadata": {},
   "source": [
    "# Чек-лист проверки"
   ]
  },
  {
   "cell_type": "markdown",
   "metadata": {},
   "source": [
    "- [x]  Jupyter Notebook открыт\n",
    "- [x]  Весь код выполняется без ошибок\n",
    "- [x]  Ячейки с кодом расположены в порядке исполнения\n",
    "- [x]  Данные загружены и подготовлены\n",
    "- [x]  Модели обучены\n",
    "- [x]  Значение метрики *F1* не меньше 0.75\n",
    "- [x]  Выводы написаны"
   ]
  }
 ],
 "metadata": {
  "kernelspec": {
   "display_name": "Python 3 (ipykernel)",
   "language": "python",
   "name": "python3"
  },
  "language_info": {
   "codemirror_mode": {
    "name": "ipython",
    "version": 3
   },
   "file_extension": ".py",
   "mimetype": "text/x-python",
   "name": "python",
   "nbconvert_exporter": "python",
   "pygments_lexer": "ipython3",
   "version": "3.8.11"
  }
 },
 "nbformat": 4,
 "nbformat_minor": 2
}
