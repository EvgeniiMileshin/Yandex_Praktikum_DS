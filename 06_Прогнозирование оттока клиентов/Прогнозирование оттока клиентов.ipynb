{
 "cells": [
  {
   "cell_type": "markdown",
   "metadata": {},
   "source": [
    "# Отток клиентов."
   ]
  },
  {
   "cell_type": "markdown",
   "metadata": {},
   "source": [
    "Из «Бета-Банка» стали уходить клиенты. Каждый месяц. Немного, но заметно. Банковские маркетологи посчитали: сохранять текущих клиентов дешевле, чем привлекать новых.\n",
    "\n",
    "Нужно спрогнозировать, уйдёт клиент из банка в ближайшее время или нет. Вам предоставлены исторические данные о поведении клиентов и расторжении договоров с банком. \n",
    "\n",
    "Постройте модель с предельно большим значением *F1*-меры. Чтобы сдать проект успешно, нужно довести метрику до 0.59. Проверьте *F1*-меру на тестовой выборке самостоятельно.\n",
    "\n",
    "Дополнительно измеряйте *AUC-ROC*, сравнивайте её значение с *F1*-мерой.\n",
    "\n",
    "Источник данных: [https://www.kaggle.com/barelydedicated/bank-customer-churn-modeling](https://www.kaggle.com/barelydedicated/bank-customer-churn-modeling)"
   ]
  },
  {
   "cell_type": "markdown",
   "metadata": {},
   "source": [
    "# 1. Подготовка данных"
   ]
  },
  {
   "cell_type": "code",
   "execution_count": 2,
   "metadata": {},
   "outputs": [],
   "source": [
    "# импорт библиотек\n",
    "import pandas as pd\n",
    "import seaborn as sns\n",
    "import matplotlib.pyplot as plt\n",
    "\n",
    "# модели\n",
    "from sklearn.ensemble import RandomForestClassifier\n",
    "from sklearn.tree import DecisionTreeClassifier\n",
    "from sklearn.linear_model import LogisticRegression\n",
    "\n",
    "from sklearn.preprocessing import StandardScaler\n",
    "from sklearn.model_selection import cross_val_score\n",
    "from sklearn.model_selection import KFold\n",
    "from sklearn.metrics import f1_score\n",
    "from sklearn.model_selection import train_test_split\n",
    "from sklearn.preprocessing import OrdinalEncoder\n",
    "from sklearn.utils import shuffle\n",
    "from sklearn.model_selection import GridSearchCV\n",
    "from sklearn.dummy import DummyClassifier\n",
    "from sklearn.metrics import roc_auc_score\n",
    "pd.options.mode.chained_assignment = None"
   ]
  },
  {
   "cell_type": "code",
   "execution_count": 3,
   "metadata": {},
   "outputs": [
    {
     "name": "stdout",
     "output_type": "stream",
     "text": [
      "<class 'pandas.core.frame.DataFrame'>\n",
      "RangeIndex: 10000 entries, 0 to 9999\n",
      "Data columns (total 14 columns):\n",
      "RowNumber          10000 non-null int64\n",
      "CustomerId         10000 non-null int64\n",
      "Surname            10000 non-null object\n",
      "CreditScore        10000 non-null int64\n",
      "Geography          10000 non-null object\n",
      "Gender             10000 non-null object\n",
      "Age                10000 non-null int64\n",
      "Tenure             9091 non-null float64\n",
      "Balance            10000 non-null float64\n",
      "NumOfProducts      10000 non-null int64\n",
      "HasCrCard          10000 non-null int64\n",
      "IsActiveMember     10000 non-null int64\n",
      "EstimatedSalary    10000 non-null float64\n",
      "Exited             10000 non-null int64\n",
      "dtypes: float64(3), int64(8), object(3)\n",
      "memory usage: 1.1+ MB\n"
     ]
    }
   ],
   "source": [
    "# чтение файла и печать общей информации\n",
    "df = pd.read_csv('/datasets/Churn.csv')\n",
    "df.info()"
   ]
  },
  {
   "cell_type": "code",
   "execution_count": 4,
   "metadata": {},
   "outputs": [
    {
     "data": {
      "text/html": [
       "<div>\n",
       "<style scoped>\n",
       "    .dataframe tbody tr th:only-of-type {\n",
       "        vertical-align: middle;\n",
       "    }\n",
       "\n",
       "    .dataframe tbody tr th {\n",
       "        vertical-align: top;\n",
       "    }\n",
       "\n",
       "    .dataframe thead th {\n",
       "        text-align: right;\n",
       "    }\n",
       "</style>\n",
       "<table border=\"1\" class=\"dataframe\">\n",
       "  <thead>\n",
       "    <tr style=\"text-align: right;\">\n",
       "      <th></th>\n",
       "      <th>RowNumber</th>\n",
       "      <th>CustomerId</th>\n",
       "      <th>Surname</th>\n",
       "      <th>CreditScore</th>\n",
       "      <th>Geography</th>\n",
       "      <th>Gender</th>\n",
       "      <th>Age</th>\n",
       "      <th>Tenure</th>\n",
       "      <th>Balance</th>\n",
       "      <th>NumOfProducts</th>\n",
       "      <th>HasCrCard</th>\n",
       "      <th>IsActiveMember</th>\n",
       "      <th>EstimatedSalary</th>\n",
       "      <th>Exited</th>\n",
       "    </tr>\n",
       "  </thead>\n",
       "  <tbody>\n",
       "    <tr>\n",
       "      <td>0</td>\n",
       "      <td>1</td>\n",
       "      <td>15634602</td>\n",
       "      <td>Hargrave</td>\n",
       "      <td>619</td>\n",
       "      <td>France</td>\n",
       "      <td>Female</td>\n",
       "      <td>42</td>\n",
       "      <td>2.0</td>\n",
       "      <td>0.00</td>\n",
       "      <td>1</td>\n",
       "      <td>1</td>\n",
       "      <td>1</td>\n",
       "      <td>101348.88</td>\n",
       "      <td>1</td>\n",
       "    </tr>\n",
       "    <tr>\n",
       "      <td>1</td>\n",
       "      <td>2</td>\n",
       "      <td>15647311</td>\n",
       "      <td>Hill</td>\n",
       "      <td>608</td>\n",
       "      <td>Spain</td>\n",
       "      <td>Female</td>\n",
       "      <td>41</td>\n",
       "      <td>1.0</td>\n",
       "      <td>83807.86</td>\n",
       "      <td>1</td>\n",
       "      <td>0</td>\n",
       "      <td>1</td>\n",
       "      <td>112542.58</td>\n",
       "      <td>0</td>\n",
       "    </tr>\n",
       "    <tr>\n",
       "      <td>2</td>\n",
       "      <td>3</td>\n",
       "      <td>15619304</td>\n",
       "      <td>Onio</td>\n",
       "      <td>502</td>\n",
       "      <td>France</td>\n",
       "      <td>Female</td>\n",
       "      <td>42</td>\n",
       "      <td>8.0</td>\n",
       "      <td>159660.80</td>\n",
       "      <td>3</td>\n",
       "      <td>1</td>\n",
       "      <td>0</td>\n",
       "      <td>113931.57</td>\n",
       "      <td>1</td>\n",
       "    </tr>\n",
       "    <tr>\n",
       "      <td>3</td>\n",
       "      <td>4</td>\n",
       "      <td>15701354</td>\n",
       "      <td>Boni</td>\n",
       "      <td>699</td>\n",
       "      <td>France</td>\n",
       "      <td>Female</td>\n",
       "      <td>39</td>\n",
       "      <td>1.0</td>\n",
       "      <td>0.00</td>\n",
       "      <td>2</td>\n",
       "      <td>0</td>\n",
       "      <td>0</td>\n",
       "      <td>93826.63</td>\n",
       "      <td>0</td>\n",
       "    </tr>\n",
       "    <tr>\n",
       "      <td>4</td>\n",
       "      <td>5</td>\n",
       "      <td>15737888</td>\n",
       "      <td>Mitchell</td>\n",
       "      <td>850</td>\n",
       "      <td>Spain</td>\n",
       "      <td>Female</td>\n",
       "      <td>43</td>\n",
       "      <td>2.0</td>\n",
       "      <td>125510.82</td>\n",
       "      <td>1</td>\n",
       "      <td>1</td>\n",
       "      <td>1</td>\n",
       "      <td>79084.10</td>\n",
       "      <td>0</td>\n",
       "    </tr>\n",
       "  </tbody>\n",
       "</table>\n",
       "</div>"
      ],
      "text/plain": [
       "   RowNumber  CustomerId   Surname  CreditScore Geography  Gender  Age  \\\n",
       "0          1    15634602  Hargrave          619    France  Female   42   \n",
       "1          2    15647311      Hill          608     Spain  Female   41   \n",
       "2          3    15619304      Onio          502    France  Female   42   \n",
       "3          4    15701354      Boni          699    France  Female   39   \n",
       "4          5    15737888  Mitchell          850     Spain  Female   43   \n",
       "\n",
       "   Tenure    Balance  NumOfProducts  HasCrCard  IsActiveMember  \\\n",
       "0     2.0       0.00              1          1               1   \n",
       "1     1.0   83807.86              1          0               1   \n",
       "2     8.0  159660.80              3          1               0   \n",
       "3     1.0       0.00              2          0               0   \n",
       "4     2.0  125510.82              1          1               1   \n",
       "\n",
       "   EstimatedSalary  Exited  \n",
       "0        101348.88       1  \n",
       "1        112542.58       0  \n",
       "2        113931.57       1  \n",
       "3         93826.63       0  \n",
       "4         79084.10       0  "
      ]
     },
     "execution_count": 4,
     "metadata": {},
     "output_type": "execute_result"
    }
   ],
   "source": [
    "# получение первых 5 строк таблицы\n",
    "df.head(5)"
   ]
  },
  {
   "cell_type": "code",
   "execution_count": 5,
   "metadata": {},
   "outputs": [
    {
     "data": {
      "text/plain": [
       "RowNumber            0\n",
       "CustomerId           0\n",
       "Surname              0\n",
       "CreditScore          0\n",
       "Geography            0\n",
       "Gender               0\n",
       "Age                  0\n",
       "Tenure             909\n",
       "Balance              0\n",
       "NumOfProducts        0\n",
       "HasCrCard            0\n",
       "IsActiveMember       0\n",
       "EstimatedSalary      0\n",
       "Exited               0\n",
       "dtype: int64"
      ]
     },
     "execution_count": 5,
     "metadata": {},
     "output_type": "execute_result"
    }
   ],
   "source": [
    "df.isnull().sum()"
   ]
  },
  {
   "cell_type": "code",
   "execution_count": 6,
   "metadata": {},
   "outputs": [
    {
     "data": {
      "text/html": [
       "<div>\n",
       "<style scoped>\n",
       "    .dataframe tbody tr th:only-of-type {\n",
       "        vertical-align: middle;\n",
       "    }\n",
       "\n",
       "    .dataframe tbody tr th {\n",
       "        vertical-align: top;\n",
       "    }\n",
       "\n",
       "    .dataframe thead th {\n",
       "        text-align: right;\n",
       "    }\n",
       "</style>\n",
       "<table border=\"1\" class=\"dataframe\">\n",
       "  <thead>\n",
       "    <tr style=\"text-align: right;\">\n",
       "      <th></th>\n",
       "      <th>CreditScore</th>\n",
       "      <th>Age</th>\n",
       "      <th>Tenure</th>\n",
       "      <th>Balance</th>\n",
       "      <th>NumOfProducts</th>\n",
       "      <th>HasCrCard</th>\n",
       "      <th>IsActiveMember</th>\n",
       "      <th>EstimatedSalary</th>\n",
       "      <th>Exited</th>\n",
       "      <th>Geography_Germany</th>\n",
       "      <th>Geography_Spain</th>\n",
       "      <th>Gender_Male</th>\n",
       "    </tr>\n",
       "  </thead>\n",
       "  <tbody>\n",
       "    <tr>\n",
       "      <td>0</td>\n",
       "      <td>619</td>\n",
       "      <td>42</td>\n",
       "      <td>2</td>\n",
       "      <td>0.00</td>\n",
       "      <td>1</td>\n",
       "      <td>1</td>\n",
       "      <td>1</td>\n",
       "      <td>101348.88</td>\n",
       "      <td>1</td>\n",
       "      <td>0</td>\n",
       "      <td>0</td>\n",
       "      <td>0</td>\n",
       "    </tr>\n",
       "    <tr>\n",
       "      <td>1</td>\n",
       "      <td>608</td>\n",
       "      <td>41</td>\n",
       "      <td>1</td>\n",
       "      <td>83807.86</td>\n",
       "      <td>1</td>\n",
       "      <td>0</td>\n",
       "      <td>1</td>\n",
       "      <td>112542.58</td>\n",
       "      <td>0</td>\n",
       "      <td>0</td>\n",
       "      <td>1</td>\n",
       "      <td>0</td>\n",
       "    </tr>\n",
       "    <tr>\n",
       "      <td>2</td>\n",
       "      <td>502</td>\n",
       "      <td>42</td>\n",
       "      <td>8</td>\n",
       "      <td>159660.80</td>\n",
       "      <td>3</td>\n",
       "      <td>1</td>\n",
       "      <td>0</td>\n",
       "      <td>113931.57</td>\n",
       "      <td>1</td>\n",
       "      <td>0</td>\n",
       "      <td>0</td>\n",
       "      <td>0</td>\n",
       "    </tr>\n",
       "    <tr>\n",
       "      <td>3</td>\n",
       "      <td>699</td>\n",
       "      <td>39</td>\n",
       "      <td>1</td>\n",
       "      <td>0.00</td>\n",
       "      <td>2</td>\n",
       "      <td>0</td>\n",
       "      <td>0</td>\n",
       "      <td>93826.63</td>\n",
       "      <td>0</td>\n",
       "      <td>0</td>\n",
       "      <td>0</td>\n",
       "      <td>0</td>\n",
       "    </tr>\n",
       "    <tr>\n",
       "      <td>4</td>\n",
       "      <td>850</td>\n",
       "      <td>43</td>\n",
       "      <td>2</td>\n",
       "      <td>125510.82</td>\n",
       "      <td>1</td>\n",
       "      <td>1</td>\n",
       "      <td>1</td>\n",
       "      <td>79084.10</td>\n",
       "      <td>0</td>\n",
       "      <td>0</td>\n",
       "      <td>1</td>\n",
       "      <td>0</td>\n",
       "    </tr>\n",
       "  </tbody>\n",
       "</table>\n",
       "</div>"
      ],
      "text/plain": [
       "   CreditScore  Age  Tenure    Balance  NumOfProducts  HasCrCard  \\\n",
       "0          619   42       2       0.00              1          1   \n",
       "1          608   41       1   83807.86              1          0   \n",
       "2          502   42       8  159660.80              3          1   \n",
       "3          699   39       1       0.00              2          0   \n",
       "4          850   43       2  125510.82              1          1   \n",
       "\n",
       "   IsActiveMember  EstimatedSalary  Exited  Geography_Germany  \\\n",
       "0               1        101348.88       1                  0   \n",
       "1               1        112542.58       0                  0   \n",
       "2               0        113931.57       1                  0   \n",
       "3               0         93826.63       0                  0   \n",
       "4               1         79084.10       0                  0   \n",
       "\n",
       "   Geography_Spain  Gender_Male  \n",
       "0                0            0  \n",
       "1                1            0  \n",
       "2                0            0  \n",
       "3                0            0  \n",
       "4                1            0  "
      ]
     },
     "execution_count": 6,
     "metadata": {},
     "output_type": "execute_result"
    }
   ],
   "source": [
    "# в столбце 'Tenure' заменим пропуски на 0 так вероятнее всего пропуск свидетельствует о том, что недвижимости нет\n",
    "df['Tenure'] = df['Tenure'].fillna(0).astype('int')\n",
    "\n",
    "# фамилии клиентов и индекс строки в данных не столь важны их можно ужалить каждый клиент идентифицируется по CustomerId\n",
    "df = df.drop(['Surname', 'RowNumber', 'CustomerId'], axis=1)\n",
    "\n",
    "# кодирование данных\n",
    "data_ohe = pd.get_dummies(df, drop_first=True)\n",
    "data_ohe.head()"
   ]
  },
  {
   "cell_type": "code",
   "execution_count": 7,
   "metadata": {},
   "outputs": [
    {
     "data": {
      "text/plain": [
       "(10000, 12)"
      ]
     },
     "execution_count": 7,
     "metadata": {},
     "output_type": "execute_result"
    }
   ],
   "source": [
    "# разделение на 2 выборки (обучающая и валидационная)\n",
    "df_train, df_valid = train_test_split(data_ohe, test_size=0.1, random_state=12345)\n",
    "\n",
    "# размер таблицы\n",
    "data_ohe.shape"
   ]
  },
  {
   "cell_type": "code",
   "execution_count": 8,
   "metadata": {},
   "outputs": [
    {
     "name": "stdout",
     "output_type": "stream",
     "text": [
      "Кол-во строк в обучающей выборке: 9000\n",
      "Кол-во строк в валидационной выборке: 1000\n"
     ]
    }
   ],
   "source": [
    "print('Кол-во строк в обучающей выборке:', df_train.shape[0])\n",
    "print('Кол-во строк в валидационной выборке:', df_valid.shape[0])"
   ]
  },
  {
   "cell_type": "code",
   "execution_count": 9,
   "metadata": {
    "scrolled": true
   },
   "outputs": [
    {
     "name": "stdout",
     "output_type": "stream",
     "text": [
      "Кол-во строк в обучающей выборке: 8000\n",
      "Кол-во строк в валидационной выборке: 1000\n",
      "Кол-во строк в тестовой выборке: 1000\n"
     ]
    }
   ],
   "source": [
    "# добавил 3ю выборку для теста, того же размера, что и валидационная\n",
    "df_test_size = df_valid.shape[0] / df_train.shape[0]\n",
    "df_train, df_test = train_test_split(df_train, test_size=df_test_size, random_state=12345)\n",
    "\n",
    "print('Кол-во строк в обучающей выборке:', df_train.shape[0])\n",
    "print('Кол-во строк в валидационной выборке:', df_valid.shape[0])\n",
    "print('Кол-во строк в тестовой выборке:', df_test.shape[0])\n",
    "\n",
    "# разделение на обучающие признаки и целевые\n",
    "features_train = df_train.drop(['Exited'], axis=1)\n",
    "target_train = df_train['Exited']\n",
    "\n",
    "features_valid = df_valid.drop(['Exited'], axis=1)\n",
    "target_valid = df_valid['Exited']\n",
    "\n",
    "features_test = df_test.drop(['Exited'], axis=1)\n",
    "target_test = df_test['Exited']"
   ]
  },
  {
   "cell_type": "code",
   "execution_count": 10,
   "metadata": {},
   "outputs": [],
   "source": [
    "# масштабирование признаков\n",
    "numeric = ['CreditScore', 'Age', 'Tenure', 'Balance', 'NumOfProducts', 'HasCrCard', 'IsActiveMember', 'EstimatedSalary']\n",
    "\n",
    "scaler = StandardScaler()\n",
    "scaler.fit(features_train[numeric])\n",
    "features_train[numeric] = scaler.transform(features_train[numeric])\n",
    "features_valid[numeric] = scaler.transform(features_valid[numeric])\n",
    "features_test[numeric] = scaler.transform(features_test[numeric])"
   ]
  },
  {
   "cell_type": "markdown",
   "metadata": {},
   "source": [
    "----------\n",
    "## Вывод:\n",
    "\n",
    "На данном этапе я обработал пропуски, также, подготовил признаки и масштабировал цифровые признаки.\n",
    "    \n",
    "---------"
   ]
  },
  {
   "cell_type": "markdown",
   "metadata": {},
   "source": [
    "# 2. Исследование задачи"
   ]
  },
  {
   "cell_type": "code",
   "execution_count": 11,
   "metadata": {},
   "outputs": [
    {
     "data": {
      "text/plain": [
       "0    0.7963\n",
       "1    0.2037\n",
       "Name: Exited, dtype: float64"
      ]
     },
     "execution_count": 11,
     "metadata": {},
     "output_type": "execute_result"
    }
   ],
   "source": [
    "# проверка сбалансированности\n",
    "df['Exited'].value_counts(normalize= True) "
   ]
  },
  {
   "cell_type": "markdown",
   "metadata": {},
   "source": [
    "<font color='green'>Наблюдается дисбаланс. </font>\n"
   ]
  },
  {
   "cell_type": "markdown",
   "metadata": {},
   "source": [
    "###  LogisticRegression"
   ]
  },
  {
   "cell_type": "code",
   "execution_count": 12,
   "metadata": {},
   "outputs": [
    {
     "name": "stdout",
     "output_type": "stream",
     "text": [
      "F1: 0.28070175438596495\n",
      "AUC ROC: 0.768706445482062\n"
     ]
    }
   ],
   "source": [
    "# обучение модели и проверка на валидационной выбоки\n",
    "model_LogisticRegression = LogisticRegression(random_state=12345,\n",
    "                           solver='liblinear'\n",
    "                          )\n",
    "model_LogisticRegression.fit(features_train, target_train)\n",
    "predicted_valid = model_LogisticRegression.predict(features_valid)\n",
    "print(\"F1:\", f1_score(target_valid, predicted_valid))\n",
    "\n",
    "probabilities_valid = model_LogisticRegression.predict_proba(features_valid)\n",
    "probabilities_one_valid = probabilities_valid[:, 1]\n",
    "print(\"AUC ROC:\", roc_auc_score(target_valid, probabilities_one_valid))"
   ]
  },
  {
   "cell_type": "markdown",
   "metadata": {},
   "source": [
    "### DecisionTreeClassifier"
   ]
  },
  {
   "cell_type": "code",
   "execution_count": 13,
   "metadata": {},
   "outputs": [
    {
     "name": "stdout",
     "output_type": "stream",
     "text": [
      "F1: 0.4976958525345622\n",
      "AUC ROC: 0.678652713578451\n"
     ]
    }
   ],
   "source": [
    "# обучение модели и проверка на валидационной выбоки\n",
    "model_DecisionTree = DecisionTreeClassifier(random_state=12345)\n",
    "model_DecisionTree.fit(features_train, target_train)\n",
    "predicted_valid = model_DecisionTree.predict(features_valid)\n",
    "\n",
    "print(\"F1:\", f1_score(target_valid, predicted_valid))\n",
    "probabilities_valid = model_DecisionTree.predict_proba(features_valid)\n",
    "probabilities_one_valid = probabilities_valid[:, 1]\n",
    "print(\"AUC ROC:\", roc_auc_score(target_valid, probabilities_one_valid))"
   ]
  },
  {
   "cell_type": "code",
   "execution_count": 14,
   "metadata": {},
   "outputs": [],
   "source": [
    "# разбиение на подвыборки для кросс-валидации\n",
    "cv = KFold(n_splits=5, shuffle=True, random_state=12345)"
   ]
  },
  {
   "cell_type": "code",
   "execution_count": 22,
   "metadata": {},
   "outputs": [
    {
     "name": "stderr",
     "output_type": "stream",
     "text": [
      "/opt/conda/lib/python3.7/site-packages/sklearn/metrics/classification.py:1437: UndefinedMetricWarning: F-score is ill-defined and being set to 0.0 due to no predicted samples.\n",
      "  'precision', 'predicted', average, warn_for)\n",
      "/opt/conda/lib/python3.7/site-packages/sklearn/metrics/classification.py:1437: UndefinedMetricWarning: F-score is ill-defined and being set to 0.0 due to no predicted samples.\n",
      "  'precision', 'predicted', average, warn_for)\n",
      "/opt/conda/lib/python3.7/site-packages/sklearn/metrics/classification.py:1437: UndefinedMetricWarning: F-score is ill-defined and being set to 0.0 due to no predicted samples.\n",
      "  'precision', 'predicted', average, warn_for)\n",
      "/opt/conda/lib/python3.7/site-packages/sklearn/metrics/classification.py:1437: UndefinedMetricWarning: F-score is ill-defined and being set to 0.0 due to no predicted samples.\n",
      "  'precision', 'predicted', average, warn_for)\n",
      "/opt/conda/lib/python3.7/site-packages/sklearn/metrics/classification.py:1437: UndefinedMetricWarning: F-score is ill-defined and being set to 0.0 due to no predicted samples.\n",
      "  'precision', 'predicted', average, warn_for)\n"
     ]
    },
    {
     "data": {
      "text/plain": [
       "{'max_depth': 5}"
      ]
     },
     "execution_count": 22,
     "metadata": {},
     "output_type": "execute_result"
    }
   ],
   "source": [
    "# авоматизизированный перебор параметрров для проверки результата с помощью GridSearchCV\n",
    "parameters = {'max_depth': range(1, 50)}\n",
    "gs = GridSearchCV(DecisionTreeClassifier(random_state=12345), \n",
    "                  parameters,\n",
    "                  cv=cv,\n",
    "                  scoring='f1')\n",
    "\n",
    "# обучение\n",
    "gs.fit(features_train, target_train)\n",
    "# просмотр лучших параметров\n",
    "gs.best_params_"
   ]
  },
  {
   "cell_type": "code",
   "execution_count": 23,
   "metadata": {},
   "outputs": [
    {
     "data": {
      "text/plain": [
       "0.5791234846891512"
      ]
     },
     "execution_count": 23,
     "metadata": {},
     "output_type": "execute_result"
    }
   ],
   "source": [
    "# лучший результат\n",
    "gs.best_score_"
   ]
  },
  {
   "cell_type": "markdown",
   "metadata": {},
   "source": [
    "### RandomForestClassifier"
   ]
  },
  {
   "cell_type": "code",
   "execution_count": 15,
   "metadata": {},
   "outputs": [
    {
     "name": "stdout",
     "output_type": "stream",
     "text": [
      "F1: 0.5568181818181818\n",
      "AUC ROC: 0.8185727023158685\n"
     ]
    },
    {
     "name": "stderr",
     "output_type": "stream",
     "text": [
      "/opt/conda/lib/python3.7/site-packages/sklearn/ensemble/forest.py:245: FutureWarning: The default value of n_estimators will change from 10 in version 0.20 to 100 in 0.22.\n",
      "  \"10 in version 0.20 to 100 in 0.22.\", FutureWarning)\n"
     ]
    }
   ],
   "source": [
    "model_RandomForest = RandomForestClassifier(random_state=12345)\n",
    "model_RandomForest.fit(features_train, target_train)       \n",
    "predictions = model_RandomForest.predict(features_train)\n",
    "predicted_valid = model_RandomForest.predict(features_valid)\n",
    "print(\"F1:\", f1_score(target_valid, predicted_valid))\n",
    "\n",
    "probabilities_valid = model_RandomForest.predict_proba(features_valid)\n",
    "probabilities_one_valid = probabilities_valid[:, 1]\n",
    "print(\"AUC ROC:\", roc_auc_score(target_valid, probabilities_one_valid))"
   ]
  },
  {
   "cell_type": "code",
   "execution_count": 27,
   "metadata": {},
   "outputs": [
    {
     "data": {
      "text/plain": [
       "{'max_depth': 21, 'n_estimators': 37}"
      ]
     },
     "execution_count": 27,
     "metadata": {},
     "output_type": "execute_result"
    }
   ],
   "source": [
    "# авоматизизированный перебор параметрров для проверки результата с помощью GridSearchCV\n",
    "parameters = {'max_depth': [3, 4, 6, 10, 14, 21],\n",
    "             'n_estimators' : range(1, 50)\n",
    "             }\n",
    "\n",
    "gs = GridSearchCV(RandomForestClassifier(random_state=12345), \n",
    "                  parameters,\n",
    "                  cv=cv,\n",
    "                  scoring='f1')\n",
    "\n",
    "# обучение\n",
    "gs.fit(features_train, target_train)\n",
    "# просмотр лучших параметров\n",
    "gs.best_params_"
   ]
  },
  {
   "cell_type": "code",
   "execution_count": 28,
   "metadata": {},
   "outputs": [
    {
     "data": {
      "text/plain": [
       "0.5877472676854203"
      ]
     },
     "execution_count": 28,
     "metadata": {},
     "output_type": "execute_result"
    }
   ],
   "source": [
    "# лучший результат\n",
    "gs.best_score_"
   ]
  },
  {
   "cell_type": "markdown",
   "metadata": {},
   "source": [
    "----------\n",
    "## Вывод:\n",
    "\n",
    "Проверка баланса классов показал что есть большой дисбаланс классов, примерно в 4 раза.\n",
    "\n",
    "Также на даллном этапе проверил работу моделей.  На данном этапе не получилось достичь заданного значения f1.\n",
    "\n",
    "Сбалансируем данные и проверим работу моделей.\n",
    "    \n",
    "---------"
   ]
  },
  {
   "cell_type": "markdown",
   "metadata": {},
   "source": [
    "# 3. Борьба с дисбалансом"
   ]
  },
  {
   "cell_type": "code",
   "execution_count": 16,
   "metadata": {},
   "outputs": [
    {
     "name": "stdout",
     "output_type": "stream",
     "text": [
      "6387\n",
      "6452\n"
     ]
    }
   ],
   "source": [
    "# формула для увеличения выборки\n",
    "def upsample(features, target, repeat):\n",
    "    features_zeros = features[target == 0]\n",
    "    features_ones = features[target == 1]\n",
    "    target_zeros = target[target == 0]\n",
    "    target_ones = target[target == 1]\n",
    "\n",
    "    features_upsampled = pd.concat([features_zeros] + [features_ones] * repeat)\n",
    "    target_upsampled = pd.concat([target_zeros] + [target_ones] * repeat)\n",
    "    \n",
    "    features_upsampled, target_upsampled = shuffle(\n",
    "        features_upsampled, target_upsampled, random_state=12345)\n",
    "    \n",
    "    return features_upsampled, target_upsampled\n",
    "\n",
    "# увеличение обучающей выбоки\n",
    "features_upsampled, target_upsampled = upsample(features_train, target_train, 4)\n",
    "\n",
    "# проверка размера после upsample\n",
    "features_zeros = features_upsampled[target_upsampled == 0]\n",
    "features_ones = features_upsampled[target_upsampled == 1]\n",
    "target_zeros = features_upsampled[target_upsampled == 0]\n",
    "target_ones = features_upsampled[target_upsampled == 1]\n",
    "\n",
    "print(features_zeros.shape[0])\n",
    "print(features_ones.shape[0])"
   ]
  },
  {
   "cell_type": "code",
   "execution_count": 17,
   "metadata": {},
   "outputs": [
    {
     "name": "stdout",
     "output_type": "stream",
     "text": [
      "1597\n",
      "1613\n"
     ]
    }
   ],
   "source": [
    "# формула для увеличения выборки\n",
    "def downsample(features, target, fraction):\n",
    "    features_zeros = features[target == 0]\n",
    "    features_ones = features[target == 1]\n",
    "    target_zeros = target[target == 0]\n",
    "    target_ones = target[target == 1]\n",
    "    \n",
    "    features_downsampled = pd.concat([features_zeros.sample(frac=fraction, random_state=12345)] + [features_ones])\n",
    "    target_downsampled = pd.concat([target_zeros.sample(frac=fraction, random_state=12345)] + [target_ones])\n",
    "    \n",
    "    features_downsampled, target_downsampled = shuffle(\n",
    "        features_downsampled, target_downsampled, random_state=12345)\n",
    "    \n",
    "    return features_downsampled, target_downsampled\n",
    "\n",
    "# \n",
    "features_downsampled, target_downsampled = downsample(features_train, target_train, 0.25)\n",
    "\n",
    "# проверка размера после upsample\n",
    "features_zeros = features_downsampled[target_downsampled == 0]\n",
    "features_ones = features_downsampled[target_downsampled == 1]\n",
    "target_zeros = features_downsampled[target_downsampled == 0]\n",
    "target_ones = features_downsampled[target_downsampled == 1]\n",
    "\n",
    "print(features_zeros.shape[0])\n",
    "print(features_ones.shape[0])"
   ]
  },
  {
   "cell_type": "markdown",
   "metadata": {},
   "source": [
    "###  LogisticRegression"
   ]
  },
  {
   "cell_type": "code",
   "execution_count": 18,
   "metadata": {},
   "outputs": [
    {
     "name": "stdout",
     "output_type": "stream",
     "text": [
      "AUC ROC: 0.7742673455501068\n",
      "F1: 0.5183946488294314\n"
     ]
    }
   ],
   "source": [
    "# обучение модели и проверка на валидационной выбоки на сбалансированных данных\n",
    "model_LogisticRegression = LogisticRegression(random_state=12345,\n",
    "                           solver='liblinear'\n",
    "                          )\n",
    "model_LogisticRegression.fit(features_upsampled, target_upsampled)\n",
    "predicted_valid = model_LogisticRegression.predict(features_valid)\n",
    "\n",
    "probabilities_valid = model_LogisticRegression.predict_proba(features_valid)\n",
    "probabilities_one_valid = probabilities_valid[:, 1]\n",
    "print(\"AUC ROC:\", roc_auc_score(target_valid, probabilities_one_valid))\n",
    "print(\"F1:\", f1_score(target_valid, predicted_valid))\n"
   ]
  },
  {
   "cell_type": "code",
   "execution_count": 19,
   "metadata": {},
   "outputs": [
    {
     "name": "stdout",
     "output_type": "stream",
     "text": [
      "AUC ROC: 0.7728653886764121\n",
      "F1: 0.5033557046979865\n"
     ]
    }
   ],
   "source": [
    "model_LogisticRegression = LogisticRegression(random_state=12345,\n",
    "                           solver='liblinear'\n",
    "                          )\n",
    "model_LogisticRegression.fit(features_downsampled, target_downsampled)\n",
    "predicted_valid = model_LogisticRegression.predict(features_valid)\n",
    "\n",
    "probabilities_valid = model_LogisticRegression.predict_proba(features_valid)\n",
    "probabilities_one_valid = probabilities_valid[:, 1]\n",
    "print(\"AUC ROC:\", roc_auc_score(target_valid, probabilities_one_valid))\n",
    "print(\"F1:\", f1_score(target_valid, predicted_valid))"
   ]
  },
  {
   "cell_type": "markdown",
   "metadata": {},
   "source": [
    "На сбалансированных данных модель показывает результат лучше, продолжим обучение модели и подбор гипперпараметров на сбалансированных данных"
   ]
  },
  {
   "cell_type": "markdown",
   "metadata": {},
   "source": [
    "### DecisionTreeClassifier"
   ]
  },
  {
   "cell_type": "code",
   "execution_count": 20,
   "metadata": {},
   "outputs": [
    {
     "name": "stdout",
     "output_type": "stream",
     "text": [
      "AUC ROC: 0.678652713578451\n",
      "F1: 0.46698113207547165\n"
     ]
    }
   ],
   "source": [
    "# обучение модели и проверка на валидационной выбоки на сбалансированных данных\n",
    "model = DecisionTreeClassifier(random_state=12345)\n",
    "model.fit(features_upsampled, target_upsampled)\n",
    "predicted_valid = model.predict(features_valid)\n",
    "\n",
    "probabilities_valid = model_DecisionTree.predict_proba(features_valid)\n",
    "probabilities_one_valid = probabilities_valid[:, 1]\n",
    "print(\"AUC ROC:\", roc_auc_score(target_valid, probabilities_one_valid))\n",
    "print(\"F1:\", f1_score(target_valid, predicted_valid))"
   ]
  },
  {
   "cell_type": "code",
   "execution_count": 21,
   "metadata": {},
   "outputs": [
    {
     "name": "stdout",
     "output_type": "stream",
     "text": [
      "AUC ROC: 0.678652713578451\n",
      "F1: 0.5\n"
     ]
    }
   ],
   "source": [
    "# обучение модели и проверка на валидационной выбоки на сбалансированных данных\n",
    "model = DecisionTreeClassifier(random_state=12345)\n",
    "model.fit(features_downsampled, target_downsampled)\n",
    "predicted_valid = model.predict(features_valid)\n",
    "\n",
    "probabilities_valid = model_DecisionTree.predict_proba(features_valid)\n",
    "probabilities_one_valid = probabilities_valid[:, 1]\n",
    "print(\"AUC ROC:\", roc_auc_score(target_valid, probabilities_one_valid))\n",
    "print(\"F1:\", f1_score(target_valid, predicted_valid))"
   ]
  },
  {
   "cell_type": "markdown",
   "metadata": {},
   "source": [
    "На сбалансированных данных модель показывает результат лучше, продолжим обучение модели и подбор гипперпараметров на сбалансированных данных При этом на уменьшенной выборке качество лучше."
   ]
  },
  {
   "cell_type": "code",
   "execution_count": 24,
   "metadata": {},
   "outputs": [
    {
     "name": "stderr",
     "output_type": "stream",
     "text": [
      "/opt/conda/lib/python3.7/site-packages/sklearn/metrics/classification.py:1437: UndefinedMetricWarning: F-score is ill-defined and being set to 0.0 due to no predicted samples.\n",
      "  'precision', 'predicted', average, warn_for)\n",
      "/opt/conda/lib/python3.7/site-packages/sklearn/metrics/classification.py:1437: UndefinedMetricWarning: F-score is ill-defined and being set to 0.0 due to no predicted samples.\n",
      "  'precision', 'predicted', average, warn_for)\n",
      "/opt/conda/lib/python3.7/site-packages/sklearn/metrics/classification.py:1437: UndefinedMetricWarning: F-score is ill-defined and being set to 0.0 due to no predicted samples.\n",
      "  'precision', 'predicted', average, warn_for)\n",
      "/opt/conda/lib/python3.7/site-packages/sklearn/metrics/classification.py:1437: UndefinedMetricWarning: F-score is ill-defined and being set to 0.0 due to no predicted samples.\n",
      "  'precision', 'predicted', average, warn_for)\n",
      "/opt/conda/lib/python3.7/site-packages/sklearn/metrics/classification.py:1437: UndefinedMetricWarning: F-score is ill-defined and being set to 0.0 due to no predicted samples.\n",
      "  'precision', 'predicted', average, warn_for)\n"
     ]
    },
    {
     "name": "stdout",
     "output_type": "stream",
     "text": [
      "max_depth = 1 :\n",
      "Результат проверки на обучающей  выборке 0.4820143884892086\n",
      "Результат проверки на валидационной выборке 0.5201465201465202\n",
      "Результат проверки при кросс-валидации 0.0\n",
      "\n",
      "max_depth = 2 :\n",
      "Результат проверки на обучающей  выборке 0.51002331002331\n",
      "Результат проверки на валидационной выборке 0.5474060822898033\n",
      "Результат проверки при кросс-валидации 0.5118684289443258\n",
      "\n",
      "max_depth = 3 :\n",
      "Результат проверки на обучающей  выборке 0.51002331002331\n",
      "Результат проверки на валидационной выборке 0.5474060822898033\n",
      "Результат проверки при кросс-валидации 0.397999272897576\n",
      "\n",
      "max_depth = 4 :\n",
      "Результат проверки на обучающей  выборке 0.5482233502538071\n",
      "Результат проверки на валидационной выборке 0.6075949367088607\n",
      "Результат проверки при кросс-валидации 0.49932632097928165\n",
      "\n",
      "max_depth = 5 :\n",
      "Результат проверки на обучающей  выборке 0.5662360411648785\n",
      "Результат проверки на валидационной выборке 0.578397212543554\n",
      "Результат проверки при кросс-валидации 0.5791234846891512\n",
      "\n",
      "max_depth = 6 :\n",
      "Результат проверки на обучающей  выборке 0.5882884919737734\n",
      "Результат проверки на валидационной выборке 0.5985915492957746\n",
      "Результат проверки при кросс-валидации 0.5456403829094709\n",
      "\n",
      "max_depth = 7 :\n",
      "Результат проверки на обучающей  выборке 0.6030128489144883\n",
      "Результат проверки на валидационной выборке 0.58603066439523\n",
      "Результат проверки при кросс-валидации 0.5638165417023892\n",
      "\n",
      "max_depth = 8 :\n",
      "Результат проверки на обучающей  выборке 0.6478111165764879\n",
      "Результат проверки на валидационной выборке 0.5563909774436091\n",
      "Результат проверки при кросс-валидации 0.5591194776620121\n",
      "\n",
      "max_depth = 9 :\n",
      "Результат проверки на обучающей  выборке 0.6687804878048781\n",
      "Результат проверки на валидационной выборке 0.5521023765996343\n",
      "Результат проверки при кросс-валидации 0.5410801815718365\n",
      "\n",
      "max_depth = 10 :\n",
      "Результат проверки на обучающей  выборке 0.7050575863795694\n",
      "Результат проверки на валидационной выборке 0.5377532228360958\n",
      "Результат проверки при кросс-валидации 0.5412462279196696\n",
      "\n",
      "max_depth = 11 :\n",
      "Результат проверки на обучающей  выборке 0.73894364417488\n",
      "Результат проверки на валидационной выборке 0.5307692307692308\n",
      "Результат проверки при кросс-валидации 0.5327926387814841\n",
      "\n",
      "max_depth = 12 :\n",
      "Результат проверки на обучающей  выборке 0.7794079794079793\n",
      "Результат проверки на валидационной выборке 0.49508840864440073\n",
      "Результат проверки при кросс-валидации 0.5293927914661752\n",
      "\n",
      "max_depth = 13 :\n",
      "Результат проверки на обучающей  выборке 0.8364728364728365\n",
      "Результат проверки на валидационной выборке 0.5020408163265306\n",
      "Результат проверки при кросс-валидации 0.5279118662351754\n",
      "\n",
      "max_depth = 14 :\n",
      "Результат проверки на обучающей  выборке 0.867914144193726\n",
      "Результат проверки на валидационной выборке 0.5041666666666668\n",
      "Результат проверки при кросс-валидации 0.5103353630262972\n",
      "\n",
      "max_depth = 15 :\n",
      "Результат проверки на обучающей  выборке 0.9085173501577288\n",
      "Результат проверки на валидационной выборке 0.47264770240700227\n",
      "Результат проверки при кросс-валидации 0.5101161055550634\n",
      "\n",
      "max_depth = 16 :\n",
      "Результат проверки на обучающей  выборке 0.9371496016524048\n",
      "Результат проверки на валидационной выборке 0.47085201793721976\n",
      "Результат проверки при кросс-валидации 0.5033653093861262\n",
      "\n",
      "max_depth = 17 :\n",
      "Результат проверки на обучающей  выборке 0.9554825216611892\n",
      "Результат проверки на валидационной выборке 0.46712018140589573\n",
      "Результат проверки при кросс-валидации 0.5072464082657779\n",
      "\n",
      "max_depth = 18 :\n",
      "Результат проверки на обучающей  выборке 0.9665964489918748\n",
      "Результат проверки на валидационной выборке 0.4646924829157176\n",
      "Результат проверки при кросс-валидации 0.4973846195116737\n",
      "\n",
      "max_depth = 19 :\n",
      "Результат проверки на обучающей  выборке 0.9832061068702289\n",
      "Результат проверки на валидационной выборке 0.47139588100686497\n",
      "Результат проверки при кросс-валидации 0.5032329319774574\n",
      "\n",
      "max_depth = 20 :\n",
      "Результат проверки на обучающей  выборке 0.9898617511520738\n",
      "Результат проверки на валидационной выборке 0.4622641509433963\n",
      "Результат проверки при кросс-валидации 0.5032534333832587\n",
      "\n",
      "max_depth = 21 :\n",
      "Результат проверки на обучающей  выборке 0.9959839357429718\n",
      "Результат проверки на валидационной выборке 0.459016393442623\n",
      "Результат проверки при кросс-валидации 0.4991777805087903\n",
      "\n",
      "max_depth = 22 :\n",
      "Результат проверки на обучающей  выборке 0.9981435643564356\n",
      "Результат проверки на валидационной выборке 0.45647058823529413\n",
      "Результат проверки при кросс-валидации 0.5018711472939612\n",
      "\n",
      "max_depth = 23 :\n",
      "Результат проверки на обучающей  выборке 0.9993804213135068\n",
      "Результат проверки на валидационной выборке 0.4813084112149532\n",
      "Результат проверки при кросс-валидации 0.5016350457844319\n",
      "\n",
      "max_depth = 24 :\n",
      "Результат проверки на обучающей  выборке 0.9996901146575767\n",
      "Результат проверки на валидационной выборке 0.47887323943661975\n",
      "Результат проверки при кросс-валидации 0.5032656537135829\n",
      "\n"
     ]
    }
   ],
   "source": [
    "# проведем перебор параметров и обучение модели с помледующей проверкой результатов\n",
    "for depth in range(1, 25):\n",
    "    model_DecisionTree = DecisionTreeClassifier(random_state=12345, max_depth=depth)\n",
    "    model_DecisionTree.fit(features_upsampled, target_upsampled)\n",
    "    predictions = model_DecisionTree.predict(features_train)\n",
    "    scores = cross_val_score(model_DecisionTree, features_train, target_train, cv=cv, scoring='f1').mean()   \n",
    "    print(\"max_depth =\", depth, \":\")\n",
    "    print(\"Результат проверки на обучающей  выборке\", f1_score(target_train, predictions))\n",
    "    predictions = model_DecisionTree.predict(features_valid)\n",
    "    print(\"Результат проверки на валидационной выборке\", f1_score(target_valid, predictions))\n",
    "    print(\"Результат проверки при кросс-валидации\", scores)\n",
    "    print()"
   ]
  },
  {
   "cell_type": "code",
   "execution_count": 25,
   "metadata": {},
   "outputs": [
    {
     "name": "stdout",
     "output_type": "stream",
     "text": [
      "AUC ROC: 0.8388453506651962\n",
      "F1: 0.5985915492957746\n"
     ]
    }
   ],
   "source": [
    "# настройка модели исходя из тестов\n",
    "model_DecisionTree = DecisionTreeClassifier(random_state=12345, max_depth=6)\n",
    "model_DecisionTree.fit(features_upsampled, target_upsampled)\n",
    "predictions_valid_DT = model_DecisionTree.predict(features_valid)\n",
    "\n",
    "probabilities_valid = model_DecisionTree.predict_proba(features_valid)\n",
    "probabilities_one_valid = probabilities_valid[:, 1]\n",
    "print(\"AUC ROC:\", roc_auc_score(target_valid, probabilities_one_valid))\n",
    "print(\"F1:\", f1_score(target_valid, predictions_valid_DT))"
   ]
  },
  {
   "cell_type": "markdown",
   "metadata": {},
   "source": [
    "----------\n",
    "При большом колличестве деревьев модель сильно переобучивается и показывает очень хорошие результатты на обучающей выборки и плохие на валидационной.\n",
    "\n",
    "При ручном подборе гипперпараметров наилучший результат по валидационной выборке был при max_depth=6.\n",
    "    \n",
    "---------"
   ]
  },
  {
   "cell_type": "markdown",
   "metadata": {},
   "source": [
    "### RandomForestClassifier"
   ]
  },
  {
   "cell_type": "code",
   "execution_count": 26,
   "metadata": {},
   "outputs": [
    {
     "name": "stderr",
     "output_type": "stream",
     "text": [
      "/opt/conda/lib/python3.7/site-packages/sklearn/ensemble/forest.py:245: FutureWarning: The default value of n_estimators will change from 10 in version 0.20 to 100 in 0.22.\n",
      "  \"10 in version 0.20 to 100 in 0.22.\", FutureWarning)\n"
     ]
    },
    {
     "name": "stdout",
     "output_type": "stream",
     "text": [
      "AUC ROC: 0.8406168610244258\n",
      "0.5984251968503936\n"
     ]
    }
   ],
   "source": [
    "# обучение модели и проверка на валидационной выбоки на сбалансированных данных\n",
    "model_RandomForest = RandomForestClassifier(random_state=12345)\n",
    "model_RandomForest.fit(features_upsampled, target_upsampled)       \n",
    "predictions = model_RandomForest.predict(features_train)\n",
    "predicted_valid = model_RandomForest.predict(features_valid)\n",
    "\n",
    "probabilities_valid = model_RandomForest.predict_proba(features_valid)\n",
    "probabilities_one_valid = probabilities_valid[:, 1]\n",
    "print(\"AUC ROC:\", roc_auc_score(target_valid, probabilities_one_valid))\n",
    "print(f1_score(target_valid, predicted_valid))"
   ]
  },
  {
   "cell_type": "code",
   "execution_count": 29,
   "metadata": {},
   "outputs": [
    {
     "name": "stdout",
     "output_type": "stream",
     "text": [
      "n_estimators = 15 : \n",
      "Результат проверки на обучающей  выборке 0.9975262832405689\n",
      "Результат проверки на валидационной выборке 0.5905707196029776\n",
      "Результат проверки при кросс-валидации 0.5773179913792441\n",
      "\n",
      "n_estimators = 16 : \n",
      "Результат проверки на обучающей  выборке 0.9978348283328178\n",
      "Результат проверки на валидационной выборке 0.5854922279792746\n",
      "Результат проверки при кросс-валидации 0.5636808459685752\n",
      "\n",
      "n_estimators = 17 : \n",
      "Результат проверки на обучающей  выборке 0.9972179289026275\n",
      "Результат проверки на валидационной выборке 0.594059405940594\n",
      "Результат проверки при кросс-валидации 0.5756510079531066\n",
      "\n",
      "n_estimators = 18 : \n",
      "Результат проверки на обучающей  выборке 0.9984524914887032\n",
      "Результат проверки на валидационной выборке 0.5751295336787563\n",
      "Результат проверки при кросс-валидации 0.5725352765464582\n",
      "\n",
      "n_estimators = 19 : \n",
      "Результат проверки на обучающей  выборке 0.9981435643564356\n",
      "Результат проверки на валидационной выборке 0.5975308641975309\n",
      "Результат проверки при кросс-валидации 0.5761384651327501\n",
      "\n",
      "n_estimators = 20 : \n",
      "Результат проверки на обучающей  выборке 0.9987616099071207\n",
      "Результат проверки на валидационной выборке 0.5906735751295337\n",
      "Результат проверки при кросс-валидации 0.5668583321268453\n",
      "\n",
      "n_estimators = 21 : \n",
      "Результат проверки на обучающей  выборке 0.9987616099071207\n",
      "Результат проверки на валидационной выборке 0.5954198473282443\n",
      "Результат проверки при кросс-валидации 0.5778217295313463\n",
      "\n",
      "n_estimators = 22 : \n",
      "Результат проверки на обучающей  выборке 0.9987616099071207\n",
      "Результат проверки на валидационной выборке 0.5947368421052631\n",
      "Результат проверки при кросс-валидации 0.5741056227960671\n",
      "\n",
      "n_estimators = 23 : \n",
      "Результат проверки на обучающей  выборке 0.9987616099071207\n",
      "Результат проверки на валидационной выборке 0.5927835051546392\n",
      "Результат проверки при кросс-валидации 0.5811293591088771\n",
      "\n",
      "n_estimators = 24 : \n",
      "Результат проверки на обучающей  выборке 0.9993804213135068\n",
      "Результат проверки на валидационной выборке 0.5916230366492147\n",
      "Результат проверки при кросс-валидации 0.5729891076419609\n",
      "\n",
      "n_estimators = 25 : \n",
      "Результат проверки на обучающей  выборке 0.9987616099071207\n",
      "Результат проверки на валидационной выборке 0.6075949367088608\n",
      "Результат проверки при кросс-валидации 0.5754166095940977\n",
      "\n",
      "n_estimators = 26 : \n",
      "Результат проверки на обучающей  выборке 0.9996901146575767\n",
      "Результат проверки на валидационной выборке 0.5900783289817232\n",
      "Результат проверки при кросс-валидации 0.5771408106620284\n",
      "\n",
      "n_estimators = 27 : \n",
      "Результат проверки на обучающей  выборке 0.9990709197894085\n",
      "Результат проверки на валидационной выборке 0.5948717948717949\n",
      "Результат проверки при кросс-валидации 0.5784413676979809\n",
      "\n",
      "n_estimators = 28 : \n",
      "Результат проверки на обучающей  выборке 0.9996901146575767\n",
      "Результат проверки на валидационной выборке 0.5922077922077922\n",
      "Результат проверки при кросс-валидации 0.5718616256618532\n",
      "\n",
      "n_estimators = 29 : \n",
      "Результат проверки на обучающей  выборке 0.9996901146575767\n",
      "Результат проверки на валидационной выборке 0.5984654731457801\n",
      "Результат проверки при кросс-валидации 0.5777026728606607\n",
      "\n",
      "n_estimators = 30 : \n",
      "Результат проверки на обучающей  выборке 1.0\n",
      "Результат проверки на валидационной выборке 0.5900783289817232\n",
      "Результат проверки при кросс-валидации 0.5747024547570435\n",
      "\n",
      "n_estimators = 31 : \n",
      "Результат проверки на обучающей  выборке 0.9996901146575767\n",
      "Результат проверки на валидационной выборке 0.6055979643765902\n",
      "Результат проверки при кросс-валидации 0.5776180586629553\n",
      "\n",
      "n_estimators = 32 : \n",
      "Результат проверки на обучающей  выборке 1.0\n",
      "Результат проверки на валидационной выборке 0.599483204134367\n",
      "Результат проверки при кросс-валидации 0.5734442085341468\n",
      "\n",
      "n_estimators = 33 : \n",
      "Результат проверки на обучающей  выборке 0.9996901146575767\n",
      "Результат проверки на валидационной выборке 0.6055979643765902\n",
      "Результат проверки при кросс-валидации 0.5815304207473929\n",
      "\n",
      "n_estimators = 34 : \n",
      "Результат проверки на обучающей  выборке 1.0\n",
      "Результат проверки на валидационной выборке 0.5943152454780362\n",
      "Результат проверки при кросс-валидации 0.5783828594901312\n",
      "\n"
     ]
    }
   ],
   "source": [
    "# проведем перебор параметров и обучение модели с помледующей проверкой результатов\n",
    "for estim in range(15, 35):\n",
    "    model_RandomForest = RandomForestClassifier(random_state=12345, max_depth=21, n_estimators=estim)\n",
    "    model_RandomForest.fit(features_upsampled, target_upsampled)       \n",
    "    predictions = model_RandomForest.predict(features_train)\n",
    "    scores = cross_val_score(model_RandomForest, features_train, target_train, cv=cv, scoring='f1').mean()   \n",
    "    print(\"n_estimators =\", estim, \": \")\n",
    "    print(\"Результат проверки на обучающей  выборке\", f1_score(target_train, predictions))\n",
    "    predictions = model_RandomForest.predict(features_valid)\n",
    "    print(\"Результат проверки на валидационной выборке\", f1_score(target_valid, predictions))\n",
    "    print(\"Результат проверки при кросс-валидации\", scores)\n",
    "    print()"
   ]
  },
  {
   "cell_type": "code",
   "execution_count": 30,
   "metadata": {},
   "outputs": [
    {
     "name": "stdout",
     "output_type": "stream",
     "text": [
      "AUC ROC: 0.8585783336070767\n",
      "0.6311475409836066\n"
     ]
    }
   ],
   "source": [
    "# настройка модели исходя из тестов\n",
    "model_RandomForest = RandomForestClassifier(random_state=12345, max_depth=10, n_estimators=21)\n",
    "model_RandomForest.fit(features_upsampled, target_upsampled)\n",
    "predictions_valid_RF = model_RandomForest.predict(features_valid)\n",
    "\n",
    "probabilities_valid = model_RandomForest.predict_proba(features_valid)\n",
    "probabilities_one_valid = probabilities_valid[:, 1]\n",
    "print(\"AUC ROC:\", roc_auc_score(target_valid, probabilities_one_valid))\n",
    "print(\"F1:\", f1_score(target_valid, predictions_valid_RF))"
   ]
  },
  {
   "cell_type": "code",
   "execution_count": 31,
   "metadata": {},
   "outputs": [
    {
     "name": "stdout",
     "output_type": "stream",
     "text": [
      "{'RandomForestClassifier': 0.5578894042465472, 'DecisionTree': 0.5456403829094709, 'LogisticRegression': 0.3013954402980488}\n"
     ]
    },
    {
     "data": {
      "text/plain": [
       "<matplotlib.axes._subplots.AxesSubplot at 0x7f4b01001910>"
      ]
     },
     "execution_count": 31,
     "metadata": {},
     "output_type": "execute_result"
    },
    {
     "data": {
      "image/png": "[encoded data removed]",
      "text/plain": [
       "<Figure size 432x288 with 1 Axes>"
      ]
     },
     "metadata": {
      "needs_background": "light"
     },
     "output_type": "display_data"
    }
   ],
   "source": [
    "itog_val = {} #словарь для записи результатов кросс валидации разных алгоритмов\n",
    "scores = cross_val_score(model_RandomForest, features_train, target_train, cv=cv, scoring='f1')\n",
    "itog_val['RandomForestClassifier'] = scores.mean()\n",
    "scores = cross_val_score(model_DecisionTree, features_train, target_train, cv=cv, scoring='f1')\n",
    "itog_val['DecisionTree'] = scores.mean()\n",
    "scores = cross_val_score(model_LogisticRegression, features_train, target_train, cv=cv, scoring='f1')\n",
    "itog_val['LogisticRegression'] = scores.mean()\n",
    "print(itog_val)\n",
    "\n",
    "pd.DataFrame.from_dict(data=itog_val, orient='index').plot(kind='bar', legend=False)"
   ]
  },
  {
   "cell_type": "markdown",
   "metadata": {},
   "source": [
    "----------\n",
    "## Вывод:\n",
    "\n",
    "На данном этапе я обучил и проверил работу 3 моделей, также проверил данные на валиджационной выборке.\n",
    "\n",
    "Желаемый результат получилось достичь только с помощью RandomForestClassifier.\n",
    "\n",
    "На следующем этапе проведем ещё одно тестирование на тестовой выборке и проверим модели на адекватность.\n",
    "    \n",
    "---------"
   ]
  },
  {
   "cell_type": "markdown",
   "metadata": {},
   "source": [
    "# 4. Тестирование модели"
   ]
  },
  {
   "cell_type": "code",
   "execution_count": 32,
   "metadata": {},
   "outputs": [],
   "source": [
    "test_score = {}"
   ]
  },
  {
   "cell_type": "markdown",
   "metadata": {},
   "source": [
    "### LogisticRegression"
   ]
  },
  {
   "cell_type": "code",
   "execution_count": 33,
   "metadata": {},
   "outputs": [
    {
     "name": "stdout",
     "output_type": "stream",
     "text": [
      "0.4991452991452992\n",
      "0.7825071531632878\n"
     ]
    }
   ],
   "source": [
    "# Проверка рещуьтатов на тестовой выборке\n",
    "predictions_test_LR = model_LogisticRegression.predict(features_test)\n",
    "f1 = f1_score(target_test, predictions_test_LR)\n",
    "print(f1)\n",
    "\n",
    "probabilities_test = model_LogisticRegression.predict_proba(features_test)\n",
    "probabilities_one_test = probabilities_test[:, 1]\n",
    "\n",
    "auc_roc = roc_auc_score(target_test, probabilities_one_test)\n",
    "print(auc_roc)\n",
    "test_score['LogisticRegression'] = [f1 , auc_roc]"
   ]
  },
  {
   "cell_type": "markdown",
   "metadata": {},
   "source": [
    "### DecisionTreeClassifier"
   ]
  },
  {
   "cell_type": "code",
   "execution_count": 34,
   "metadata": {},
   "outputs": [
    {
     "name": "stdout",
     "output_type": "stream",
     "text": [
      "0.5660377358490567\n",
      "0.8409949622166247\n"
     ]
    }
   ],
   "source": [
    "# Проверка рещуьтатов на тестовой выборке\n",
    "predictions_test_DT = model_DecisionTree.predict(features_test)\n",
    "f1 = f1_score(target_test, predictions_test_DT)\n",
    "print(f1)\n",
    "\n",
    "probabilities_test = model_DecisionTree.predict_proba(features_test)\n",
    "probabilities_one_test = probabilities_test[:, 1]\n",
    "\n",
    "auc_roc = roc_auc_score(target_test, probabilities_one_test)\n",
    "print(auc_roc)\n",
    "test_score['DecisionTreeClassifier'] = [f1 , auc_roc]"
   ]
  },
  {
   "cell_type": "markdown",
   "metadata": {},
   "source": [
    "### RandomForestClassifier"
   ]
  },
  {
   "cell_type": "code",
   "execution_count": 35,
   "metadata": {},
   "outputs": [
    {
     "name": "stdout",
     "output_type": "stream",
     "text": [
      "0.5933609958506224\n",
      "0.8565454500990438\n"
     ]
    }
   ],
   "source": [
    "# Проверка рещуьтатов на тестовой выборке\n",
    "predictions_test_RF = model_RandomForest.predict(features_test)\n",
    "f1 = f1_score(target_test, predictions_test_RF)\n",
    "print(f1)\n",
    "\n",
    "probabilities_test = model_RandomForest.predict_proba(features_test)\n",
    "probabilities_one_test = probabilities_test[:, 1]\n",
    "\n",
    "auc_roc = roc_auc_score(target_test, probabilities_one_test)\n",
    "print(auc_roc)\n",
    "test_score['RandomForestClassifier'] = [f1 , auc_roc]"
   ]
  },
  {
   "cell_type": "markdown",
   "metadata": {},
   "source": [
    "### Проверка на адекватность"
   ]
  },
  {
   "cell_type": "code",
   "execution_count": 36,
   "metadata": {},
   "outputs": [
    {
     "name": "stdout",
     "output_type": "stream",
     "text": [
      "[0.3416252072968491, 0.2950354609929078, 0.3225806451612903]\n"
     ]
    },
    {
     "data": {
      "image/png": "[encoded data removed]",
      "text/plain": [
       "<Figure size 432x288 with 1 Axes>"
      ]
     },
     "metadata": {
      "needs_background": "light"
     },
     "output_type": "display_data"
    }
   ],
   "source": [
    "strategies = ['most_frequent', 'stratified', 'uniform']\n",
    "test_scores = []\n",
    "\n",
    "for s in strategies:\n",
    "    dummy_clf = DummyClassifier(strategy=s, random_state=12345)\n",
    "    dummy_clf.fit(features_upsampled, target_upsampled)\n",
    "    score = dummy_clf.score(features_test,  target_test)\n",
    "    predict = dummy_clf.predict(features_test)\n",
    "    f1 = f1_score(target_test, predict)\n",
    "    test_scores.append(f1)\n",
    "    \n",
    "print(test_scores)\n",
    "ax = sns.stripplot(strategies, test_scores);\n",
    "ax.set(xlabel ='Strategy', ylabel ='Test Score')\n",
    "plt.show()"
   ]
  },
  {
   "cell_type": "code",
   "execution_count": 37,
   "metadata": {},
   "outputs": [
    {
     "data": {
      "text/html": [
       "<div>\n",
       "<style scoped>\n",
       "    .dataframe tbody tr th:only-of-type {\n",
       "        vertical-align: middle;\n",
       "    }\n",
       "\n",
       "    .dataframe tbody tr th {\n",
       "        vertical-align: top;\n",
       "    }\n",
       "\n",
       "    .dataframe thead th {\n",
       "        text-align: right;\n",
       "    }\n",
       "</style>\n",
       "<table border=\"1\" class=\"dataframe\">\n",
       "  <thead>\n",
       "    <tr style=\"text-align: right;\">\n",
       "      <th></th>\n",
       "      <th>F1</th>\n",
       "      <th>AUC</th>\n",
       "    </tr>\n",
       "  </thead>\n",
       "  <tbody>\n",
       "    <tr>\n",
       "      <td>LogisticRegression</td>\n",
       "      <td>0.499145</td>\n",
       "      <td>0.782507</td>\n",
       "    </tr>\n",
       "    <tr>\n",
       "      <td>DecisionTreeClassifier</td>\n",
       "      <td>0.566038</td>\n",
       "      <td>0.840995</td>\n",
       "    </tr>\n",
       "    <tr>\n",
       "      <td>RandomForestClassifier</td>\n",
       "      <td>0.593361</td>\n",
       "      <td>0.856545</td>\n",
       "    </tr>\n",
       "  </tbody>\n",
       "</table>\n",
       "</div>"
      ],
      "text/plain": [
       "                              F1       AUC\n",
       "LogisticRegression      0.499145  0.782507\n",
       "DecisionTreeClassifier  0.566038  0.840995\n",
       "RandomForestClassifier  0.593361  0.856545"
      ]
     },
     "execution_count": 37,
     "metadata": {},
     "output_type": "execute_result"
    }
   ],
   "source": [
    "columns = ['F1', 'AUC']\n",
    "df_score = pd.DataFrame.from_dict(data=test_score, columns=columns, orient='index')\n",
    "df_score"
   ]
  },
  {
   "cell_type": "markdown",
   "metadata": {},
   "source": [
    "----------\n",
    "## Общий вывод:\n",
    "\n",
    "Проверка на адекватность показала,что результат работы обченной модели лучше случайных результатов.\n",
    "\n",
    "Лучший результат показвыаает модель RandomForest результат на тестовой выборке 0.59, на валидационной 0,64\n",
    "Хорошее качество модели также подтверждает и AUC-ROC 0.86. Максимальный среди всех моделей.\n",
    "    \n",
    "---------"
   ]
  },
  {
   "cell_type": "markdown",
   "metadata": {},
   "source": [
    "<font color='green'>Лучшая модель выбирается по качеству на валидационной выборке, поэтому итоговая модель – RandomForest, обученный на выборке после upsampling. Качество этой модели на тестовой выборке – 0.59, значит, требование задачи выполнено.</font>\n"
   ]
  },
  {
   "cell_type": "markdown",
   "metadata": {},
   "source": [
    "# Чек-лист готовности проекта"
   ]
  },
  {
   "cell_type": "markdown",
   "metadata": {},
   "source": [
    "Поставьте 'x' в выполненных пунктах. Далее нажмите Shift+Enter."
   ]
  },
  {
   "cell_type": "markdown",
   "metadata": {},
   "source": [
    "- [x]  Jupyter Notebook открыт\n",
    "- [x]  Весь код выполняется без ошибок\n",
    "- [x]  Ячейки с кодом расположены в порядке исполнения\n",
    "- [x]  Выполнен шаг 1: данные подготовлены\n",
    "- [x]  Выполнен шаг 2: задача исследована\n",
    "    - [x]  Исследован баланс классов\n",
    "    - [x]  Изучены модели без учёта дисбаланса\n",
    "    - [x]  Написаны выводы по результатам исследования\n",
    "- [x]  Выполнен шаг 3: учтён дисбаланс\n",
    "    - [x]  Применено несколько способов борьбы с дисбалансом\n",
    "    - [x]  Написаны выводы по результатам исследования\n",
    "- [x]  Выполнен шаг 4: проведено тестирование\n",
    "- [x]  Удалось достичь *F1*-меры не менее 0.59\n",
    "- [x]  Исследована метрика *AUC-ROC*"
   ]
  }
 ],
 "metadata": {
  "kernelspec": {
   "display_name": "Python 3 (ipykernel)",
   "language": "python",
   "name": "python3"
  },
  "language_info": {
   "codemirror_mode": {
    "name": "ipython",
    "version": 3
   },
   "file_extension": ".py",
   "mimetype": "text/x-python",
   "name": "python",
   "nbconvert_exporter": "python",
   "pygments_lexer": "ipython3",
   "version": "3.9.13"
  }
 },
 "nbformat": 4,
 "nbformat_minor": 2
}
